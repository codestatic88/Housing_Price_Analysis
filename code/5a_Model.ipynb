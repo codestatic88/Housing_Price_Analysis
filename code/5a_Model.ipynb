{
 "cells": [
  {
   "cell_type": "markdown",
   "id": "abd6a20c",
   "metadata": {},
   "source": [
    "# Import Libraries"
   ]
  },
  {
   "cell_type": "code",
   "execution_count": 43,
   "id": "daf83975",
   "metadata": {},
   "outputs": [],
   "source": [
    "# Import Libaries\n",
    "import pandas as pd\n",
    "import numpy as np\n",
    "from sklearn.model_selection import train_test_split, cross_val_score\n",
    "from sklearn.linear_model import LinearRegression, Lasso, Ridge\n",
    "from sklearn.metrics import mean_squared_error, r2_score \n",
    "from sklearn.preprocessing import StandardScaler\n",
    "from sklearn.model_selection import GridSearchCV\n",
    "from sklearn.pipeline import Pipeline\n",
    "\n",
    "pd.set_option('display.max_columns', None)"
   ]
  },
  {
   "cell_type": "markdown",
   "id": "8ca203cd",
   "metadata": {},
   "source": [
    "# Load Dataset"
   ]
  },
  {
   "cell_type": "code",
   "execution_count": 3,
   "id": "fb2724a2",
   "metadata": {},
   "outputs": [],
   "source": [
    "# Load in Dataset\n",
    "combined_resale_encode_df = pd.read_pickle('../assets/data_clean/resale_combine_encode_clean.pkl')"
   ]
  },
  {
   "cell_type": "code",
   "execution_count": 4,
   "id": "f904c581",
   "metadata": {},
   "outputs": [
    {
     "name": "stdout",
     "output_type": "stream",
     "text": [
      "<class 'pandas.core.frame.DataFrame'>\n",
      "RangeIndex: 903393 entries, 0 to 903392\n",
      "Data columns (total 354 columns):\n",
      " #    Column                                 Dtype  \n",
      "---   ------                                 -----  \n",
      " 0    floor_area_sqm                         float64\n",
      " 1    lease_commence_date                    int64  \n",
      " 2    resale_price                           float64\n",
      " 3    remaining_lease                        int64  \n",
      " 4    longitude                              float64\n",
      " 5    latitude                               float64\n",
      " 6    month                                  int64  \n",
      " 7    year                                   int64  \n",
      " 8    P1_employed                            float64\n",
      " 9    P1_unemployed                          float64\n",
      " 10   P1_inactive                            float64\n",
      " 11   P2_pre_primary                         float64\n",
      " 12   P2_primary                             float64\n",
      " 13   P2_secondary                           float64\n",
      " 14   P2_post_secondary                      float64\n",
      " 15   P2_polytechnic                         float64\n",
      " 16   P2_prof_qualification_diploma          float64\n",
      " 17   P2_university                          float64\n",
      " 18   P3_chinese                             float64\n",
      " 19   P3_malays                              float64\n",
      " 20   P3_indian                              float64\n",
      " 21   P3_others                              float64\n",
      " 22   P4_total                               float64\n",
      " 23   P4_below_sgd_1000                      float64\n",
      " 24   P4_no_working_person                   float64\n",
      " 25   P4_sgd_10000_over                      float64\n",
      " 26   P4_sgd_10000_to_10999                  float64\n",
      " 27   P4_sgd_11000_to_11999                  float64\n",
      " 28   P4_sgd_1000_to_1999                    float64\n",
      " 29   P4_sgd_12000_to_12999                  float64\n",
      " 30   P4_sgd_13000_to_13999                  float64\n",
      " 31   P4_sgd_14000_to_14999                  float64\n",
      " 32   P4_sgd_15000_to_17499                  float64\n",
      " 33   P4_sgd_17500_to_19999                  float64\n",
      " 34   P4_sgd_20000_over                      float64\n",
      " 35   P4_sgd_2000_to_2999                    float64\n",
      " 36   P4_sgd_3000_to_3999                    float64\n",
      " 37   P4_sgd_4000_to_4999                    float64\n",
      " 38   P4_sgd_5000_to_5999                    float64\n",
      " 39   P4_sgd_6000_to_6999                    float64\n",
      " 40   P4_sgd_7000_to_7999                    float64\n",
      " 41   P4_sgd_8000_over                       float64\n",
      " 42   P4_sgd_8000_to_8999                    float64\n",
      " 43   P4_sgd_9000_to_9999                    float64\n",
      " 44   P5_no_family_nucleus                   float64\n",
      " 45   P5_ofn_1_gen                           float64\n",
      " 46   P5_ofn_2_gen                           float64\n",
      " 47   P5_ofn_3_more_gen                      float64\n",
      " 48   P5_tfn_1to2_gen                        float64\n",
      " 49   P5_tfn_3_more_gen                      float64\n",
      " 50   P5_three_more_fam_nucleus              float64\n",
      " 51   P6_total                               float64\n",
      " 52   P6_below_sgd_1000                      float64\n",
      " 53   P6_sgd_10000_to_10999                  float64\n",
      " 54   P6_sgd_11000_to_11999                  float64\n",
      " 55   P6_sgd_12000_over                      float64\n",
      " 56   P6_sgd_1000_to_1499                    float64\n",
      " 57   P6_sgd_1000_to_1999                    float64\n",
      " 58   P6_sgd_2000_to_2499                    float64\n",
      " 59   P6_sgd_2500_to_2999                    float64\n",
      " 60   P6_sgd_3000_to_3999                    float64\n",
      " 61   P6_sgd_4000_to_4999                    float64\n",
      " 62   P6_sgd_5000_to_5999                    float64\n",
      " 63   P6_sgd_6000_over                       float64\n",
      " 64   P6_sgd_6000_to_6999                    float64\n",
      " 65   P6_sgd_7000_to_7999                    float64\n",
      " 66   P6_sgd_8000_over                       float64\n",
      " 67   P6_sgd_8000_to_8999                    float64\n",
      " 68   P6_sgd_9000_to_9999                    float64\n",
      " 69   P6_sgd_1000_to_1999.1                  float64\n",
      " 70   P6_sgd_2000_to_2999                    float64\n",
      " 71   P6_sgd_12000_14999                     float64\n",
      " 72   P6_sgd_15000_over                      float64\n",
      " 73   P7_manufacturing                       float64\n",
      " 74   P7_construction                        float64\n",
      " 75   P7_wholesale_retail_trade              float64\n",
      " 76   P7_transportation_storage              float64\n",
      " 77   P7_accommodation_food_services         float64\n",
      " 78   P7_information_communications          float64\n",
      " 79   P7_financial_insurance_services        float64\n",
      " 80   P7_real_estate_services                float64\n",
      " 81   P7_professional_services               float64\n",
      " 82   P7_admin_support_services              float64\n",
      " 83   P7_public_admin_education              float64\n",
      " 84   P7_health_social_services              float64\n",
      " 85   P7_arts_entertainment_recreation       float64\n",
      " 86   P7_other_comm_social_personal          float64\n",
      " 87   P7_others                              float64\n",
      " 88   P7_hotels_restaurants                  float64\n",
      " 89   P7_transport_communications            float64\n",
      " 90   P7_business_services                   float64\n",
      " 91   P7_other_services_industries           float64\n",
      " 92   P8_no_literate                         float64\n",
      " 93   P8_l1_chi                              float64\n",
      " 94   P8_l1_eng                              float64\n",
      " 95   P8_l1_mal                              float64\n",
      " 96   P8_l1_tam                              float64\n",
      " 97   P8_l1_non_off                          float64\n",
      " 98   P8_l2_eng_chi                          float64\n",
      " 99   P8_l2_eng_mal                          float64\n",
      " 100  P8_l2_eng_tam                          float64\n",
      " 101  P8_l2_other_two                        float64\n",
      " 102  P8_l3_eng_chi_mal                      float64\n",
      " 103  P8_l3_eng_mal_tam                      float64\n",
      " 104  P8_l3_other_three                      float64\n",
      " 105  P8_l2_eng_non_off                      float64\n",
      " 106  P9_no_literate                         float64\n",
      " 107  P9_l1_chi                              float64\n",
      " 108  P9_l1_eng                              float64\n",
      " 109  P9_l1_mal                              float64\n",
      " 110  P9_l1_tam                              float64\n",
      " 111  P9_l1_non_off                          float64\n",
      " 112  P9_l2_eng_chi                          float64\n",
      " 113  P9_l2_eng_mal                          float64\n",
      " 114  P9_l2_eng_tam                          float64\n",
      " 115  P9_l2_other_two                        float64\n",
      " 116  P9_l3_eng_chi_mal                      float64\n",
      " 117  P9_l3_eng_mal_tam                      float64\n",
      " 118  P9_l3_other_three                      float64\n",
      " 119  P9_l2_eng_non_off                      float64\n",
      " 120  P10_bus                                float64\n",
      " 121  P10_mrt                                float64\n",
      " 122  P10_mrt_bus                            float64\n",
      " 123  P10_mrt_car                            float64\n",
      " 124  P10_mrt_other                          float64\n",
      " 125  P10_taxi                               float64\n",
      " 126  P10_car                                float64\n",
      " 127  P10_pvt_chartered_bus                  float64\n",
      " 128  P10_lorry_pickup                       float64\n",
      " 129  P10_motorcycle_scooter                 float64\n",
      " 130  P10_others                             float64\n",
      " 131  P10_no_transport_required              float64\n",
      " 132  P10_other_combi_mrt_or_bus             float64\n",
      " 133  P10_mrt_lrt_only                       float64\n",
      " 134  P10_mrt_lrt_and_bus                    float64\n",
      " 135  P10_other_combi_mrt_lrt_or_bus         float64\n",
      " 136  P10_taxi_pvt_hire_car_only             float64\n",
      " 137  P10_pvt_chartered_bus_van              float64\n",
      " 138  P11_bus                                float64\n",
      " 139  P11_mrt                                float64\n",
      " 140  P11_mrt_bus                            float64\n",
      " 141  P11_mrt_car                            float64\n",
      " 142  P11_mrt_other                          float64\n",
      " 143  P11_taxi                               float64\n",
      " 144  P11_car                                float64\n",
      " 145  P11_pvt_chartered_bus                  float64\n",
      " 146  P11_lorry_pickup                       float64\n",
      " 147  P11_motorcycle_scooter                 float64\n",
      " 148  P11_others                             float64\n",
      " 149  P11_no_transport_required              float64\n",
      " 150  P11_other_combi_mrt_or_bus             float64\n",
      " 151  P11_mrt_lrt_only                       float64\n",
      " 152  P11_mrt_lrt_and_bus                    float64\n",
      " 153  P11_other_combi_mrt_lrt_or_bus         float64\n",
      " 154  P11_taxi_pvt_hire_car_only             float64\n",
      " 155  P11_pvt_chartered_bus_van              float64\n",
      " 156  P12_age_0_4                            float64\n",
      " 157  P12_age_5_9                            float64\n",
      " 158  P12_age_10_14                          float64\n",
      " 159  P12_age_15_19                          float64\n",
      " 160  P12_age_20_24                          float64\n",
      " 161  P12_age_25_29                          float64\n",
      " 162  P12_age_30_34                          float64\n",
      " 163  P12_age_35_39                          float64\n",
      " 164  P12_age_40_44                          float64\n",
      " 165  P12_age_45_49                          float64\n",
      " 166  P12_age_50_54                          float64\n",
      " 167  P12_age_55_59                          float64\n",
      " 168  P12_age_60_64                          float64\n",
      " 169  P12_age_65_69                          float64\n",
      " 170  P12_age_70_74                          float64\n",
      " 171  P12_age_75_79                          float64\n",
      " 172  P12_age_80_84                          float64\n",
      " 173  P12_age_85_over                        float64\n",
      " 174  P13_no_religion                        float64\n",
      " 175  P13_buddhism                           float64\n",
      " 176  P13_taoism                             float64\n",
      " 177  P13_islam                              float64\n",
      " 178  P13_hinduism                           float64\n",
      " 179  P13_sikhism                            float64\n",
      " 180  P13_catholic_christian                 float64\n",
      " 181  P13_other_christians                   float64\n",
      " 182  P13_other_religions                    float64\n",
      " 183  P14_english                            float64\n",
      " 184  P14_mandarin                           float64\n",
      " 185  P14_chinese_dialects                   float64\n",
      " 186  P14_malay                              float64\n",
      " 187  P14_tamil                              float64\n",
      " 188  P14_other_indian_languages             float64\n",
      " 189  P14_others                             float64\n",
      " 190  P14_eng_mand                           float64\n",
      " 191  P14_eng_chn_dlt                        float64\n",
      " 192  P14_eng_mly                            float64\n",
      " 193  P14_eng_oth_ind_lang                   float64\n",
      " 194  P14_eng_oth_lang                       float64\n",
      " 195  P14_mand_eng                           float64\n",
      " 196  P14_mand_chn_dlt                       float64\n",
      " 197  P14_mand_oth_lang                      float64\n",
      " 198  P14_chn_dlt_eng                        float64\n",
      " 199  P14_chn_dlt_mand                       float64\n",
      " 200  P14_chn_dlt_oth_lang                   float64\n",
      " 201  P14_mly_eng                            float64\n",
      " 202  P14_mly_oth_lang                       float64\n",
      " 203  P14_tml_eng                            float64\n",
      " 204  P14_tml_oth_lang                       float64\n",
      " 205  P14_oth_ind_lang_eng                   float64\n",
      " 206  P14_oth_ind_lang_oth_lang              float64\n",
      " 207  P14_oth_lang_eng                       float64\n",
      " 208  P14_oth_ind_lang_oth_lang.1            float64\n",
      " 209  P14_oth_lang_oth_non_eng_lang          float64\n",
      " 210  P14_eng_tml                            float64\n",
      " 211  P15_owner                              float64\n",
      " 212  P15_tenant                             float64\n",
      " 213  P15_others                             float64\n",
      " 214  P16_hdb_1_and_2_room_flats             float64\n",
      " 215  P16_hdb_3_room_flats                   float64\n",
      " 216  P16_hdb_4_room_flats                   float64\n",
      " 217  P16_hdb_5_room_and_executive_flats     float64\n",
      " 218  P16_condominiums_and_other_apartments  float64\n",
      " 219  P16_landed_properties                  float64\n",
      " 220  P16_others                             float64\n",
      " 221  P16_total_hdb                          float64\n",
      " 222  P17_hdb_1_and_2_room_flats             float64\n",
      " 223  P17_hdb_3_room_flats                   float64\n",
      " 224  P17_hdb_4_room_flats                   float64\n",
      " 225  P17_hdb_5_room_and_executive_flats     float64\n",
      " 226  P17_condominiums_and_other_apartments  float64\n",
      " 227  P17_landed_properties                  float64\n",
      " 228  P17_others                             float64\n",
      " 229  P17_total_hdb                          float64\n",
      " 230  P17_total                              float64\n",
      " 231  town_BEDOK                             uint8  \n",
      " 232  town_BISHAN                            uint8  \n",
      " 233  town_BUKIT BATOK                       uint8  \n",
      " 234  town_BUKIT MERAH                       uint8  \n",
      " 235  town_BUKIT PANJANG                     uint8  \n",
      " 236  town_BUKIT TIMAH                       uint8  \n",
      " 237  town_CENTRAL AREA                      uint8  \n",
      " 238  town_CHOA CHU KANG                     uint8  \n",
      " 239  town_CLEMENTI                          uint8  \n",
      " 240  town_GEYLANG                           uint8  \n",
      " 241  town_HOUGANG                           uint8  \n",
      " 242  town_JURONG EAST                       uint8  \n",
      " 243  town_JURONG WEST                       uint8  \n",
      " 244  town_KALLANG/WHAMPOA                   uint8  \n",
      " 245  town_LIM CHU KANG                      uint8  \n",
      " 246  town_MARINE PARADE                     uint8  \n",
      " 247  town_PASIR RIS                         uint8  \n",
      " 248  town_PUNGGOL                           uint8  \n",
      " 249  town_QUEENSTOWN                        uint8  \n",
      " 250  town_SEMBAWANG                         uint8  \n",
      " 251  town_SENGKANG                          uint8  \n",
      " 252  town_SERANGOON                         uint8  \n",
      " 253  town_TAMPINES                          uint8  \n",
      " 254  town_TOA PAYOH                         uint8  \n",
      " 255  town_WOODLANDS                         uint8  \n",
      " 256  town_YISHUN                            uint8  \n",
      " 257  flat_type_2 ROOM                       uint8  \n",
      " 258  flat_type_3 ROOM                       uint8  \n",
      " 259  flat_type_4 ROOM                       uint8  \n",
      " 260  flat_type_5 ROOM                       uint8  \n",
      " 261  flat_type_EXECUTIVE                    uint8  \n",
      " 262  flat_type_MULTI GENERATION             uint8  \n",
      " 263  flat_type_MULTI-GENERATION             uint8  \n",
      " 264  storey_range_01 TO 05                  uint8  \n",
      " 265  storey_range_04 TO 06                  uint8  \n",
      " 266  storey_range_06 TO 10                  uint8  \n",
      " 267  storey_range_07 TO 09                  uint8  \n",
      " 268  storey_range_10 TO 12                  uint8  \n",
      " 269  storey_range_11 TO 15                  uint8  \n",
      " 270  storey_range_13 TO 15                  uint8  \n",
      " 271  storey_range_16 TO 18                  uint8  \n",
      " 272  storey_range_16 TO 20                  uint8  \n",
      " 273  storey_range_19 TO 21                  uint8  \n",
      " 274  storey_range_21 TO 25                  uint8  \n",
      " 275  storey_range_22 TO 24                  uint8  \n",
      " 276  storey_range_25 TO 27                  uint8  \n",
      " 277  storey_range_26 TO 30                  uint8  \n",
      " 278  storey_range_28 TO 30                  uint8  \n",
      " 279  storey_range_31 TO 33                  uint8  \n",
      " 280  storey_range_31 TO 35                  uint8  \n",
      " 281  storey_range_34 TO 36                  uint8  \n",
      " 282  storey_range_36 TO 40                  uint8  \n",
      " 283  storey_range_37 TO 39                  uint8  \n",
      " 284  storey_range_40 TO 42                  uint8  \n",
      " 285  storey_range_43 TO 45                  uint8  \n",
      " 286  storey_range_46 TO 48                  uint8  \n",
      " 287  storey_range_49 TO 51                  uint8  \n",
      " 288  flat_model_2-room                      uint8  \n",
      " 289  flat_model_3Gen                        uint8  \n",
      " 290  flat_model_APARTMENT                   uint8  \n",
      " 291  flat_model_Adjoined flat               uint8  \n",
      " 292  flat_model_Apartment                   uint8  \n",
      " 293  flat_model_DBSS                        uint8  \n",
      " 294  flat_model_IMPROVED                    uint8  \n",
      " 295  flat_model_IMPROVED-MAISONETTE         uint8  \n",
      " 296  flat_model_Improved                    uint8  \n",
      " 297  flat_model_Improved-Maisonette         uint8  \n",
      " 298  flat_model_MAISONETTE                  uint8  \n",
      " 299  flat_model_MODEL A                     uint8  \n",
      " 300  flat_model_MODEL A-MAISONETTE          uint8  \n",
      " 301  flat_model_MULTI GENERATION            uint8  \n",
      " 302  flat_model_Maisonette                  uint8  \n",
      " 303  flat_model_Model A                     uint8  \n",
      " 304  flat_model_Model A-Maisonette          uint8  \n",
      " 305  flat_model_Model A2                    uint8  \n",
      " 306  flat_model_Multi Generation            uint8  \n",
      " 307  flat_model_NEW GENERATION              uint8  \n",
      " 308  flat_model_New Generation              uint8  \n",
      " 309  flat_model_PREMIUM APARTMENT           uint8  \n",
      " 310  flat_model_Premium Apartment           uint8  \n",
      " 311  flat_model_Premium Apartment Loft      uint8  \n",
      " 312  flat_model_Premium Maisonette          uint8  \n",
      " 313  flat_model_SIMPLIFIED                  uint8  \n",
      " 314  flat_model_STANDARD                    uint8  \n",
      " 315  flat_model_Simplified                  uint8  \n",
      " 316  flat_model_Standard                    uint8  \n",
      " 317  flat_model_TERRACE                     uint8  \n",
      " 318  flat_model_Terrace                     uint8  \n",
      " 319  flat_model_Type S1                     uint8  \n",
      " 320  flat_model_Type S2                     uint8  \n",
      " 321  planning_area_BEDOK                    uint8  \n",
      " 322  planning_area_BISHAN                   uint8  \n",
      " 323  planning_area_BUKIT BATOK              uint8  \n",
      " 324  planning_area_BUKIT MERAH              uint8  \n",
      " 325  planning_area_BUKIT PANJANG            uint8  \n",
      " 326  planning_area_BUKIT TIMAH              uint8  \n",
      " 327  planning_area_CHANGI                   uint8  \n",
      " 328  planning_area_CHOA CHU KANG            uint8  \n",
      " 329  planning_area_CLEMENTI                 uint8  \n",
      " 330  planning_area_DOWNTOWN CORE            uint8  \n",
      " 331  planning_area_GEYLANG                  uint8  \n",
      " 332  planning_area_HOUGANG                  uint8  \n",
      " 333  planning_area_JURONG EAST              uint8  \n",
      " 334  planning_area_JURONG WEST              uint8  \n",
      " 335  planning_area_KALLANG                  uint8  \n",
      " 336  planning_area_LIM CHU KANG             uint8  \n",
      " 337  planning_area_MARINE PARADE            uint8  \n",
      " 338  planning_area_NOVENA                   uint8  \n",
      " 339  planning_area_OUTRAM                   uint8  \n",
      " 340  planning_area_PASIR RIS                uint8  \n",
      " 341  planning_area_PUNGGOL                  uint8  \n",
      " 342  planning_area_QUEENSTOWN               uint8  \n",
      " 343  planning_area_ROCHOR                   uint8  \n",
      " 344  planning_area_SEMBAWANG                uint8  \n",
      " 345  planning_area_SENGKANG                 uint8  \n",
      " 346  planning_area_SERANGOON                uint8  \n",
      " 347  planning_area_SUNGEI KADUT             uint8  \n",
      " 348  planning_area_TAMPINES                 uint8  \n",
      " 349  planning_area_TANGLIN                  uint8  \n",
      " 350  planning_area_TOA PAYOH                uint8  \n",
      " 351  planning_area_TUAS                     uint8  \n",
      " 352  planning_area_WOODLANDS                uint8  \n",
      " 353  planning_area_YISHUN                   uint8  \n",
      "dtypes: float64(227), int64(4), uint8(123)\n",
      "memory usage: 1.7 GB\n"
     ]
    }
   ],
   "source": [
    "combined_resale_encode_df.info(verbose = True) "
   ]
  },
  {
   "cell_type": "markdown",
   "id": "9b50fac9",
   "metadata": {},
   "source": [
    "# Plot Baseline Model"
   ]
  },
  {
   "cell_type": "markdown",
   "id": "ad98aa35",
   "metadata": {},
   "source": [
    "## Linear Regression Model"
   ]
  },
  {
   "cell_type": "code",
   "execution_count": 5,
   "id": "f9f58828",
   "metadata": {},
   "outputs": [],
   "source": [
    "# Get all columns\n",
    "all_column = combined_resale_encode_df.columns.tolist()\n",
    "\n",
    "# Remove resale price from all_column \n",
    "all_column.remove('resale_price')\n",
    "\n",
    "# Set feature list\n",
    "features = all_column\n",
    "\n",
    "# Set Feature\n",
    "X = combined_resale_encode_df[features]\n",
    "\n",
    "# Set Target Variable\n",
    "y = combined_resale_encode_df['resale_price']"
   ]
  },
  {
   "cell_type": "code",
   "execution_count": 6,
   "id": "0fec1382",
   "metadata": {},
   "outputs": [],
   "source": [
    "# Create Train Test Split \n",
    "X_train, X_test, y_train, y_test = train_test_split(X, y, test_size=0.2, random_state=123)"
   ]
  },
  {
   "cell_type": "code",
   "execution_count": 7,
   "id": "068e73a7",
   "metadata": {},
   "outputs": [],
   "source": [
    "# Instantiate Linear Regression Model\n",
    "lr = LinearRegression()"
   ]
  },
  {
   "cell_type": "code",
   "execution_count": 18,
   "id": "dcc98eed",
   "metadata": {},
   "outputs": [],
   "source": [
    "# Standardise the predictors\n",
    "# Instantiating Standard Scaler\n",
    "sc = StandardScaler()\n",
    "\n",
    "# Standardise Predictors\n",
    "Z_train = sc.fit_transform(X_train) # standard normal distribution\n",
    "Z_test = sc.transform(X_test)"
   ]
  },
  {
   "cell_type": "code",
   "execution_count": 19,
   "id": "d6cd2dde",
   "metadata": {},
   "outputs": [
    {
     "data": {
      "text/plain": [
       "LinearRegression()"
      ]
     },
     "execution_count": 19,
     "metadata": {},
     "output_type": "execute_result"
    }
   ],
   "source": [
    "# Fit the model\n",
    "lr.fit(Z_train,y_train)"
   ]
  },
  {
   "cell_type": "code",
   "execution_count": 20,
   "id": "9578ae94",
   "metadata": {},
   "outputs": [],
   "source": [
    "# Generate predictions.\n",
    "preds = lr.predict(Z_test)"
   ]
  },
  {
   "cell_type": "code",
   "execution_count": 22,
   "id": "246acec9",
   "metadata": {},
   "outputs": [
    {
     "name": "stdout",
     "output_type": "stream",
     "text": [
      "62486.22454507746 62321.13657681616\n"
     ]
    }
   ],
   "source": [
    "y_pred_train = lr.predict(Z_train)\n",
    "y_pred_test = lr.predict(Z_test)\n",
    "\n",
    "rmse_train = mean_squared_error(y_true =y_train, y_pred=y_pred_train, squared=False)\n",
    "rmse_test = mean_squared_error(y_true =y_test, y_pred=y_pred_test, squared=False)\n",
    "\n",
    "print(rmse_train, rmse_test)"
   ]
  },
  {
   "cell_type": "code",
   "execution_count": 23,
   "id": "69a047c8",
   "metadata": {},
   "outputs": [
    {
     "name": "stdout",
     "output_type": "stream",
     "text": [
      "R^2 on testing set: 0.8559408558006292\n",
      "R^2 on training set: 0.8558502965751387\n"
     ]
    }
   ],
   "source": [
    "# Check the R^2 on the training and testing sets.\n",
    "\n",
    "print(f'R^2 on testing set: {r2_score(y_train, y_pred_train)}')\n",
    "print(f'R^2 on training set: {r2_score(y_test, y_pred_test)}')"
   ]
  },
  {
   "cell_type": "markdown",
   "id": "825edf96",
   "metadata": {},
   "source": [
    "- R2 Score for both Training and Testing data is 0.85. \n",
    "    - The score is quite similar, indicating that the data is not overfitted.\n",
    "    "
   ]
  },
  {
   "cell_type": "code",
   "execution_count": 12,
   "id": "f7b859e2",
   "metadata": {},
   "outputs": [
    {
     "name": "stdout",
     "output_type": "stream",
     "text": [
      "score on testing set: 0.8559439725489412\n",
      "score on training set: 0.8558532662425785\n"
     ]
    }
   ],
   "source": [
    "# Train Score\n",
    "print(f'score on testing set: {lr.score(X_train,y_train)}')\n",
    "\n",
    "# Test Score\n",
    "print(f'score on training set: {lr.score(X_test,y_test)}')"
   ]
  },
  {
   "cell_type": "code",
   "execution_count": 14,
   "id": "dcfd4570",
   "metadata": {},
   "outputs": [
    {
     "data": {
      "text/plain": [
       "0.8558644380920495"
      ]
     },
     "execution_count": 14,
     "metadata": {},
     "output_type": "execute_result"
    }
   ],
   "source": [
    "# Cross Validation Score\n",
    "cross_val_score(lr, X_train, y_train, cv=5).mean()"
   ]
  },
  {
   "cell_type": "markdown",
   "id": "e2ab5b63",
   "metadata": {},
   "source": [
    "- Cross Validation and Test Score is quite simiilar in this case. \n",
    "- This indicates that its is a representative dataset."
   ]
  },
  {
   "cell_type": "code",
   "execution_count": 17,
   "id": "74186c93",
   "metadata": {},
   "outputs": [],
   "source": [
    "# Scale our data.\n",
    "# Relabeling scaled data as \"Z\" is common.\n",
    "sc = StandardScaler()\n",
    "Z_train = sc.fit_transform(X_train) # standard normal distribution\n",
    "Z_test = sc.transform(X_test)"
   ]
  },
  {
   "cell_type": "markdown",
   "id": "f9b59c95",
   "metadata": {},
   "source": [
    "## Lasso Model"
   ]
  },
  {
   "cell_type": "code",
   "execution_count": 27,
   "id": "771fb9ff",
   "metadata": {},
   "outputs": [
    {
     "name": "stderr",
     "output_type": "stream",
     "text": [
      "C:\\R\\Installer\\20221005_Anaconda\\lib\\site-packages\\sklearn\\linear_model\\_coordinate_descent.py:647: ConvergenceWarning: Objective did not converge. You might want to increase the number of iterations, check the scale of the features or consider increasing regularisation. Duality gap: 5.082e+14, tolerance: 1.959e+12\n",
      "  model = cd_fast.enet_coordinate_descent(\n"
     ]
    },
    {
     "name": "stdout",
     "output_type": "stream",
     "text": [
      "62498.19772530211 62333.0251450897\n"
     ]
    }
   ],
   "source": [
    "# Plot Lasso Model\n",
    "\n",
    "lasso_model = Lasso(alpha =10)\n",
    "# Fit.\n",
    "lasso_model.fit(Z_train, y_train)\n",
    "# Evaluate model using rmse.\n",
    "y_pred_train = lasso_model.predict(Z_train)\n",
    "y_pred_test = lasso_model.predict(Z_test)\n",
    "\n",
    "rmse_train_l = mean_squared_error(y_true =y_train, y_pred=y_pred_train, squared=False)\n",
    "rmse_test_l = mean_squared_error(y_true =y_test, y_pred=y_pred_test, squared=False)\n",
    "\n",
    "# if mse, squared=True\n",
    "\n",
    "print(rmse_train_l, rmse_test_l)"
   ]
  },
  {
   "cell_type": "markdown",
   "id": "3dcf6547",
   "metadata": {},
   "source": [
    "## Ridge Model"
   ]
  },
  {
   "cell_type": "code",
   "execution_count": 29,
   "id": "e0dd1491",
   "metadata": {},
   "outputs": [
    {
     "name": "stdout",
     "output_type": "stream",
     "text": [
      "62485.6332950189 62320.40061309695\n"
     ]
    }
   ],
   "source": [
    "# Instantiate.\n",
    "ridge_model = Ridge(alpha =10)\n",
    "# Fit.\n",
    "ridge_model.fit(Z_train, y_train)\n",
    "# Evaluate model using rmse.\n",
    "y_pred_train = ridge_model.predict(Z_train)\n",
    "y_pred_test = ridge_model.predict(Z_test)\n",
    "\n",
    "rmse_train_r = mean_squared_error(y_true =y_train, y_pred=y_pred_train, squared=False)\n",
    "rmse_test_r = mean_squared_error(y_true =y_test, y_pred=y_pred_test, squared=False)\n",
    "\n",
    "# if mse, squared=True\n",
    "\n",
    "print(rmse_train_r, rmse_test_r)"
   ]
  },
  {
   "cell_type": "markdown",
   "id": "105c9ab9",
   "metadata": {},
   "source": [
    "# GridsearchCV Hyperparameter Tuning"
   ]
  },
  {
   "cell_type": "markdown",
   "id": "53dcd684",
   "metadata": {},
   "source": [
    "## Ridge Regression"
   ]
  },
  {
   "cell_type": "markdown",
   "id": "15d78256",
   "metadata": {},
   "source": [
    "### Hyperparameter Tuning"
   ]
  },
  {
   "cell_type": "code",
   "execution_count": 61,
   "id": "aefe3f5d",
   "metadata": {},
   "outputs": [],
   "source": [
    "# Instantiate Standard Scaler\n",
    "ss = StandardScaler()\n",
    "\n",
    "# Instantiate Model ridge for gridsearch cv\n",
    "model_ridge = Ridge()\n",
    "\n",
    "\n",
    "# Instantiate pipe\n",
    "pipe_gs = Pipeline([\n",
    "        ('ss', ss),\n",
    "        ('rg', model_ridge)\n",
    "        ])\n",
    "\n",
    "\n",
    "# Instantiate Parameters\n",
    "pipe_gs_param = {'ss__with_mean': [True, False], \n",
    "                 'ss__with_std': [True, False],    \n",
    "                'rg__alpha':[1,5,10,15,20]                               \n",
    "                }"
   ]
  },
  {
   "cell_type": "code",
   "execution_count": 51,
   "id": "c711a50c",
   "metadata": {},
   "outputs": [
    {
     "data": {
      "text/plain": [
       "Pipeline(steps=[('ss', StandardScaler()), ('rg', Ridge())])"
      ]
     },
     "execution_count": 51,
     "metadata": {},
     "output_type": "execute_result"
    }
   ],
   "source": [
    "# fit pipe\n",
    "pipe_gs.fit(Z_train, y_train)"
   ]
  },
  {
   "cell_type": "code",
   "execution_count": 53,
   "id": "c6ba254a",
   "metadata": {
    "scrolled": true
   },
   "outputs": [
    {
     "name": "stderr",
     "output_type": "stream",
     "text": [
      "C:\\R\\Installer\\20221005_Anaconda\\lib\\site-packages\\sklearn\\base.py:443: UserWarning: X has feature names, but StandardScaler was fitted without feature names\n",
      "  warnings.warn(\n"
     ]
    },
    {
     "data": {
      "text/plain": [
       "-1792124.304411102"
      ]
     },
     "execution_count": 53,
     "metadata": {},
     "output_type": "execute_result"
    }
   ],
   "source": [
    "# pipe score\n",
    "pipe_gs.score(X_test, y_test)"
   ]
  },
  {
   "cell_type": "code",
   "execution_count": 56,
   "id": "31e23755",
   "metadata": {},
   "outputs": [
    {
     "name": "stdout",
     "output_type": "stream",
     "text": [
      "Fitting 5 folds for each of 20 candidates, totalling 100 fits\n"
     ]
    },
    {
     "data": {
      "text/plain": [
       "GridSearchCV(cv=5,\n",
       "             estimator=Pipeline(steps=[('ss', StandardScaler()),\n",
       "                                       ('rg', Ridge())]),\n",
       "             param_grid={'rg__alpha': [1, 5, 10, 15, 20],\n",
       "                         'ss__with_mean': [True, False],\n",
       "                         'ss__with_std': [True, False]},\n",
       "             verbose=1)"
      ]
     },
     "execution_count": 56,
     "metadata": {},
     "output_type": "execute_result"
    }
   ],
   "source": [
    "# define the grid search\n",
    "Ridge_reg= GridSearchCV(pipe_gs, pipe_gs_param,cv=5,verbose=1)\n",
    "\n",
    "# fit grid search mode\n",
    "Ridge_reg.fit(Z_train,y_train)"
   ]
  },
  {
   "cell_type": "code",
   "execution_count": 57,
   "id": "598d97eb",
   "metadata": {},
   "outputs": [
    {
     "data": {
      "text/plain": [
       "0.8558645524870083"
      ]
     },
     "execution_count": 57,
     "metadata": {},
     "output_type": "execute_result"
    }
   ],
   "source": [
    "Ridge_reg.best_score_"
   ]
  },
  {
   "cell_type": "code",
   "execution_count": 58,
   "id": "3d3f79dc",
   "metadata": {},
   "outputs": [
    {
     "data": {
      "text/plain": [
       "{'rg__alpha': 1, 'ss__with_mean': True, 'ss__with_std': False}"
      ]
     },
     "execution_count": 58,
     "metadata": {},
     "output_type": "execute_result"
    }
   ],
   "source": [
    "Ridge_reg.best_params_"
   ]
  },
  {
   "cell_type": "markdown",
   "id": "e5e263b1",
   "metadata": {},
   "source": [
    "### Modeling with shortlisted Hyperparameter for Ridge"
   ]
  },
  {
   "cell_type": "code",
   "execution_count": 63,
   "id": "1bed7485",
   "metadata": {},
   "outputs": [
    {
     "name": "stdout",
     "output_type": "stream",
     "text": [
      "145404127.35098472 145347167.3577067\n"
     ]
    }
   ],
   "source": [
    "# Instantiate Standard Scaler with new value\n",
    "ss_ridge_gridcv = StandardScaler(with_mean = True, with_std = False)\n",
    "\n",
    "# Standardise Predictors using ss with updated parameters\n",
    "Z_train_ridge_gridcv = ss_ridge_gridcv.fit_transform(X_train) # standard normal distribution\n",
    "Z_test_ridg_gridcv = ss_ridge_gridcv.transform(X_test)\n",
    "\n",
    "# # Instantiate.\n",
    "ridge_model_grid_cv = Ridge(alpha =1)\n",
    "# Fit\n",
    "ridge_model_grid_cv.fit(Z_train_ridge_gridcv, y_train)\n",
    "# Evaluate model using rmse.\n",
    "y_pred_train_ridge_grid_cv = ridge_model.predict(Z_train_ridge_gridcv)\n",
    "y_pred_test_ridge_grid_cv = ridge_model.predict(Z_test_ridg_gridcv)\n",
    "\n",
    "rmse_train_r = mean_squared_error(y_true =y_train, y_pred=y_pred_train_ridge_grid_cv, squared=False)\n",
    "rmse_test_r = mean_squared_error(y_true =y_test, y_pred=y_pred_test_ridge_grid_cv, squared=False)\n",
    "# if mse, squared=True\n",
    "\n",
    "print(rmse_train_r, rmse_test_r)"
   ]
  },
  {
   "cell_type": "markdown",
   "id": "d77a7af5",
   "metadata": {},
   "source": [
    "- Observed that setting the Standard Scaler with the given parameters resulted in a higher rmse score.\n",
    "- Next: rerun model where alpha is 1."
   ]
  },
  {
   "cell_type": "code",
   "execution_count": 66,
   "id": "c56d90e5",
   "metadata": {},
   "outputs": [
    {
     "name": "stdout",
     "output_type": "stream",
     "text": [
      "62485.5270833046 62320.38023604801\n"
     ]
    }
   ],
   "source": [
    "# Instantiate.\n",
    "ridge_model = Ridge(alpha =1)\n",
    "# Fit.\n",
    "ridge_model.fit(Z_train, y_train)\n",
    "# Evaluate model using rmse.\n",
    "y_pred_train = ridge_model.predict(Z_train)\n",
    "y_pred_test = ridge_model.predict(Z_test)\n",
    "\n",
    "rmse_train_r = mean_squared_error(y_true =y_train, y_pred=y_pred_train, squared=False)\n",
    "rmse_test_r = mean_squared_error(y_true =y_test, y_pred=y_pred_test, squared=False)\n",
    "\n",
    "# if mse, squared=True\n",
    "\n",
    "print(rmse_train_r, rmse_test_r)"
   ]
  },
  {
   "cell_type": "markdown",
   "id": "7b6325a8",
   "metadata": {},
   "source": [
    "- Observed that by setting rmse score to 1, the resulted rmse score is slightly better at 62485.527."
   ]
  },
  {
   "cell_type": "markdown",
   "id": "0caa6df9",
   "metadata": {},
   "source": [
    "# Lasso Regression"
   ]
  },
  {
   "cell_type": "markdown",
   "id": "8256da43",
   "metadata": {},
   "source": [
    "### Hyper Parameter Tuning"
   ]
  },
  {
   "cell_type": "code",
   "execution_count": 90,
   "id": "b9a4ea48",
   "metadata": {},
   "outputs": [
    {
     "name": "stderr",
     "output_type": "stream",
     "text": [
      "C:\\R\\Installer\\20221005_Anaconda\\lib\\site-packages\\sklearn\\linear_model\\_coordinate_descent.py:647: ConvergenceWarning: Objective did not converge. You might want to increase the number of iterations, check the scale of the features or consider increasing regularisation. Duality gap: 1.253e+15, tolerance: 1.959e+12\n",
      "  model = cd_fast.enet_coordinate_descent(\n"
     ]
    },
    {
     "name": "stdout",
     "output_type": "stream",
     "text": [
      "alpha:  1\n",
      "62488.60218384262 62322.95344022425\n"
     ]
    },
    {
     "name": "stderr",
     "output_type": "stream",
     "text": [
      "C:\\R\\Installer\\20221005_Anaconda\\lib\\site-packages\\sklearn\\linear_model\\_coordinate_descent.py:647: ConvergenceWarning: Objective did not converge. You might want to increase the number of iterations, check the scale of the features or consider increasing regularisation. Duality gap: 7.953e+14, tolerance: 1.959e+12\n",
      "  model = cd_fast.enet_coordinate_descent(\n"
     ]
    },
    {
     "name": "stdout",
     "output_type": "stream",
     "text": [
      "alpha:  5\n",
      "62492.47655846235 62326.83011113574\n"
     ]
    },
    {
     "name": "stderr",
     "output_type": "stream",
     "text": [
      "C:\\R\\Installer\\20221005_Anaconda\\lib\\site-packages\\sklearn\\linear_model\\_coordinate_descent.py:647: ConvergenceWarning: Objective did not converge. You might want to increase the number of iterations, check the scale of the features or consider increasing regularisation. Duality gap: 5.082e+14, tolerance: 1.959e+12\n",
      "  model = cd_fast.enet_coordinate_descent(\n"
     ]
    },
    {
     "name": "stdout",
     "output_type": "stream",
     "text": [
      "alpha:  10\n",
      "62498.19772530211 62333.0251450897\n"
     ]
    },
    {
     "name": "stderr",
     "output_type": "stream",
     "text": [
      "C:\\R\\Installer\\20221005_Anaconda\\lib\\site-packages\\sklearn\\linear_model\\_coordinate_descent.py:647: ConvergenceWarning: Objective did not converge. You might want to increase the number of iterations, check the scale of the features or consider increasing regularisation. Duality gap: 3.188e+14, tolerance: 1.959e+12\n",
      "  model = cd_fast.enet_coordinate_descent(\n"
     ]
    },
    {
     "name": "stdout",
     "output_type": "stream",
     "text": [
      "alpha:  15\n",
      "62503.37485582632 62338.94439016358\n"
     ]
    },
    {
     "name": "stderr",
     "output_type": "stream",
     "text": [
      "C:\\R\\Installer\\20221005_Anaconda\\lib\\site-packages\\sklearn\\linear_model\\_coordinate_descent.py:647: ConvergenceWarning: Objective did not converge. You might want to increase the number of iterations, check the scale of the features or consider increasing regularisation. Duality gap: 1.995e+14, tolerance: 1.959e+12\n",
      "  model = cd_fast.enet_coordinate_descent(\n"
     ]
    },
    {
     "name": "stdout",
     "output_type": "stream",
     "text": [
      "alpha:  20\n",
      "62510.04698176871 62346.38822760046\n"
     ]
    }
   ],
   "source": [
    "lasso_alpha = [1,5,10,15,20]   \n",
    "\n",
    "for i in lasso_alpha:   \n",
    "\n",
    "    # Plot Lasso Model\n",
    "\n",
    "    lasso_model = Lasso(alpha =i)\n",
    "    # Fit.\n",
    "    lasso_model.fit(Z_train, y_train)\n",
    "    # Evaluate model using rmse.\n",
    "    y_pred_train = lasso_model.predict(Z_train)\n",
    "    y_pred_test = lasso_model.predict(Z_test)\n",
    "\n",
    "    rmse_train_l = mean_squared_error(y_true =y_train, y_pred=y_pred_train, squared=False)\n",
    "    rmse_test_l = mean_squared_error(y_true =y_test, y_pred=y_pred_test, squared=False)\n",
    "\n",
    "    # if mse, squared=True\n",
    "    print(\"alpha: \", i)\n",
    "    print(rmse_train_l, rmse_test_l)"
   ]
  },
  {
   "cell_type": "markdown",
   "id": "bd247994",
   "metadata": {},
   "source": [
    "- It is observed that the RMSE score remains relatively high at around 62488.602 and 62322.953 for RMSE train and RMSE test data for Lasso Regression where alpha is 1.\n",
    "- Next: Further analysis will be done on the features to better understand how different features affect RMSE.\n",
    "    - Features will also be analysed to understand the trends."
   ]
  }
 ],
 "metadata": {
  "kernelspec": {
   "display_name": "Python 3 (ipykernel)",
   "language": "python",
   "name": "python3"
  },
  "language_info": {
   "codemirror_mode": {
    "name": "ipython",
    "version": 3
   },
   "file_extension": ".py",
   "mimetype": "text/x-python",
   "name": "python",
   "nbconvert_exporter": "python",
   "pygments_lexer": "ipython3",
   "version": "3.9.12"
  }
 },
 "nbformat": 4,
 "nbformat_minor": 5
}
