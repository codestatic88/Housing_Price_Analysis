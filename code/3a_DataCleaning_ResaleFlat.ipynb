{
 "cells": [
  {
   "cell_type": "markdown",
   "id": "c51f81f0",
   "metadata": {},
   "source": [
    "# Import Libaries"
   ]
  },
  {
   "cell_type": "code",
   "execution_count": 137,
   "id": "18829ccc",
   "metadata": {},
   "outputs": [],
   "source": [
    "# Import Libaries\n",
    "import pandas as pd\n",
    "import numpy as np"
   ]
  },
  {
   "cell_type": "markdown",
   "id": "c524ccd5",
   "metadata": {},
   "source": [
    "# Data Cleaning for Resale Flat data with longitude and latitude information"
   ]
  },
  {
   "cell_type": "markdown",
   "id": "75a89ee5",
   "metadata": {},
   "source": [
    "- The resale flat price are retrieved from the from the following website from 1990 onwards to July 2023 [[1]](https://beta.data.gov.sg/datasets/189/resources/d_8b84c4ee58e3cfc0ece0d773c8ca6abc/view)\n",
    "\n",
    "- The dataset has been combined with longitude and latitude data extracted from onemap [[2]](https://www.onemap.gov.sg/apidocs/apidocs)"
   ]
  },
  {
   "cell_type": "markdown",
   "id": "d52ec225",
   "metadata": {},
   "source": [
    "## Import Dataset"
   ]
  },
  {
   "cell_type": "code",
   "execution_count": 138,
   "id": "57602843",
   "metadata": {},
   "outputs": [
    {
     "name": "stderr",
     "output_type": "stream",
     "text": [
      "C:\\Users\\user\\AppData\\Local\\Temp\\ipykernel_2796\\2893526200.py:2: DtypeWarning: Columns (10) have mixed types. Specify dtype option on import or set low_memory=False.\n",
      "  resale_long_lat_fmt_only = pd.read_csv('../assets/resale_flat_gen/resale_long_lat_fmt_only.csv')\n"
     ]
    }
   ],
   "source": [
    "# Import in Dataset\n",
    "resale_long_lat_fmt_only = pd.read_csv('../assets/resale_flat_gen/resale_long_lat_fmt_only.csv')\n"
   ]
  },
  {
   "cell_type": "code",
   "execution_count": 139,
   "id": "d772ff53",
   "metadata": {},
   "outputs": [
    {
     "name": "stdout",
     "output_type": "stream",
     "text": [
      "<class 'pandas.core.frame.DataFrame'>\n",
      "RangeIndex: 903393 entries, 0 to 903392\n",
      "Data columns (total 14 columns):\n",
      " #   Column               Non-Null Count   Dtype  \n",
      "---  ------               --------------   -----  \n",
      " 0   month                903393 non-null  object \n",
      " 1   town                 903393 non-null  object \n",
      " 2   flat_type            903393 non-null  object \n",
      " 3   block                903393 non-null  object \n",
      " 4   street_name          903393 non-null  object \n",
      " 5   storey_range         903393 non-null  object \n",
      " 6   floor_area_sqm       903393 non-null  float64\n",
      " 7   flat_model           903393 non-null  object \n",
      " 8   lease_commence_date  903393 non-null  int64  \n",
      " 9   resale_price         903393 non-null  float64\n",
      " 10  remaining_lease      194343 non-null  object \n",
      " 11  address              903393 non-null  object \n",
      " 12  longitude            903393 non-null  float64\n",
      " 13  latitude             903393 non-null  float64\n",
      "dtypes: float64(4), int64(1), object(9)\n",
      "memory usage: 96.5+ MB\n"
     ]
    }
   ],
   "source": [
    "#\n",
    "resale_long_lat_fmt_only.info()"
   ]
  },
  {
   "cell_type": "markdown",
   "id": "b97385b0",
   "metadata": {},
   "source": [
    "## Check if there are null values in the dataset"
   ]
  },
  {
   "cell_type": "code",
   "execution_count": 140,
   "id": "10a91d8c",
   "metadata": {},
   "outputs": [
    {
     "data": {
      "text/plain": [
       "month                       0\n",
       "town                        0\n",
       "flat_type                   0\n",
       "block                       0\n",
       "street_name                 0\n",
       "storey_range                0\n",
       "floor_area_sqm              0\n",
       "flat_model                  0\n",
       "lease_commence_date         0\n",
       "resale_price                0\n",
       "remaining_lease        709050\n",
       "address                     0\n",
       "longitude                   0\n",
       "latitude                    0\n",
       "dtype: int64"
      ]
     },
     "execution_count": 140,
     "metadata": {},
     "output_type": "execute_result"
    }
   ],
   "source": [
    "# Check if there are missing values for dataset\n",
    "resale_long_lat_fmt_only.isnull().sum()"
   ]
  },
  {
   "cell_type": "markdown",
   "id": "f44a33f5",
   "metadata": {},
   "source": [
    "Missing values is seen for the column \"remaining_lease\"."
   ]
  },
  {
   "cell_type": "code",
   "execution_count": 141,
   "id": "80b84521",
   "metadata": {},
   "outputs": [
    {
     "data": {
      "text/html": [
       "<div>\n",
       "<style scoped>\n",
       "    .dataframe tbody tr th:only-of-type {\n",
       "        vertical-align: middle;\n",
       "    }\n",
       "\n",
       "    .dataframe tbody tr th {\n",
       "        vertical-align: top;\n",
       "    }\n",
       "\n",
       "    .dataframe thead th {\n",
       "        text-align: right;\n",
       "    }\n",
       "</style>\n",
       "<table border=\"1\" class=\"dataframe\">\n",
       "  <thead>\n",
       "    <tr style=\"text-align: right;\">\n",
       "      <th></th>\n",
       "      <th>month</th>\n",
       "      <th>town</th>\n",
       "      <th>flat_type</th>\n",
       "      <th>block</th>\n",
       "      <th>street_name</th>\n",
       "      <th>storey_range</th>\n",
       "      <th>floor_area_sqm</th>\n",
       "      <th>flat_model</th>\n",
       "      <th>lease_commence_date</th>\n",
       "      <th>resale_price</th>\n",
       "      <th>remaining_lease</th>\n",
       "      <th>address</th>\n",
       "      <th>longitude</th>\n",
       "      <th>latitude</th>\n",
       "    </tr>\n",
       "  </thead>\n",
       "  <tbody>\n",
       "    <tr>\n",
       "      <th>0</th>\n",
       "      <td>1990-01</td>\n",
       "      <td>ANG MO KIO</td>\n",
       "      <td>1 ROOM</td>\n",
       "      <td>309</td>\n",
       "      <td>ANG MO KIO AVE 1</td>\n",
       "      <td>10 TO 12</td>\n",
       "      <td>31.0</td>\n",
       "      <td>IMPROVED</td>\n",
       "      <td>1977</td>\n",
       "      <td>9000.0</td>\n",
       "      <td>NaN</td>\n",
       "      <td>309 ANG MO KIO AVE 1</td>\n",
       "      <td>0.000000</td>\n",
       "      <td>0.000000</td>\n",
       "    </tr>\n",
       "    <tr>\n",
       "      <th>1</th>\n",
       "      <td>1990-01</td>\n",
       "      <td>ANG MO KIO</td>\n",
       "      <td>1 ROOM</td>\n",
       "      <td>309</td>\n",
       "      <td>ANG MO KIO AVE 1</td>\n",
       "      <td>04 TO 06</td>\n",
       "      <td>31.0</td>\n",
       "      <td>IMPROVED</td>\n",
       "      <td>1977</td>\n",
       "      <td>6000.0</td>\n",
       "      <td>NaN</td>\n",
       "      <td>309 ANG MO KIO AVE 1</td>\n",
       "      <td>0.000000</td>\n",
       "      <td>0.000000</td>\n",
       "    </tr>\n",
       "    <tr>\n",
       "      <th>2</th>\n",
       "      <td>1990-01</td>\n",
       "      <td>ANG MO KIO</td>\n",
       "      <td>1 ROOM</td>\n",
       "      <td>309</td>\n",
       "      <td>ANG MO KIO AVE 1</td>\n",
       "      <td>10 TO 12</td>\n",
       "      <td>31.0</td>\n",
       "      <td>IMPROVED</td>\n",
       "      <td>1977</td>\n",
       "      <td>8000.0</td>\n",
       "      <td>NaN</td>\n",
       "      <td>309 ANG MO KIO AVE 1</td>\n",
       "      <td>0.000000</td>\n",
       "      <td>0.000000</td>\n",
       "    </tr>\n",
       "    <tr>\n",
       "      <th>3</th>\n",
       "      <td>1990-01</td>\n",
       "      <td>ANG MO KIO</td>\n",
       "      <td>1 ROOM</td>\n",
       "      <td>309</td>\n",
       "      <td>ANG MO KIO AVE 1</td>\n",
       "      <td>07 TO 09</td>\n",
       "      <td>31.0</td>\n",
       "      <td>IMPROVED</td>\n",
       "      <td>1977</td>\n",
       "      <td>6000.0</td>\n",
       "      <td>NaN</td>\n",
       "      <td>309 ANG MO KIO AVE 1</td>\n",
       "      <td>0.000000</td>\n",
       "      <td>0.000000</td>\n",
       "    </tr>\n",
       "    <tr>\n",
       "      <th>4</th>\n",
       "      <td>1990-01</td>\n",
       "      <td>ANG MO KIO</td>\n",
       "      <td>3 ROOM</td>\n",
       "      <td>216</td>\n",
       "      <td>ANG MO KIO AVE 1</td>\n",
       "      <td>04 TO 06</td>\n",
       "      <td>73.0</td>\n",
       "      <td>NEW GENERATION</td>\n",
       "      <td>1976</td>\n",
       "      <td>47200.0</td>\n",
       "      <td>NaN</td>\n",
       "      <td>216 ANG MO KIO AVE 1</td>\n",
       "      <td>103.841505</td>\n",
       "      <td>1.366197</td>\n",
       "    </tr>\n",
       "  </tbody>\n",
       "</table>\n",
       "</div>"
      ],
      "text/plain": [
       "     month        town flat_type block       street_name storey_range  \\\n",
       "0  1990-01  ANG MO KIO    1 ROOM   309  ANG MO KIO AVE 1     10 TO 12   \n",
       "1  1990-01  ANG MO KIO    1 ROOM   309  ANG MO KIO AVE 1     04 TO 06   \n",
       "2  1990-01  ANG MO KIO    1 ROOM   309  ANG MO KIO AVE 1     10 TO 12   \n",
       "3  1990-01  ANG MO KIO    1 ROOM   309  ANG MO KIO AVE 1     07 TO 09   \n",
       "4  1990-01  ANG MO KIO    3 ROOM   216  ANG MO KIO AVE 1     04 TO 06   \n",
       "\n",
       "   floor_area_sqm      flat_model  lease_commence_date  resale_price  \\\n",
       "0            31.0        IMPROVED                 1977        9000.0   \n",
       "1            31.0        IMPROVED                 1977        6000.0   \n",
       "2            31.0        IMPROVED                 1977        8000.0   \n",
       "3            31.0        IMPROVED                 1977        6000.0   \n",
       "4            73.0  NEW GENERATION                 1976       47200.0   \n",
       "\n",
       "  remaining_lease               address   longitude  latitude  \n",
       "0             NaN  309 ANG MO KIO AVE 1    0.000000  0.000000  \n",
       "1             NaN  309 ANG MO KIO AVE 1    0.000000  0.000000  \n",
       "2             NaN  309 ANG MO KIO AVE 1    0.000000  0.000000  \n",
       "3             NaN  309 ANG MO KIO AVE 1    0.000000  0.000000  \n",
       "4             NaN  216 ANG MO KIO AVE 1  103.841505  1.366197  "
      ]
     },
     "execution_count": 141,
     "metadata": {},
     "output_type": "execute_result"
    }
   ],
   "source": [
    "# View the top 5 rows \n",
    "resale_long_lat_fmt_only.head(5)"
   ]
  },
  {
   "cell_type": "code",
   "execution_count": 142,
   "id": "f2b10c20",
   "metadata": {},
   "outputs": [
    {
     "data": {
      "text/plain": [
       "array(['1990-01', '1990-02', '1990-03', '1990-04', '1990-05', '1990-06',\n",
       "       '1990-07', '1990-08', '1990-09', '1990-10', '1990-11', '1990-12',\n",
       "       '1991-01', '1991-02', '1991-03', '1991-04', '1991-05', '1991-06',\n",
       "       '1991-07', '1991-08', '1991-09', '1991-10', '1991-11', '1991-12',\n",
       "       '1992-01', '1992-02', '1992-03', '1992-04', '1992-05', '1992-06',\n",
       "       '1992-07', '1992-08', '1992-09', '1992-10', '1992-11', '1992-12',\n",
       "       '1993-01', '1993-02', '1993-03', '1993-04', '1993-05', '1993-06',\n",
       "       '1993-07', '1993-08', '1993-09', '1993-10', '1993-11', '1993-12',\n",
       "       '1994-01', '1994-02', '1994-03', '1994-04', '1994-05', '1994-06',\n",
       "       '1994-07', '1994-08', '1994-09', '1994-10', '1994-11', '1994-12',\n",
       "       '1995-01', '1995-02', '1995-03', '1995-04', '1995-05', '1995-06',\n",
       "       '1995-07', '1995-08', '1995-09', '1995-10', '1995-11', '1995-12',\n",
       "       '1996-01', '1996-02', '1996-03', '1996-04', '1996-05', '1996-06',\n",
       "       '1996-07', '1996-08', '1996-09', '1996-10', '1996-11', '1996-12',\n",
       "       '1997-01', '1997-02', '1997-03', '1997-04', '1997-05', '1997-06',\n",
       "       '1997-07', '1997-08', '1997-09', '1997-10', '1997-11', '1997-12',\n",
       "       '1998-01', '1998-02', '1998-03', '1998-04', '1998-05', '1998-06',\n",
       "       '1998-07', '1998-08', '1998-09', '1998-10', '1998-11', '1998-12',\n",
       "       '1999-01', '1999-02', '1999-03', '1999-04', '1999-05', '1999-06',\n",
       "       '1999-07', '1999-08', '1999-09', '1999-10', '1999-11', '1999-12',\n",
       "       '2000-01', '2000-02', '2000-03', '2000-04', '2000-05', '2000-06',\n",
       "       '2000-07', '2000-08', '2000-09', '2000-10', '2000-11', '2000-12',\n",
       "       '2001-01', '2001-02', '2001-03', '2001-04', '2001-05', '2001-06',\n",
       "       '2001-07', '2001-08', '2001-09', '2001-10', '2001-11', '2001-12',\n",
       "       '2002-01', '2002-02', '2002-03', '2002-04', '2002-05', '2002-06',\n",
       "       '2002-07', '2002-08', '2002-09', '2002-10', '2002-11', '2002-12',\n",
       "       '2003-01', '2003-02', '2003-03', '2003-04', '2003-05', '2003-06',\n",
       "       '2003-07', '2003-08', '2003-09', '2003-10', '2003-11', '2003-12',\n",
       "       '2004-01', '2004-02', '2004-03', '2004-04', '2004-05', '2004-06',\n",
       "       '2004-07', '2004-08', '2004-09', '2004-10', '2004-11', '2004-12',\n",
       "       '2005-01', '2005-02', '2005-03', '2005-04', '2005-05', '2005-06',\n",
       "       '2005-07', '2005-08', '2005-09', '2005-10', '2005-11', '2005-12',\n",
       "       '2006-01', '2006-02', '2006-03', '2006-04', '2006-05', '2006-06',\n",
       "       '2006-07', '2006-08', '2006-09', '2006-10', '2006-11', '2006-12',\n",
       "       '2007-01', '2007-02', '2007-03', '2007-04', '2007-05', '2007-06',\n",
       "       '2007-07', '2007-08', '2007-09', '2007-10', '2007-11', '2007-12',\n",
       "       '2008-01', '2008-02', '2008-03', '2008-04', '2008-05', '2008-06',\n",
       "       '2008-07', '2008-08', '2008-09', '2008-10', '2008-11', '2008-12',\n",
       "       '2009-01', '2009-02', '2009-03', '2009-04', '2009-05', '2009-06',\n",
       "       '2009-07', '2009-08', '2009-09', '2009-10', '2009-11', '2009-12',\n",
       "       '2010-01', '2010-02', '2010-03', '2010-04', '2010-05', '2010-06',\n",
       "       '2010-07', '2010-08', '2010-09', '2010-10', '2010-11', '2010-12',\n",
       "       '2011-01', '2011-02', '2011-03', '2011-04', '2011-05', '2011-06',\n",
       "       '2011-07', '2011-08', '2011-09', '2011-10', '2011-11', '2011-12',\n",
       "       '2012-01', '2012-02', '2012-03', '2012-04', '2012-05', '2012-06',\n",
       "       '2012-07', '2012-08', '2012-09', '2012-10', '2012-11', '2012-12',\n",
       "       '2013-01', '2013-02', '2013-03', '2013-04', '2013-05', '2013-06',\n",
       "       '2013-07', '2013-08', '2013-09', '2013-10', '2013-11', '2013-12',\n",
       "       '2014-01', '2014-02', '2014-03', '2014-04', '2014-05', '2014-06',\n",
       "       '2014-07', '2014-08', '2014-09', '2014-10', '2014-11', '2014-12'],\n",
       "      dtype=object)"
      ]
     },
     "execution_count": 142,
     "metadata": {},
     "output_type": "execute_result"
    }
   ],
   "source": [
    "# Filter out the unique months where remaining lease is NaN\n",
    "resale_month_NaN = resale_long_lat_fmt_only[resale_long_lat_fmt_only[\"remaining_lease\"].isnull()][\"month\"]\n",
    "resale_month_NaN.unique()"
   ]
  },
  {
   "cell_type": "markdown",
   "id": "c562bdaa",
   "metadata": {},
   "source": [
    "Observed that data missing the resale price from 1990 to December 2014."
   ]
  },
  {
   "cell_type": "code",
   "execution_count": 143,
   "id": "83bd0abe",
   "metadata": {},
   "outputs": [
    {
     "data": {
      "text/html": [
       "<div>\n",
       "<style scoped>\n",
       "    .dataframe tbody tr th:only-of-type {\n",
       "        vertical-align: middle;\n",
       "    }\n",
       "\n",
       "    .dataframe tbody tr th {\n",
       "        vertical-align: top;\n",
       "    }\n",
       "\n",
       "    .dataframe thead th {\n",
       "        text-align: right;\n",
       "    }\n",
       "</style>\n",
       "<table border=\"1\" class=\"dataframe\">\n",
       "  <thead>\n",
       "    <tr style=\"text-align: right;\">\n",
       "      <th></th>\n",
       "      <th>month</th>\n",
       "      <th>town</th>\n",
       "      <th>flat_type</th>\n",
       "      <th>block</th>\n",
       "      <th>street_name</th>\n",
       "      <th>storey_range</th>\n",
       "      <th>floor_area_sqm</th>\n",
       "      <th>flat_model</th>\n",
       "      <th>lease_commence_date</th>\n",
       "      <th>resale_price</th>\n",
       "      <th>remaining_lease</th>\n",
       "      <th>address</th>\n",
       "      <th>longitude</th>\n",
       "      <th>latitude</th>\n",
       "    </tr>\n",
       "  </thead>\n",
       "  <tbody>\n",
       "    <tr>\n",
       "      <th>656847</th>\n",
       "      <td>2015-01</td>\n",
       "      <td>ANG MO KIO</td>\n",
       "      <td>3 ROOM</td>\n",
       "      <td>174</td>\n",
       "      <td>ANG MO KIO AVE 4</td>\n",
       "      <td>07 TO 09</td>\n",
       "      <td>60.0</td>\n",
       "      <td>Improved</td>\n",
       "      <td>1986</td>\n",
       "      <td>255000.0</td>\n",
       "      <td>70</td>\n",
       "      <td>174 ANG MO KIO AVE 4</td>\n",
       "      <td>103.837619</td>\n",
       "      <td>1.375097</td>\n",
       "    </tr>\n",
       "    <tr>\n",
       "      <th>656848</th>\n",
       "      <td>2015-01</td>\n",
       "      <td>ANG MO KIO</td>\n",
       "      <td>3 ROOM</td>\n",
       "      <td>541</td>\n",
       "      <td>ANG MO KIO AVE 10</td>\n",
       "      <td>01 TO 03</td>\n",
       "      <td>68.0</td>\n",
       "      <td>New Generation</td>\n",
       "      <td>1981</td>\n",
       "      <td>275000.0</td>\n",
       "      <td>65</td>\n",
       "      <td>541 ANG MO KIO AVE 10</td>\n",
       "      <td>103.855621</td>\n",
       "      <td>1.373922</td>\n",
       "    </tr>\n",
       "    <tr>\n",
       "      <th>656849</th>\n",
       "      <td>2015-01</td>\n",
       "      <td>ANG MO KIO</td>\n",
       "      <td>3 ROOM</td>\n",
       "      <td>163</td>\n",
       "      <td>ANG MO KIO AVE 4</td>\n",
       "      <td>01 TO 03</td>\n",
       "      <td>69.0</td>\n",
       "      <td>New Generation</td>\n",
       "      <td>1980</td>\n",
       "      <td>285000.0</td>\n",
       "      <td>64</td>\n",
       "      <td>163 ANG MO KIO AVE 4</td>\n",
       "      <td>103.838176</td>\n",
       "      <td>1.373549</td>\n",
       "    </tr>\n",
       "    <tr>\n",
       "      <th>656850</th>\n",
       "      <td>2015-01</td>\n",
       "      <td>ANG MO KIO</td>\n",
       "      <td>3 ROOM</td>\n",
       "      <td>446</td>\n",
       "      <td>ANG MO KIO AVE 10</td>\n",
       "      <td>01 TO 03</td>\n",
       "      <td>68.0</td>\n",
       "      <td>New Generation</td>\n",
       "      <td>1979</td>\n",
       "      <td>290000.0</td>\n",
       "      <td>63</td>\n",
       "      <td>446 ANG MO KIO AVE 10</td>\n",
       "      <td>103.855357</td>\n",
       "      <td>1.367761</td>\n",
       "    </tr>\n",
       "    <tr>\n",
       "      <th>656851</th>\n",
       "      <td>2015-01</td>\n",
       "      <td>ANG MO KIO</td>\n",
       "      <td>3 ROOM</td>\n",
       "      <td>557</td>\n",
       "      <td>ANG MO KIO AVE 10</td>\n",
       "      <td>07 TO 09</td>\n",
       "      <td>68.0</td>\n",
       "      <td>New Generation</td>\n",
       "      <td>1980</td>\n",
       "      <td>290000.0</td>\n",
       "      <td>64</td>\n",
       "      <td>557 ANG MO KIO AVE 10</td>\n",
       "      <td>103.857736</td>\n",
       "      <td>1.371626</td>\n",
       "    </tr>\n",
       "  </tbody>\n",
       "</table>\n",
       "</div>"
      ],
      "text/plain": [
       "          month        town flat_type block        street_name storey_range  \\\n",
       "656847  2015-01  ANG MO KIO    3 ROOM   174   ANG MO KIO AVE 4     07 TO 09   \n",
       "656848  2015-01  ANG MO KIO    3 ROOM   541  ANG MO KIO AVE 10     01 TO 03   \n",
       "656849  2015-01  ANG MO KIO    3 ROOM   163   ANG MO KIO AVE 4     01 TO 03   \n",
       "656850  2015-01  ANG MO KIO    3 ROOM   446  ANG MO KIO AVE 10     01 TO 03   \n",
       "656851  2015-01  ANG MO KIO    3 ROOM   557  ANG MO KIO AVE 10     07 TO 09   \n",
       "\n",
       "        floor_area_sqm      flat_model  lease_commence_date  resale_price  \\\n",
       "656847            60.0        Improved                 1986      255000.0   \n",
       "656848            68.0  New Generation                 1981      275000.0   \n",
       "656849            69.0  New Generation                 1980      285000.0   \n",
       "656850            68.0  New Generation                 1979      290000.0   \n",
       "656851            68.0  New Generation                 1980      290000.0   \n",
       "\n",
       "       remaining_lease                address   longitude  latitude  \n",
       "656847              70   174 ANG MO KIO AVE 4  103.837619  1.375097  \n",
       "656848              65  541 ANG MO KIO AVE 10  103.855621  1.373922  \n",
       "656849              64   163 ANG MO KIO AVE 4  103.838176  1.373549  \n",
       "656850              63  446 ANG MO KIO AVE 10  103.855357  1.367761  \n",
       "656851              64  557 ANG MO KIO AVE 10  103.857736  1.371626  "
      ]
     },
     "execution_count": 143,
     "metadata": {},
     "output_type": "execute_result"
    }
   ],
   "source": [
    "# Retrieve 5 rows where remaining lease is not null to view how it is calculated.\n",
    "resale_long_lat_fmt_only[resale_long_lat_fmt_only[\"remaining_lease\"].isnull() == False].head(5)"
   ]
  },
  {
   "cell_type": "markdown",
   "id": "966f121a",
   "metadata": {},
   "source": [
    "Observed that the remaining lease requires the current year of row to derive the value.\n",
    "Next: Column \"Year\" and \"Month\" will be added for purposes such as EDA and derivation of values such as \"remaining_lease\""
   ]
  },
  {
   "cell_type": "markdown",
   "id": "59e7f6db",
   "metadata": {},
   "source": [
    "## Create Columns for Data Frame"
   ]
  },
  {
   "cell_type": "code",
   "execution_count": 144,
   "id": "39ed5085",
   "metadata": {},
   "outputs": [],
   "source": [
    "# add month column"
   ]
  },
  {
   "cell_type": "code",
   "execution_count": 145,
   "id": "9c97fc47",
   "metadata": {},
   "outputs": [],
   "source": [
    "# create column with month column formatted to date time format\n",
    "resale_long_lat_fmt_only['month_fmt'] = pd.to_datetime(resale_long_lat_fmt_only['month'])"
   ]
  },
  {
   "cell_type": "code",
   "execution_count": 146,
   "id": "6d641022",
   "metadata": {},
   "outputs": [],
   "source": [
    "# drop \"month\" coumn\n",
    "resale_long_lat_fmt_only.drop(['month'], axis=1, inplace = True)"
   ]
  },
  {
   "cell_type": "code",
   "execution_count": 147,
   "id": "ecec748c",
   "metadata": {},
   "outputs": [],
   "source": [
    "# create month column\n",
    "resale_long_lat_fmt_only[\"month\"] = resale_long_lat_fmt_only['month_fmt'].dt.month\n",
    "\n",
    "# create year column\n",
    "resale_long_lat_fmt_only[\"year\"] = resale_long_lat_fmt_only['month_fmt'].dt.year"
   ]
  },
  {
   "cell_type": "code",
   "execution_count": 148,
   "id": "02c1fd58",
   "metadata": {},
   "outputs": [
    {
     "name": "stdout",
     "output_type": "stream",
     "text": [
      "<class 'pandas.core.frame.DataFrame'>\n",
      "RangeIndex: 903393 entries, 0 to 903392\n",
      "Data columns (total 16 columns):\n",
      " #   Column               Non-Null Count   Dtype         \n",
      "---  ------               --------------   -----         \n",
      " 0   town                 903393 non-null  object        \n",
      " 1   flat_type            903393 non-null  object        \n",
      " 2   block                903393 non-null  object        \n",
      " 3   street_name          903393 non-null  object        \n",
      " 4   storey_range         903393 non-null  object        \n",
      " 5   floor_area_sqm       903393 non-null  float64       \n",
      " 6   flat_model           903393 non-null  object        \n",
      " 7   lease_commence_date  903393 non-null  int64         \n",
      " 8   resale_price         903393 non-null  float64       \n",
      " 9   remaining_lease      194343 non-null  object        \n",
      " 10  address              903393 non-null  object        \n",
      " 11  longitude            903393 non-null  float64       \n",
      " 12  latitude             903393 non-null  float64       \n",
      " 13  month_fmt            903393 non-null  datetime64[ns]\n",
      " 14  month                903393 non-null  int64         \n",
      " 15  year                 903393 non-null  int64         \n",
      "dtypes: datetime64[ns](1), float64(4), int64(3), object(8)\n",
      "memory usage: 110.3+ MB\n",
      "None\n",
      "         town flat_type block       street_name storey_range  floor_area_sqm  \\\n",
      "0  ANG MO KIO    1 ROOM   309  ANG MO KIO AVE 1     10 TO 12            31.0   \n",
      "1  ANG MO KIO    1 ROOM   309  ANG MO KIO AVE 1     04 TO 06            31.0   \n",
      "2  ANG MO KIO    1 ROOM   309  ANG MO KIO AVE 1     10 TO 12            31.0   \n",
      "\n",
      "  flat_model  lease_commence_date  resale_price remaining_lease  \\\n",
      "0   IMPROVED                 1977        9000.0             NaN   \n",
      "1   IMPROVED                 1977        6000.0             NaN   \n",
      "2   IMPROVED                 1977        8000.0             NaN   \n",
      "\n",
      "                address  longitude  latitude  month_fmt  month  year  \n",
      "0  309 ANG MO KIO AVE 1        0.0       0.0 1990-01-01      1  1990  \n",
      "1  309 ANG MO KIO AVE 1        0.0       0.0 1990-01-01      1  1990  \n",
      "2  309 ANG MO KIO AVE 1        0.0       0.0 1990-01-01      1  1990  \n"
     ]
    }
   ],
   "source": [
    "# check info and top 3 rows with newly create month and year column\n",
    "\n",
    "# check info:\n",
    "print(resale_long_lat_fmt_only.info())\n",
    "\n",
    "# check first 3 rows:\n",
    "print(resale_long_lat_fmt_only.head(3))"
   ]
  },
  {
   "cell_type": "markdown",
   "id": "4092615f",
   "metadata": {},
   "source": [
    "Observed that year and month column has been created successfully. The original column of month where data is in the format of \"yyyy-mm\" has been drop.\n"
   ]
  },
  {
   "cell_type": "markdown",
   "id": "99a3aa59",
   "metadata": {},
   "source": [
    "## Calculate Remaining Lease\n",
    "\n",
    "Remaining lease is calculated from the difference between 99 and the current age of the house based on current year"
   ]
  },
  {
   "cell_type": "code",
   "execution_count": 149,
   "id": "e13490e1",
   "metadata": {},
   "outputs": [],
   "source": [
    "resale_long_lat_fmt_only[\"remaining_lease\"] = 99 - (resale_long_lat_fmt_only[\"year\"] \n",
    "                                             - resale_long_lat_fmt_only[\"lease_commence_date\"])"
   ]
  },
  {
   "cell_type": "code",
   "execution_count": 150,
   "id": "debc6f91",
   "metadata": {},
   "outputs": [
    {
     "name": "stdout",
     "output_type": "stream",
     "text": [
      "<class 'pandas.core.frame.DataFrame'>\n",
      "RangeIndex: 903393 entries, 0 to 903392\n",
      "Data columns (total 16 columns):\n",
      " #   Column               Non-Null Count   Dtype         \n",
      "---  ------               --------------   -----         \n",
      " 0   town                 903393 non-null  object        \n",
      " 1   flat_type            903393 non-null  object        \n",
      " 2   block                903393 non-null  object        \n",
      " 3   street_name          903393 non-null  object        \n",
      " 4   storey_range         903393 non-null  object        \n",
      " 5   floor_area_sqm       903393 non-null  float64       \n",
      " 6   flat_model           903393 non-null  object        \n",
      " 7   lease_commence_date  903393 non-null  int64         \n",
      " 8   resale_price         903393 non-null  float64       \n",
      " 9   remaining_lease      903393 non-null  int64         \n",
      " 10  address              903393 non-null  object        \n",
      " 11  longitude            903393 non-null  float64       \n",
      " 12  latitude             903393 non-null  float64       \n",
      " 13  month_fmt            903393 non-null  datetime64[ns]\n",
      " 14  month                903393 non-null  int64         \n",
      " 15  year                 903393 non-null  int64         \n",
      "dtypes: datetime64[ns](1), float64(4), int64(4), object(7)\n",
      "memory usage: 110.3+ MB\n",
      "None\n",
      "         town flat_type block       street_name storey_range  floor_area_sqm  \\\n",
      "0  ANG MO KIO    1 ROOM   309  ANG MO KIO AVE 1     10 TO 12            31.0   \n",
      "1  ANG MO KIO    1 ROOM   309  ANG MO KIO AVE 1     04 TO 06            31.0   \n",
      "2  ANG MO KIO    1 ROOM   309  ANG MO KIO AVE 1     10 TO 12            31.0   \n",
      "\n",
      "  flat_model  lease_commence_date  resale_price  remaining_lease  \\\n",
      "0   IMPROVED                 1977        9000.0               86   \n",
      "1   IMPROVED                 1977        6000.0               86   \n",
      "2   IMPROVED                 1977        8000.0               86   \n",
      "\n",
      "                address  longitude  latitude  month_fmt  month  year  \n",
      "0  309 ANG MO KIO AVE 1        0.0       0.0 1990-01-01      1  1990  \n",
      "1  309 ANG MO KIO AVE 1        0.0       0.0 1990-01-01      1  1990  \n",
      "2  309 ANG MO KIO AVE 1        0.0       0.0 1990-01-01      1  1990  \n"
     ]
    }
   ],
   "source": [
    "# View dataset after calculating remaining lease value:\n",
    "print(resale_long_lat_fmt_only.info())\n",
    "\n",
    "# View first 3 rows\n",
    "print(resale_long_lat_fmt_only.head(3))"
   ]
  },
  {
   "cell_type": "markdown",
   "id": "aa6cf964",
   "metadata": {},
   "source": [
    "Observed that remaining lease values has been calculated and there is no more null values for  the current values."
   ]
  },
  {
   "cell_type": "markdown",
   "id": "7446be6e",
   "metadata": {},
   "source": [
    "# Joined Dataset with Planning areas for cleaning\n",
    "\n",
    "Planning area is derived from the OneMap website.\n",
    "The datarows tally with with the original dataset which has been referenced to derive the information"
   ]
  },
  {
   "cell_type": "markdown",
   "id": "3a902259",
   "metadata": {},
   "source": [
    "# Import In dataset containing the Planned Areas"
   ]
  },
  {
   "cell_type": "code",
   "execution_count": 151,
   "id": "bdabd8ef",
   "metadata": {},
   "outputs": [],
   "source": [
    "# Import in Dataset\n",
    "planning_area_df = pd.read_csv('../assets/onemap/planning_area_query.csv')\n"
   ]
  },
  {
   "cell_type": "markdown",
   "id": "7e2fbbd3",
   "metadata": {},
   "source": [
    "## Check if there are null values in the dataset"
   ]
  },
  {
   "cell_type": "code",
   "execution_count": 152,
   "id": "882efe85",
   "metadata": {},
   "outputs": [
    {
     "name": "stdout",
     "output_type": "stream",
     "text": [
      "<class 'pandas.core.frame.DataFrame'>\n",
      "RangeIndex: 903393 entries, 0 to 903392\n",
      "Data columns (total 5 columns):\n",
      " #   Column               Non-Null Count   Dtype  \n",
      "---  ------               --------------   -----  \n",
      " 0   month                903393 non-null  object \n",
      " 1   town                 903393 non-null  object \n",
      " 2   longitude            903393 non-null  float64\n",
      " 3   latitude             903393 non-null  float64\n",
      " 4   planning_query_town  804485 non-null  object \n",
      "dtypes: float64(2), object(3)\n",
      "memory usage: 34.5+ MB\n"
     ]
    }
   ],
   "source": [
    "# get dataset info\n",
    "planning_area_df.info()"
   ]
  },
  {
   "cell_type": "markdown",
   "id": "649a5fb0",
   "metadata": {},
   "source": [
    "Observed that there are missing values for the column \"planning_query_town\".\n",
    "\n",
    "This is expected as this column is derived from the onemap api based on given latitude and longitude information."
   ]
  },
  {
   "cell_type": "code",
   "execution_count": 153,
   "id": "e9c93eaa",
   "metadata": {},
   "outputs": [
    {
     "data": {
      "text/html": [
       "<div>\n",
       "<style scoped>\n",
       "    .dataframe tbody tr th:only-of-type {\n",
       "        vertical-align: middle;\n",
       "    }\n",
       "\n",
       "    .dataframe tbody tr th {\n",
       "        vertical-align: top;\n",
       "    }\n",
       "\n",
       "    .dataframe thead th {\n",
       "        text-align: right;\n",
       "    }\n",
       "</style>\n",
       "<table border=\"1\" class=\"dataframe\">\n",
       "  <thead>\n",
       "    <tr style=\"text-align: right;\">\n",
       "      <th></th>\n",
       "      <th>month</th>\n",
       "      <th>town</th>\n",
       "      <th>longitude</th>\n",
       "      <th>latitude</th>\n",
       "      <th>planning_query_town</th>\n",
       "    </tr>\n",
       "  </thead>\n",
       "  <tbody>\n",
       "    <tr>\n",
       "      <th>0</th>\n",
       "      <td>1990-01</td>\n",
       "      <td>ANG MO KIO</td>\n",
       "      <td>0.000000</td>\n",
       "      <td>0.000000</td>\n",
       "      <td>NaN</td>\n",
       "    </tr>\n",
       "    <tr>\n",
       "      <th>1</th>\n",
       "      <td>1990-01</td>\n",
       "      <td>ANG MO KIO</td>\n",
       "      <td>0.000000</td>\n",
       "      <td>0.000000</td>\n",
       "      <td>NaN</td>\n",
       "    </tr>\n",
       "    <tr>\n",
       "      <th>2</th>\n",
       "      <td>1990-01</td>\n",
       "      <td>ANG MO KIO</td>\n",
       "      <td>0.000000</td>\n",
       "      <td>0.000000</td>\n",
       "      <td>NaN</td>\n",
       "    </tr>\n",
       "    <tr>\n",
       "      <th>3</th>\n",
       "      <td>1990-01</td>\n",
       "      <td>ANG MO KIO</td>\n",
       "      <td>0.000000</td>\n",
       "      <td>0.000000</td>\n",
       "      <td>NaN</td>\n",
       "    </tr>\n",
       "    <tr>\n",
       "      <th>4</th>\n",
       "      <td>1990-01</td>\n",
       "      <td>ANG MO KIO</td>\n",
       "      <td>103.841505</td>\n",
       "      <td>1.366197</td>\n",
       "      <td>ANG MO KIO</td>\n",
       "    </tr>\n",
       "    <tr>\n",
       "      <th>5</th>\n",
       "      <td>1990-01</td>\n",
       "      <td>ANG MO KIO</td>\n",
       "      <td>103.841667</td>\n",
       "      <td>1.369197</td>\n",
       "      <td>ANG MO KIO</td>\n",
       "    </tr>\n",
       "    <tr>\n",
       "      <th>6</th>\n",
       "      <td>1990-01</td>\n",
       "      <td>ANG MO KIO</td>\n",
       "      <td>103.844516</td>\n",
       "      <td>1.368446</td>\n",
       "      <td>ANG MO KIO</td>\n",
       "    </tr>\n",
       "    <tr>\n",
       "      <th>7</th>\n",
       "      <td>1990-01</td>\n",
       "      <td>ANG MO KIO</td>\n",
       "      <td>103.836491</td>\n",
       "      <td>1.366824</td>\n",
       "      <td>ANG MO KIO</td>\n",
       "    </tr>\n",
       "    <tr>\n",
       "      <th>8</th>\n",
       "      <td>1990-01</td>\n",
       "      <td>ANG MO KIO</td>\n",
       "      <td>103.836491</td>\n",
       "      <td>1.366824</td>\n",
       "      <td>ANG MO KIO</td>\n",
       "    </tr>\n",
       "    <tr>\n",
       "      <th>9</th>\n",
       "      <td>1990-01</td>\n",
       "      <td>ANG MO KIO</td>\n",
       "      <td>103.837196</td>\n",
       "      <td>1.368346</td>\n",
       "      <td>ANG MO KIO</td>\n",
       "    </tr>\n",
       "  </tbody>\n",
       "</table>\n",
       "</div>"
      ],
      "text/plain": [
       "     month        town   longitude  latitude planning_query_town\n",
       "0  1990-01  ANG MO KIO    0.000000  0.000000                 NaN\n",
       "1  1990-01  ANG MO KIO    0.000000  0.000000                 NaN\n",
       "2  1990-01  ANG MO KIO    0.000000  0.000000                 NaN\n",
       "3  1990-01  ANG MO KIO    0.000000  0.000000                 NaN\n",
       "4  1990-01  ANG MO KIO  103.841505  1.366197          ANG MO KIO\n",
       "5  1990-01  ANG MO KIO  103.841667  1.369197          ANG MO KIO\n",
       "6  1990-01  ANG MO KIO  103.844516  1.368446          ANG MO KIO\n",
       "7  1990-01  ANG MO KIO  103.836491  1.366824          ANG MO KIO\n",
       "8  1990-01  ANG MO KIO  103.836491  1.366824          ANG MO KIO\n",
       "9  1990-01  ANG MO KIO  103.837196  1.368346          ANG MO KIO"
      ]
     },
     "execution_count": 153,
     "metadata": {},
     "output_type": "execute_result"
    }
   ],
   "source": [
    "# Get first 10 rows of data to view relationship between \"town\" and \"planning_query_town\"\n",
    "planning_area_df.head(10)"
   ]
  },
  {
   "cell_type": "markdown",
   "id": "a2786da4",
   "metadata": {},
   "source": [
    "## Compare unique values of \"town\" and \"planning_query_town\" to observed if there are similarities"
   ]
  },
  {
   "cell_type": "code",
   "execution_count": 154,
   "id": "dcb90524",
   "metadata": {
    "scrolled": false
   },
   "outputs": [
    {
     "data": {
      "text/plain": [
       "array(['ANG MO KIO', 'BEDOK', 'BISHAN', 'BUKIT BATOK', 'BUKIT MERAH',\n",
       "       'BUKIT TIMAH', 'CENTRAL AREA', 'CHOA CHU KANG', 'CLEMENTI',\n",
       "       'GEYLANG', 'HOUGANG', 'JURONG EAST', 'JURONG WEST',\n",
       "       'KALLANG/WHAMPOA', 'MARINE PARADE', 'QUEENSTOWN', 'SENGKANG',\n",
       "       'SERANGOON', 'TAMPINES', 'TOA PAYOH', 'WOODLANDS', 'YISHUN',\n",
       "       'LIM CHU KANG', 'SEMBAWANG', 'BUKIT PANJANG', 'PASIR RIS',\n",
       "       'PUNGGOL'], dtype=object)"
      ]
     },
     "execution_count": 154,
     "metadata": {},
     "output_type": "execute_result"
    }
   ],
   "source": [
    "# Get unique \"town\" values\n",
    "unique_town = planning_area_df[\"town\"].unique()\n",
    "unique_town"
   ]
  },
  {
   "cell_type": "code",
   "execution_count": 155,
   "id": "b318d9ed",
   "metadata": {
    "scrolled": false
   },
   "outputs": [
    {
     "data": {
      "text/plain": [
       "array([nan, 'ANG MO KIO', 'BEDOK', 'BISHAN', 'BUKIT BATOK', 'BUKIT MERAH',\n",
       "       'BUKIT TIMAH', 'TANGLIN', 'OUTRAM', 'ROCHOR', 'DOWNTOWN CORE',\n",
       "       'CHOA CHU KANG', 'CLEMENTI', 'GEYLANG', 'HOUGANG', 'JURONG EAST',\n",
       "       'JURONG WEST', 'KALLANG', 'CHANGI', 'NOVENA', 'QUEENSTOWN',\n",
       "       'MARINE PARADE', 'SERANGOON', 'TAMPINES', 'TOA PAYOH', 'WOODLANDS',\n",
       "       'YISHUN', 'TUAS', 'SUNGEI KADUT', 'LIM CHU KANG', 'BUKIT PANJANG',\n",
       "       'SEMBAWANG', 'PASIR RIS', 'SENGKANG', 'PUNGGOL'], dtype=object)"
      ]
     },
     "execution_count": 155,
     "metadata": {},
     "output_type": "execute_result"
    }
   ],
   "source": [
    "# Get unique \"planning_query_town\" values\n",
    "unqiue_town_planning_query = planning_area_df[\"planning_query_town\"].unique()\n",
    "unqiue_town_planning_query"
   ]
  },
  {
   "cell_type": "code",
   "execution_count": 156,
   "id": "f4132731",
   "metadata": {},
   "outputs": [],
   "source": [
    "# Get unique_town_planning_query without NaN value\n",
    "len_query= len(unqiue_town_planning_query)\n",
    "unique_town_planning_query = unqiue_town_planning_query[1:36]"
   ]
  },
  {
   "cell_type": "code",
   "execution_count": 157,
   "id": "8ccd8e10",
   "metadata": {},
   "outputs": [
    {
     "data": {
      "text/plain": [
       "array(['CHANGI', 'DOWNTOWN CORE', 'KALLANG', 'NOVENA', 'OUTRAM', 'ROCHOR',\n",
       "       'SUNGEI KADUT', 'TANGLIN', 'TUAS'], dtype=object)"
      ]
     },
     "execution_count": 157,
     "metadata": {},
     "output_type": "execute_result"
    }
   ],
   "source": [
    "# Get the differences between unqiue town value and unique value of planning_area_town\n",
    "differences_town = np.setdiff1d(unique_town_planning_query, unique_town)\n",
    "differences_town"
   ]
  },
  {
   "cell_type": "markdown",
   "id": "4bf9ba9e",
   "metadata": {},
   "source": [
    "- Observed that there are some similarities between the \"town\" column and the \"planning_query_town\"\n",
    "- There are towns found in \"planning_query_town\" but not \"town\" such as 'CHANGI', 'DOWNTOWN CORE', 'KALLANG', 'NOVENA', 'OUTRAM', 'ROCHOR','SUNGEI KADUT', 'TANGLIN', 'TUAS'."
   ]
  },
  {
   "cell_type": "code",
   "execution_count": 158,
   "id": "c6e8bc70",
   "metadata": {},
   "outputs": [
    {
     "data": {
      "text/plain": [
       "array(['ANG MO KIO', 'BUKIT BATOK', 'BUKIT MERAH', 'CENTRAL AREA',\n",
       "       'CLEMENTI', 'GEYLANG', 'JURONG EAST', 'JURONG WEST',\n",
       "       'KALLANG/WHAMPOA', 'QUEENSTOWN', 'SENGKANG', 'TOA PAYOH',\n",
       "       'WOODLANDS', 'BEDOK', 'LIM CHU KANG', 'YISHUN', 'BISHAN',\n",
       "       'BUKIT TIMAH', 'CHOA CHU KANG', 'HOUGANG', 'BUKIT PANJANG',\n",
       "       'MARINE PARADE', 'PASIR RIS', 'SERANGOON', 'TAMPINES', 'SEMBAWANG',\n",
       "       'PUNGGOL'], dtype=object)"
      ]
     },
     "execution_count": 158,
     "metadata": {},
     "output_type": "execute_result"
    }
   ],
   "source": [
    "# Get town values where \"planning_query_town\" value is missing\n",
    "unique_town_missing = planning_area_df[planning_area_df[\"planning_query_town\"].isnull()][\"town\"].unique()\n",
    "unique_town_missing\n"
   ]
  },
  {
   "cell_type": "code",
   "execution_count": 159,
   "id": "0985310d",
   "metadata": {},
   "outputs": [
    {
     "data": {
      "text/plain": [
       "array(['CHANGI', 'DOWNTOWN CORE', 'KALLANG', 'NOVENA', 'OUTRAM', 'ROCHOR',\n",
       "       'SUNGEI KADUT', 'TANGLIN', 'TUAS'], dtype=object)"
      ]
     },
     "execution_count": 159,
     "metadata": {},
     "output_type": "execute_result"
    }
   ],
   "source": [
    "# Get the differences between unqiue town value with missing value and unique value of planning_area_town\n",
    "# values that are found in derived \"planning_query_town\" but not in \"town\"\n",
    "differences_town_missing = np.setdiff1d(unique_town_planning_query, unique_town_missing)\n",
    "differences_town_missing"
   ]
  },
  {
   "cell_type": "code",
   "execution_count": 160,
   "id": "28003faa",
   "metadata": {},
   "outputs": [
    {
     "data": {
      "text/plain": [
       "array(['CENTRAL AREA', 'KALLANG/WHAMPOA'], dtype=object)"
      ]
     },
     "execution_count": 160,
     "metadata": {},
     "output_type": "execute_result"
    }
   ],
   "source": [
    "# Difference that are found \"town\" column but not \"planning_query_town\"\n",
    "np.setdiff1d(unique_town_missing,unique_town_planning_query)"
   ]
  },
  {
   "cell_type": "code",
   "execution_count": 161,
   "id": "74061cef",
   "metadata": {
    "scrolled": true
   },
   "outputs": [
    {
     "data": {
      "text/plain": [
       "JURONG WEST        10991\n",
       "ANG MO KIO          8950\n",
       "HOUGANG             8093\n",
       "BEDOK               7557\n",
       "PASIR RIS           5454\n",
       "BUKIT MERAH         4679\n",
       "QUEENSTOWN          4356\n",
       "YISHUN              4278\n",
       "GEYLANG             4200\n",
       "JURONG EAST         4147\n",
       "KALLANG/WHAMPOA     3775\n",
       "WOODLANDS           3767\n",
       "BUKIT BATOK         3646\n",
       "CLEMENTI            3619\n",
       "TAMPINES            3526\n",
       "CHOA CHU KANG       2608\n",
       "SENGKANG            2312\n",
       "PUNGGOL             2210\n",
       "BUKIT PANJANG       2197\n",
       "TOA PAYOH           2021\n",
       "BISHAN              1540\n",
       "SERANGOON           1432\n",
       "SEMBAWANG           1227\n",
       "MARINE PARADE       1093\n",
       "CENTRAL AREA         966\n",
       "BUKIT TIMAH          232\n",
       "LIM CHU KANG          32\n",
       "Name: town, dtype: int64"
      ]
     },
     "execution_count": 161,
     "metadata": {},
     "output_type": "execute_result"
    }
   ],
   "source": [
    "# Observerd the unique :town\" counts which has the missing \"planning_town_query\" values\n",
    "planning_area_df[planning_area_df[\"planning_query_town\"].isnull()][\"town\"].value_counts()"
   ]
  },
  {
   "cell_type": "markdown",
   "id": "c9810535",
   "metadata": {},
   "source": [
    "- Observed that for large number of the town with missing values for planning_query_town, most of the \"town\" columns map with the \"planning_town_query\".\n",
    "- 'CENTRAL AREA', 'KALLANG/WHAMPOA' are columns that are found under \"town\" column but not in \"planning_query_town\".\n",
    "\n",
    "Next:\n",
    "- KALLANG/WHAMPOA will be mapped to KALLANG,\n",
    "- Understand data where town is \"CENTRAL AREA\" to decided what to map data as for \"PLANNING_QUERY_TOWN\" or to drop the rows.\n",
    "    - There are 966 rows out of 903393 rows at 0.1%"
   ]
  },
  {
   "cell_type": "markdown",
   "id": "829c86f7",
   "metadata": {},
   "source": [
    "## Analyse rows where town is \"Central Area\" and \"Planning_Query_Town\" is null"
   ]
  },
  {
   "cell_type": "code",
   "execution_count": 162,
   "id": "04b981cf",
   "metadata": {},
   "outputs": [
    {
     "data": {
      "text/html": [
       "<div>\n",
       "<style scoped>\n",
       "    .dataframe tbody tr th:only-of-type {\n",
       "        vertical-align: middle;\n",
       "    }\n",
       "\n",
       "    .dataframe tbody tr th {\n",
       "        vertical-align: top;\n",
       "    }\n",
       "\n",
       "    .dataframe thead th {\n",
       "        text-align: right;\n",
       "    }\n",
       "</style>\n",
       "<table border=\"1\" class=\"dataframe\">\n",
       "  <thead>\n",
       "    <tr style=\"text-align: right;\">\n",
       "      <th></th>\n",
       "      <th>month</th>\n",
       "      <th>town</th>\n",
       "      <th>longitude</th>\n",
       "      <th>latitude</th>\n",
       "      <th>planning_query_town</th>\n",
       "    </tr>\n",
       "  </thead>\n",
       "  <tbody>\n",
       "    <tr>\n",
       "      <th>510</th>\n",
       "      <td>1990-01</td>\n",
       "      <td>CENTRAL AREA</td>\n",
       "      <td>0.0</td>\n",
       "      <td>0.0</td>\n",
       "      <td>NaN</td>\n",
       "    </tr>\n",
       "    <tr>\n",
       "      <th>511</th>\n",
       "      <td>1990-01</td>\n",
       "      <td>CENTRAL AREA</td>\n",
       "      <td>0.0</td>\n",
       "      <td>0.0</td>\n",
       "      <td>NaN</td>\n",
       "    </tr>\n",
       "    <tr>\n",
       "      <th>512</th>\n",
       "      <td>1990-01</td>\n",
       "      <td>CENTRAL AREA</td>\n",
       "      <td>0.0</td>\n",
       "      <td>0.0</td>\n",
       "      <td>NaN</td>\n",
       "    </tr>\n",
       "    <tr>\n",
       "      <th>2815</th>\n",
       "      <td>1990-03</td>\n",
       "      <td>CENTRAL AREA</td>\n",
       "      <td>0.0</td>\n",
       "      <td>0.0</td>\n",
       "      <td>NaN</td>\n",
       "    </tr>\n",
       "    <tr>\n",
       "      <th>2816</th>\n",
       "      <td>1990-03</td>\n",
       "      <td>CENTRAL AREA</td>\n",
       "      <td>0.0</td>\n",
       "      <td>0.0</td>\n",
       "      <td>NaN</td>\n",
       "    </tr>\n",
       "  </tbody>\n",
       "</table>\n",
       "</div>"
      ],
      "text/plain": [
       "        month          town  longitude  latitude planning_query_town\n",
       "510   1990-01  CENTRAL AREA        0.0       0.0                 NaN\n",
       "511   1990-01  CENTRAL AREA        0.0       0.0                 NaN\n",
       "512   1990-01  CENTRAL AREA        0.0       0.0                 NaN\n",
       "2815  1990-03  CENTRAL AREA        0.0       0.0                 NaN\n",
       "2816  1990-03  CENTRAL AREA        0.0       0.0                 NaN"
      ]
     },
     "execution_count": 162,
     "metadata": {},
     "output_type": "execute_result"
    }
   ],
   "source": [
    "# Get rows from planning_area_df where planning_query_town is null\n",
    "planning_area_df[(planning_area_df[\"town\"] == \"CENTRAL AREA\") & planning_area_df[\"planning_query_town\"].isnull()].head()"
   ]
  },
  {
   "cell_type": "markdown",
   "id": "91dfa840",
   "metadata": {},
   "source": [
    "Observed that the planning_area_df only shows latitude longitude  \n",
    "Next: to retrieve unique street name from resale flat price df to better understand the flat locations."
   ]
  },
  {
   "cell_type": "code",
   "execution_count": 163,
   "id": "18f784a5",
   "metadata": {},
   "outputs": [
    {
     "data": {
      "text/plain": [
       "array(['JLN KUKOH', 'OUTRAM PK', 'SHORT ST', 'SELEGIE RD', 'UPP CROSS ST',\n",
       "       'WATERLOO ST', 'QUEEN ST', 'BUFFALO RD', 'ROWELL RD', 'ROCHOR RD',\n",
       "       'BAIN ST', 'SMITH ST', 'VEERASAMY RD', 'NEW MKT RD',\n",
       "       'TG PAGAR PLAZA', 'KELANTAN RD', 'SAGO LANE', 'JLN BERSEH',\n",
       "       'CHANDER RD', 'CHIN SWEE RD', 'KRETA AYER RD', 'OUTRAM HILL',\n",
       "       'KLANG LANE', 'CANTONMENT RD'], dtype=object)"
      ]
     },
     "execution_count": 163,
     "metadata": {},
     "output_type": "execute_result"
    }
   ],
   "source": [
    "# Get unique street_name from resale flat where town is CENTRAL AREA\n",
    "resale_long_lat_fmt_only[resale_long_lat_fmt_only[\"town\"] == \"CENTRAL AREA\"]['street_name'].unique()"
   ]
  },
  {
   "cell_type": "markdown",
   "id": "c91cb51b",
   "metadata": {},
   "source": [
    "From the following street name where town is \"CENTRAL AREA\", the respective town will be mapped: \n",
    "\n",
    "- 'JLN KUKOH' will be mapped to 'OUTRAM' as it is near Havelock road.\n",
    "- 'OUTRAM PK' will be mapped to 'OUTRAM'\n",
    "- 'SHORT ST' will be mapped to 'ROCHOR' as it is near Rochor station.\n",
    "- 'SELEGIE RD' will be mapped to 'ROCHOR' as it is near Rochor station.\n",
    "- 'UPP CROSS ST' will be mapped to 'OUTRAM'\n",
    "- 'WATERLOO ST' will be mapped to 'ROCHOR'\n",
    "- 'QUEEN ST' will be mapped to 'ROCHOR'\n",
    "- 'BUFFALO RD' will be mapped to 'ROCHOR'\n",
    "- 'ROWELL RD' will be mapped to 'ROCHOR'\n",
    "- 'ROCHOR RD'will be mapped to 'ROCHOR'\n",
    "- 'BAIN ST' will be mapped to 'ROCHOR'\n",
    "- 'SMITH ST' will be mapped to 'OUTRAM'\n",
    "- 'VEERASAMY RD' will be mapped to 'ROCHOR'\n",
    "- 'NEW MKT RD' will be mapped to 'OUTRAM'\n",
    "- 'TG PAGAR PLAZA' will be mapped to 'OUTRAM'\n",
    "- 'KELANTAN RD' will be mapped to 'ROCHOR'\n",
    "- 'SAGO LANE' will be mapped to 'OUTRAM'\n",
    "- 'JLN BERSEH' will be mapped to 'ROCHOR'\n",
    "- 'CHANDER RD' will be mapped to 'ROCHOR'\n",
    "- 'CHIN SWEE RD' will be mapped to 'OUTRAM'\n",
    "- 'KRETA AYER RD'will be mapped to 'OUTRAM'\n",
    "- 'OUTRAM HILL' will be mapped to 'OUTRAM'\n",
    "- 'KLANG LANE' will be mapped to 'ROCHOR'\n",
    "- 'CANTONMENT RD' will be mapped to 'OUTRAM'\n"
   ]
  },
  {
   "cell_type": "markdown",
   "id": "48115501",
   "metadata": {},
   "source": []
  },
  {
   "cell_type": "code",
   "execution_count": 164,
   "id": "bc05a505",
   "metadata": {
    "scrolled": true
   },
   "outputs": [
    {
     "data": {
      "text/html": [
       "<div>\n",
       "<style scoped>\n",
       "    .dataframe tbody tr th:only-of-type {\n",
       "        vertical-align: middle;\n",
       "    }\n",
       "\n",
       "    .dataframe tbody tr th {\n",
       "        vertical-align: top;\n",
       "    }\n",
       "\n",
       "    .dataframe thead th {\n",
       "        text-align: right;\n",
       "    }\n",
       "</style>\n",
       "<table border=\"1\" class=\"dataframe\">\n",
       "  <thead>\n",
       "    <tr style=\"text-align: right;\">\n",
       "      <th></th>\n",
       "      <th>month</th>\n",
       "      <th>town</th>\n",
       "      <th>longitude</th>\n",
       "      <th>latitude</th>\n",
       "      <th>planning_query_town</th>\n",
       "    </tr>\n",
       "  </thead>\n",
       "  <tbody>\n",
       "    <tr>\n",
       "      <th>0</th>\n",
       "      <td>1990-01</td>\n",
       "      <td>ANG MO KIO</td>\n",
       "      <td>0.000000</td>\n",
       "      <td>0.000000</td>\n",
       "      <td>NaN</td>\n",
       "    </tr>\n",
       "    <tr>\n",
       "      <th>1</th>\n",
       "      <td>1990-01</td>\n",
       "      <td>ANG MO KIO</td>\n",
       "      <td>0.000000</td>\n",
       "      <td>0.000000</td>\n",
       "      <td>NaN</td>\n",
       "    </tr>\n",
       "    <tr>\n",
       "      <th>2</th>\n",
       "      <td>1990-01</td>\n",
       "      <td>ANG MO KIO</td>\n",
       "      <td>0.000000</td>\n",
       "      <td>0.000000</td>\n",
       "      <td>NaN</td>\n",
       "    </tr>\n",
       "    <tr>\n",
       "      <th>3</th>\n",
       "      <td>1990-01</td>\n",
       "      <td>ANG MO KIO</td>\n",
       "      <td>0.000000</td>\n",
       "      <td>0.000000</td>\n",
       "      <td>NaN</td>\n",
       "    </tr>\n",
       "    <tr>\n",
       "      <th>15</th>\n",
       "      <td>1990-01</td>\n",
       "      <td>ANG MO KIO</td>\n",
       "      <td>0.000000</td>\n",
       "      <td>0.000000</td>\n",
       "      <td>NaN</td>\n",
       "    </tr>\n",
       "    <tr>\n",
       "      <th>...</th>\n",
       "      <td>...</td>\n",
       "      <td>...</td>\n",
       "      <td>...</td>\n",
       "      <td>...</td>\n",
       "      <td>...</td>\n",
       "    </tr>\n",
       "    <tr>\n",
       "      <th>903124</th>\n",
       "      <td>2014-12</td>\n",
       "      <td>TAMPINES</td>\n",
       "      <td>103.958598</td>\n",
       "      <td>1.357091</td>\n",
       "      <td>NaN</td>\n",
       "    </tr>\n",
       "    <tr>\n",
       "      <th>903125</th>\n",
       "      <td>2014-12</td>\n",
       "      <td>TAMPINES</td>\n",
       "      <td>103.950536</td>\n",
       "      <td>1.358876</td>\n",
       "      <td>NaN</td>\n",
       "    </tr>\n",
       "    <tr>\n",
       "      <th>903126</th>\n",
       "      <td>2014-12</td>\n",
       "      <td>TAMPINES</td>\n",
       "      <td>103.945141</td>\n",
       "      <td>1.359156</td>\n",
       "      <td>NaN</td>\n",
       "    </tr>\n",
       "    <tr>\n",
       "      <th>903127</th>\n",
       "      <td>2014-12</td>\n",
       "      <td>TAMPINES</td>\n",
       "      <td>103.952874</td>\n",
       "      <td>1.357135</td>\n",
       "      <td>NaN</td>\n",
       "    </tr>\n",
       "    <tr>\n",
       "      <th>903128</th>\n",
       "      <td>2014-12</td>\n",
       "      <td>TAMPINES</td>\n",
       "      <td>103.951613</td>\n",
       "      <td>1.359242</td>\n",
       "      <td>NaN</td>\n",
       "    </tr>\n",
       "  </tbody>\n",
       "</table>\n",
       "<p>98908 rows × 5 columns</p>\n",
       "</div>"
      ],
      "text/plain": [
       "          month        town   longitude  latitude planning_query_town\n",
       "0       1990-01  ANG MO KIO    0.000000  0.000000                 NaN\n",
       "1       1990-01  ANG MO KIO    0.000000  0.000000                 NaN\n",
       "2       1990-01  ANG MO KIO    0.000000  0.000000                 NaN\n",
       "3       1990-01  ANG MO KIO    0.000000  0.000000                 NaN\n",
       "15      1990-01  ANG MO KIO    0.000000  0.000000                 NaN\n",
       "...         ...         ...         ...       ...                 ...\n",
       "903124  2014-12    TAMPINES  103.958598  1.357091                 NaN\n",
       "903125  2014-12    TAMPINES  103.950536  1.358876                 NaN\n",
       "903126  2014-12    TAMPINES  103.945141  1.359156                 NaN\n",
       "903127  2014-12    TAMPINES  103.952874  1.357135                 NaN\n",
       "903128  2014-12    TAMPINES  103.951613  1.359242                 NaN\n",
       "\n",
       "[98908 rows x 5 columns]"
      ]
     },
     "execution_count": 164,
     "metadata": {},
     "output_type": "execute_result"
    }
   ],
   "source": [
    "# Next: To find out what are the towns with the planning_query_town data missing\n",
    "planning_area_df[planning_area_df[\"planning_query_town\"].isnull()]\n"
   ]
  },
  {
   "cell_type": "markdown",
   "id": "54fb9b4e",
   "metadata": {},
   "source": [
    "# Concat Resale Flat Price Data with Town Planning Query\n",
    "\n",
    "- \"planning_town_query\" column will be concatenated with with resale flat price dataset.\n",
    "- The concatenated dataset will have 'street_name' available to be used as a conditional requirement to fill in 'town' column"
   ]
  },
  {
   "cell_type": "code",
   "execution_count": 165,
   "id": "9842ada1",
   "metadata": {},
   "outputs": [
    {
     "name": "stdout",
     "output_type": "stream",
     "text": [
      "<class 'pandas.core.frame.DataFrame'>\n",
      "RangeIndex: 903393 entries, 0 to 903392\n",
      "Data columns (total 17 columns):\n",
      " #   Column               Non-Null Count   Dtype         \n",
      "---  ------               --------------   -----         \n",
      " 0   town                 903393 non-null  object        \n",
      " 1   flat_type            903393 non-null  object        \n",
      " 2   block                903393 non-null  object        \n",
      " 3   street_name          903393 non-null  object        \n",
      " 4   storey_range         903393 non-null  object        \n",
      " 5   floor_area_sqm       903393 non-null  float64       \n",
      " 6   flat_model           903393 non-null  object        \n",
      " 7   lease_commence_date  903393 non-null  int64         \n",
      " 8   resale_price         903393 non-null  float64       \n",
      " 9   remaining_lease      903393 non-null  int64         \n",
      " 10  address              903393 non-null  object        \n",
      " 11  longitude            903393 non-null  float64       \n",
      " 12  latitude             903393 non-null  float64       \n",
      " 13  month_fmt            903393 non-null  datetime64[ns]\n",
      " 14  month                903393 non-null  int64         \n",
      " 15  year                 903393 non-null  int64         \n",
      " 16  planning_query_town  804485 non-null  object        \n",
      "dtypes: datetime64[ns](1), float64(4), int64(4), object(8)\n",
      "memory usage: 117.2+ MB\n"
     ]
    }
   ],
   "source": [
    "# Add column \"planning_query_town\" to datafrane\n",
    "resale_long_lat_fmt_only_concat_town = resale_long_lat_fmt_only.copy()\n",
    "resale_long_lat_fmt_only_concat_town[\"planning_query_town\"] = planning_area_df[\"planning_query_town\"]\n",
    "\n",
    "# view concatenated table\n",
    "resale_long_lat_fmt_only_concat_town.info()"
   ]
  },
  {
   "cell_type": "markdown",
   "id": "c4b33989",
   "metadata": {},
   "source": [
    "Observed that \"planning_town_query\" is now added to the dataframe"
   ]
  },
  {
   "cell_type": "markdown",
   "id": "3039c0a2",
   "metadata": {},
   "source": [
    "## Map Planning_Query_Town to Town"
   ]
  },
  {
   "cell_type": "code",
   "execution_count": 166,
   "id": "80e2ca32",
   "metadata": {},
   "outputs": [
    {
     "data": {
      "text/html": [
       "<div>\n",
       "<style scoped>\n",
       "    .dataframe tbody tr th:only-of-type {\n",
       "        vertical-align: middle;\n",
       "    }\n",
       "\n",
       "    .dataframe tbody tr th {\n",
       "        vertical-align: top;\n",
       "    }\n",
       "\n",
       "    .dataframe thead th {\n",
       "        text-align: right;\n",
       "    }\n",
       "</style>\n",
       "<table border=\"1\" class=\"dataframe\">\n",
       "  <thead>\n",
       "    <tr style=\"text-align: right;\">\n",
       "      <th></th>\n",
       "      <th>town</th>\n",
       "      <th>flat_type</th>\n",
       "      <th>block</th>\n",
       "      <th>street_name</th>\n",
       "      <th>storey_range</th>\n",
       "      <th>floor_area_sqm</th>\n",
       "      <th>flat_model</th>\n",
       "      <th>lease_commence_date</th>\n",
       "      <th>resale_price</th>\n",
       "      <th>remaining_lease</th>\n",
       "      <th>address</th>\n",
       "      <th>longitude</th>\n",
       "      <th>latitude</th>\n",
       "      <th>month_fmt</th>\n",
       "      <th>month</th>\n",
       "      <th>year</th>\n",
       "      <th>planning_query_town</th>\n",
       "    </tr>\n",
       "  </thead>\n",
       "  <tbody>\n",
       "    <tr>\n",
       "      <th>0</th>\n",
       "      <td>ANG MO KIO</td>\n",
       "      <td>1 ROOM</td>\n",
       "      <td>309</td>\n",
       "      <td>ANG MO KIO AVE 1</td>\n",
       "      <td>10 TO 12</td>\n",
       "      <td>31.0</td>\n",
       "      <td>IMPROVED</td>\n",
       "      <td>1977</td>\n",
       "      <td>9000.0</td>\n",
       "      <td>86</td>\n",
       "      <td>309 ANG MO KIO AVE 1</td>\n",
       "      <td>0.0</td>\n",
       "      <td>0.0</td>\n",
       "      <td>1990-01-01</td>\n",
       "      <td>1</td>\n",
       "      <td>1990</td>\n",
       "      <td>NaN</td>\n",
       "    </tr>\n",
       "    <tr>\n",
       "      <th>1</th>\n",
       "      <td>ANG MO KIO</td>\n",
       "      <td>1 ROOM</td>\n",
       "      <td>309</td>\n",
       "      <td>ANG MO KIO AVE 1</td>\n",
       "      <td>04 TO 06</td>\n",
       "      <td>31.0</td>\n",
       "      <td>IMPROVED</td>\n",
       "      <td>1977</td>\n",
       "      <td>6000.0</td>\n",
       "      <td>86</td>\n",
       "      <td>309 ANG MO KIO AVE 1</td>\n",
       "      <td>0.0</td>\n",
       "      <td>0.0</td>\n",
       "      <td>1990-01-01</td>\n",
       "      <td>1</td>\n",
       "      <td>1990</td>\n",
       "      <td>NaN</td>\n",
       "    </tr>\n",
       "    <tr>\n",
       "      <th>2</th>\n",
       "      <td>ANG MO KIO</td>\n",
       "      <td>1 ROOM</td>\n",
       "      <td>309</td>\n",
       "      <td>ANG MO KIO AVE 1</td>\n",
       "      <td>10 TO 12</td>\n",
       "      <td>31.0</td>\n",
       "      <td>IMPROVED</td>\n",
       "      <td>1977</td>\n",
       "      <td>8000.0</td>\n",
       "      <td>86</td>\n",
       "      <td>309 ANG MO KIO AVE 1</td>\n",
       "      <td>0.0</td>\n",
       "      <td>0.0</td>\n",
       "      <td>1990-01-01</td>\n",
       "      <td>1</td>\n",
       "      <td>1990</td>\n",
       "      <td>NaN</td>\n",
       "    </tr>\n",
       "    <tr>\n",
       "      <th>3</th>\n",
       "      <td>ANG MO KIO</td>\n",
       "      <td>1 ROOM</td>\n",
       "      <td>309</td>\n",
       "      <td>ANG MO KIO AVE 1</td>\n",
       "      <td>07 TO 09</td>\n",
       "      <td>31.0</td>\n",
       "      <td>IMPROVED</td>\n",
       "      <td>1977</td>\n",
       "      <td>6000.0</td>\n",
       "      <td>86</td>\n",
       "      <td>309 ANG MO KIO AVE 1</td>\n",
       "      <td>0.0</td>\n",
       "      <td>0.0</td>\n",
       "      <td>1990-01-01</td>\n",
       "      <td>1</td>\n",
       "      <td>1990</td>\n",
       "      <td>NaN</td>\n",
       "    </tr>\n",
       "    <tr>\n",
       "      <th>15</th>\n",
       "      <td>ANG MO KIO</td>\n",
       "      <td>3 ROOM</td>\n",
       "      <td>247</td>\n",
       "      <td>ANG MO KIO AVE 3</td>\n",
       "      <td>04 TO 06</td>\n",
       "      <td>82.0</td>\n",
       "      <td>NEW GENERATION</td>\n",
       "      <td>1978</td>\n",
       "      <td>56900.0</td>\n",
       "      <td>87</td>\n",
       "      <td>247 ANG MO KIO AVE 3</td>\n",
       "      <td>0.0</td>\n",
       "      <td>0.0</td>\n",
       "      <td>1990-01-01</td>\n",
       "      <td>1</td>\n",
       "      <td>1990</td>\n",
       "      <td>NaN</td>\n",
       "    </tr>\n",
       "  </tbody>\n",
       "</table>\n",
       "</div>"
      ],
      "text/plain": [
       "          town flat_type block       street_name storey_range  floor_area_sqm  \\\n",
       "0   ANG MO KIO    1 ROOM   309  ANG MO KIO AVE 1     10 TO 12            31.0   \n",
       "1   ANG MO KIO    1 ROOM   309  ANG MO KIO AVE 1     04 TO 06            31.0   \n",
       "2   ANG MO KIO    1 ROOM   309  ANG MO KIO AVE 1     10 TO 12            31.0   \n",
       "3   ANG MO KIO    1 ROOM   309  ANG MO KIO AVE 1     07 TO 09            31.0   \n",
       "15  ANG MO KIO    3 ROOM   247  ANG MO KIO AVE 3     04 TO 06            82.0   \n",
       "\n",
       "        flat_model  lease_commence_date  resale_price  remaining_lease  \\\n",
       "0         IMPROVED                 1977        9000.0               86   \n",
       "1         IMPROVED                 1977        6000.0               86   \n",
       "2         IMPROVED                 1977        8000.0               86   \n",
       "3         IMPROVED                 1977        6000.0               86   \n",
       "15  NEW GENERATION                 1978       56900.0               87   \n",
       "\n",
       "                 address  longitude  latitude  month_fmt  month  year  \\\n",
       "0   309 ANG MO KIO AVE 1        0.0       0.0 1990-01-01      1  1990   \n",
       "1   309 ANG MO KIO AVE 1        0.0       0.0 1990-01-01      1  1990   \n",
       "2   309 ANG MO KIO AVE 1        0.0       0.0 1990-01-01      1  1990   \n",
       "3   309 ANG MO KIO AVE 1        0.0       0.0 1990-01-01      1  1990   \n",
       "15  247 ANG MO KIO AVE 3        0.0       0.0 1990-01-01      1  1990   \n",
       "\n",
       "   planning_query_town  \n",
       "0                  NaN  \n",
       "1                  NaN  \n",
       "2                  NaN  \n",
       "3                  NaN  \n",
       "15                 NaN  "
      ]
     },
     "execution_count": 166,
     "metadata": {},
     "output_type": "execute_result"
    }
   ],
   "source": [
    "# view the rows where the plannning_query_town is NaN\n",
    "resale_long_lat_fmt_only_concat_town[resale_long_lat_fmt_only_concat_town[\"planning_query_town\"].isnull()].head(5)\n"
   ]
  },
  {
   "cell_type": "markdown",
   "id": "6f6fef30",
   "metadata": {},
   "source": [
    "### Update rows where town is \"KALLANG/WHAMPOA\" to \"KALLANG \" for \"planning_query_town\"."
   ]
  },
  {
   "cell_type": "code",
   "execution_count": 167,
   "id": "f91aa273",
   "metadata": {},
   "outputs": [
    {
     "name": "stdout",
     "output_type": "stream",
     "text": [
      "<class 'pandas.core.frame.DataFrame'>\n",
      "Int64Index: 3775 entries, 979 to 902817\n",
      "Data columns (total 17 columns):\n",
      " #   Column               Non-Null Count  Dtype         \n",
      "---  ------               --------------  -----         \n",
      " 0   town                 3775 non-null   object        \n",
      " 1   flat_type            3775 non-null   object        \n",
      " 2   block                3775 non-null   object        \n",
      " 3   street_name          3775 non-null   object        \n",
      " 4   storey_range         3775 non-null   object        \n",
      " 5   floor_area_sqm       3775 non-null   float64       \n",
      " 6   flat_model           3775 non-null   object        \n",
      " 7   lease_commence_date  3775 non-null   int64         \n",
      " 8   resale_price         3775 non-null   float64       \n",
      " 9   remaining_lease      3775 non-null   int64         \n",
      " 10  address              3775 non-null   object        \n",
      " 11  longitude            3775 non-null   float64       \n",
      " 12  latitude             3775 non-null   float64       \n",
      " 13  month_fmt            3775 non-null   datetime64[ns]\n",
      " 14  month                3775 non-null   int64         \n",
      " 15  year                 3775 non-null   int64         \n",
      " 16  planning_query_town  0 non-null      object        \n",
      "dtypes: datetime64[ns](1), float64(4), int64(4), object(8)\n",
      "memory usage: 530.9+ KB\n"
     ]
    }
   ],
   "source": [
    "# Check count where town is \"KALLANG/WHAMPOA\" and \"planning_query_town\" is NaN\n",
    "resale_long_lat_fmt_only_concat_town[\n",
    "                                    (resale_long_lat_fmt_only_concat_town['town'] == 'KALLANG/WHAMPOA')\n",
    "                                    & (resale_long_lat_fmt_only_concat_town['planning_query_town'].isnull())\n",
    "                                    ].info()"
   ]
  },
  {
   "cell_type": "markdown",
   "id": "a30deb4f",
   "metadata": {},
   "source": [
    "It is observed that there are 3775 rows to for \"planning_query_town\" area to be renamed to \"KALLANG\""
   ]
  },
  {
   "cell_type": "code",
   "execution_count": 168,
   "id": "20796f54",
   "metadata": {},
   "outputs": [
    {
     "data": {
      "text/html": [
       "<div>\n",
       "<style scoped>\n",
       "    .dataframe tbody tr th:only-of-type {\n",
       "        vertical-align: middle;\n",
       "    }\n",
       "\n",
       "    .dataframe tbody tr th {\n",
       "        vertical-align: top;\n",
       "    }\n",
       "\n",
       "    .dataframe thead th {\n",
       "        text-align: right;\n",
       "    }\n",
       "</style>\n",
       "<table border=\"1\" class=\"dataframe\">\n",
       "  <thead>\n",
       "    <tr style=\"text-align: right;\">\n",
       "      <th></th>\n",
       "      <th>town</th>\n",
       "      <th>flat_type</th>\n",
       "      <th>block</th>\n",
       "      <th>street_name</th>\n",
       "      <th>storey_range</th>\n",
       "      <th>floor_area_sqm</th>\n",
       "      <th>flat_model</th>\n",
       "      <th>lease_commence_date</th>\n",
       "      <th>resale_price</th>\n",
       "      <th>remaining_lease</th>\n",
       "      <th>address</th>\n",
       "      <th>longitude</th>\n",
       "      <th>latitude</th>\n",
       "      <th>month_fmt</th>\n",
       "      <th>month</th>\n",
       "      <th>year</th>\n",
       "      <th>planning_query_town</th>\n",
       "    </tr>\n",
       "  </thead>\n",
       "  <tbody>\n",
       "    <tr>\n",
       "      <th>971</th>\n",
       "      <td>KALLANG/WHAMPOA</td>\n",
       "      <td>2 ROOM</td>\n",
       "      <td>9</td>\n",
       "      <td>JLN BATU</td>\n",
       "      <td>07 TO 09</td>\n",
       "      <td>50.0</td>\n",
       "      <td>STANDARD</td>\n",
       "      <td>1970</td>\n",
       "      <td>15300.0</td>\n",
       "      <td>79</td>\n",
       "      <td>9 JLN BATU</td>\n",
       "      <td>103.787716</td>\n",
       "      <td>1.335736</td>\n",
       "      <td>1990-01-01</td>\n",
       "      <td>1</td>\n",
       "      <td>1990</td>\n",
       "      <td>BUKIT TIMAH</td>\n",
       "    </tr>\n",
       "    <tr>\n",
       "      <th>972</th>\n",
       "      <td>KALLANG/WHAMPOA</td>\n",
       "      <td>3 ROOM</td>\n",
       "      <td>2</td>\n",
       "      <td>ST. GEORGE'S RD</td>\n",
       "      <td>07 TO 09</td>\n",
       "      <td>59.0</td>\n",
       "      <td>IMPROVED</td>\n",
       "      <td>1976</td>\n",
       "      <td>45700.0</td>\n",
       "      <td>85</td>\n",
       "      <td>2 ST. GEORGE'S RD</td>\n",
       "      <td>103.860687</td>\n",
       "      <td>1.323426</td>\n",
       "      <td>1990-01-01</td>\n",
       "      <td>1</td>\n",
       "      <td>1990</td>\n",
       "      <td>KALLANG</td>\n",
       "    </tr>\n",
       "    <tr>\n",
       "      <th>973</th>\n",
       "      <td>KALLANG/WHAMPOA</td>\n",
       "      <td>3 ROOM</td>\n",
       "      <td>468</td>\n",
       "      <td>NTH BRIDGE RD</td>\n",
       "      <td>10 TO 12</td>\n",
       "      <td>60.0</td>\n",
       "      <td>IMPROVED</td>\n",
       "      <td>1979</td>\n",
       "      <td>52000.0</td>\n",
       "      <td>88</td>\n",
       "      <td>468 NTH BRIDGE RD</td>\n",
       "      <td>103.863222</td>\n",
       "      <td>1.305392</td>\n",
       "      <td>1990-01-01</td>\n",
       "      <td>1</td>\n",
       "      <td>1990</td>\n",
       "      <td>KALLANG</td>\n",
       "    </tr>\n",
       "  </tbody>\n",
       "</table>\n",
       "</div>"
      ],
      "text/plain": [
       "                town flat_type block      street_name storey_range  \\\n",
       "971  KALLANG/WHAMPOA    2 ROOM     9         JLN BATU     07 TO 09   \n",
       "972  KALLANG/WHAMPOA    3 ROOM     2  ST. GEORGE'S RD     07 TO 09   \n",
       "973  KALLANG/WHAMPOA    3 ROOM   468    NTH BRIDGE RD     10 TO 12   \n",
       "\n",
       "     floor_area_sqm flat_model  lease_commence_date  resale_price  \\\n",
       "971            50.0   STANDARD                 1970       15300.0   \n",
       "972            59.0   IMPROVED                 1976       45700.0   \n",
       "973            60.0   IMPROVED                 1979       52000.0   \n",
       "\n",
       "     remaining_lease            address   longitude  latitude  month_fmt  \\\n",
       "971               79         9 JLN BATU  103.787716  1.335736 1990-01-01   \n",
       "972               85  2 ST. GEORGE'S RD  103.860687  1.323426 1990-01-01   \n",
       "973               88  468 NTH BRIDGE RD  103.863222  1.305392 1990-01-01   \n",
       "\n",
       "     month  year planning_query_town  \n",
       "971      1  1990         BUKIT TIMAH  \n",
       "972      1  1990             KALLANG  \n",
       "973      1  1990             KALLANG  "
      ]
     },
     "execution_count": 168,
     "metadata": {},
     "output_type": "execute_result"
    }
   ],
   "source": [
    "# Rename Column to \"KALLANG\"\n",
    "resale_long_lat_fmt_only_concat_town.loc[(resale_long_lat_fmt_only_concat_town['town']=='KALLANG/WHAMPOA')\n",
    "                                         & (resale_long_lat_fmt_only_concat_town['planning_query_town'].isnull())\n",
    "                                        ,'planning_query_town'] = 'KALLANG'\n",
    "\n",
    "# check that column has been updated\n",
    "resale_long_lat_fmt_only_concat_town[resale_long_lat_fmt_only_concat_town['town']=='KALLANG/WHAMPOA'].head(3)"
   ]
  },
  {
   "cell_type": "code",
   "execution_count": 169,
   "id": "6cf36b2d",
   "metadata": {},
   "outputs": [
    {
     "name": "stdout",
     "output_type": "stream",
     "text": [
      "<class 'pandas.core.frame.DataFrame'>\n",
      "Int64Index: 0 entries\n",
      "Data columns (total 17 columns):\n",
      " #   Column               Non-Null Count  Dtype         \n",
      "---  ------               --------------  -----         \n",
      " 0   town                 0 non-null      object        \n",
      " 1   flat_type            0 non-null      object        \n",
      " 2   block                0 non-null      object        \n",
      " 3   street_name          0 non-null      object        \n",
      " 4   storey_range         0 non-null      object        \n",
      " 5   floor_area_sqm       0 non-null      float64       \n",
      " 6   flat_model           0 non-null      object        \n",
      " 7   lease_commence_date  0 non-null      int64         \n",
      " 8   resale_price         0 non-null      float64       \n",
      " 9   remaining_lease      0 non-null      int64         \n",
      " 10  address              0 non-null      object        \n",
      " 11  longitude            0 non-null      float64       \n",
      " 12  latitude             0 non-null      float64       \n",
      " 13  month_fmt            0 non-null      datetime64[ns]\n",
      " 14  month                0 non-null      int64         \n",
      " 15  year                 0 non-null      int64         \n",
      " 16  planning_query_town  0 non-null      object        \n",
      "dtypes: datetime64[ns](1), float64(4), int64(4), object(8)\n",
      "memory usage: 0.0+ bytes\n"
     ]
    }
   ],
   "source": [
    "# Check if columns have been updated successfully.\n",
    "# Check count where town is \"KALLANG/WHAMPOA\" and \"planning_query_town\" is NaN\n",
    "resale_long_lat_fmt_only_concat_town[\n",
    "                                    (resale_long_lat_fmt_only_concat_town['town'] == 'KALLANG/WHAMPOA')\n",
    "                                    & (resale_long_lat_fmt_only_concat_town['planning_query_town'].isnull())\n",
    "                                    ].info()"
   ]
  },
  {
   "cell_type": "markdown",
   "id": "5c1590c7",
   "metadata": {},
   "source": [
    "Observe and validated that \"KALLANG\" has been updated for \"planning_query_town\"."
   ]
  },
  {
   "cell_type": "markdown",
   "id": "4f31f3f9",
   "metadata": {},
   "source": [
    "## Update planning_query_town for town \"CENTRAL AREA\"\n",
    "\n",
    "- \"Central Area\" is not an option under \"planning_query_town\".\n",
    "- \"OUTRAM\" or \"ROCHOR\" will be assigned as a value under \"planning_query_town\" depending on the \"street_name\" for town."
   ]
  },
  {
   "cell_type": "code",
   "execution_count": 170,
   "id": "f163b89a",
   "metadata": {},
   "outputs": [],
   "source": [
    "# Create List of Street Name where town is \"CENTRAL AREA\" for planning_query_town to be mapped as \"OUTRAM\"\n",
    "street_name_to_OUTRAM = ['JLN KUKOH', 'OUTRAM PK', 'UPP CROSS ST'\n",
    "                         , 'SMITH ST', 'NEW MKT RD', 'TG PAGAR PLAZA'\n",
    "                         , 'SAGO LANE', 'CHIN SWEE RD', 'KRETA AYER RD'\n",
    "                         , 'OUTRAM HILL', 'CANTONMENT RD'\n",
    "                        ]\n",
    "\n",
    "# Create List of Street Name where town is \"CENTRAL AREA\" for planning_query_town to be mapped as \"ROCHOR\"\n",
    "street_name_to_ROCHOR = ['SHORT ST', 'SELEGIE RD', 'WATERLOO ST'\n",
    "                         , 'QUEEN ST', 'BUFFALO RD', 'ROWELL RD'\n",
    "                         , 'ROCHOR RD', 'BAIN ST', 'VEERASAMY RD'\n",
    "                         , 'KELANTAN RD', 'JLN BERSEH', 'CHANDER RD'\n",
    "                         , 'KLANG LANE'                        \n",
    "                        ] \n"
   ]
  },
  {
   "cell_type": "code",
   "execution_count": 171,
   "id": "66654e33",
   "metadata": {},
   "outputs": [
    {
     "data": {
      "text/html": [
       "<div>\n",
       "<style scoped>\n",
       "    .dataframe tbody tr th:only-of-type {\n",
       "        vertical-align: middle;\n",
       "    }\n",
       "\n",
       "    .dataframe tbody tr th {\n",
       "        vertical-align: top;\n",
       "    }\n",
       "\n",
       "    .dataframe thead th {\n",
       "        text-align: right;\n",
       "    }\n",
       "</style>\n",
       "<table border=\"1\" class=\"dataframe\">\n",
       "  <thead>\n",
       "    <tr style=\"text-align: right;\">\n",
       "      <th></th>\n",
       "      <th>town</th>\n",
       "      <th>flat_type</th>\n",
       "      <th>block</th>\n",
       "      <th>street_name</th>\n",
       "      <th>storey_range</th>\n",
       "      <th>floor_area_sqm</th>\n",
       "      <th>flat_model</th>\n",
       "      <th>lease_commence_date</th>\n",
       "      <th>resale_price</th>\n",
       "      <th>remaining_lease</th>\n",
       "      <th>address</th>\n",
       "      <th>longitude</th>\n",
       "      <th>latitude</th>\n",
       "      <th>month_fmt</th>\n",
       "      <th>month</th>\n",
       "      <th>year</th>\n",
       "      <th>planning_query_town</th>\n",
       "    </tr>\n",
       "  </thead>\n",
       "  <tbody>\n",
       "    <tr>\n",
       "      <th>509</th>\n",
       "      <td>CENTRAL AREA</td>\n",
       "      <td>2 ROOM</td>\n",
       "      <td>8</td>\n",
       "      <td>JLN KUKOH</td>\n",
       "      <td>10 TO 12</td>\n",
       "      <td>53.0</td>\n",
       "      <td>IMPROVED</td>\n",
       "      <td>1971</td>\n",
       "      <td>30000.0</td>\n",
       "      <td>80</td>\n",
       "      <td>8 JLN KUKOH</td>\n",
       "      <td>103.839407</td>\n",
       "      <td>1.287378</td>\n",
       "      <td>1990-01-01</td>\n",
       "      <td>1</td>\n",
       "      <td>1990</td>\n",
       "      <td>OUTRAM</td>\n",
       "    </tr>\n",
       "    <tr>\n",
       "      <th>2827</th>\n",
       "      <td>CENTRAL AREA</td>\n",
       "      <td>3 ROOM</td>\n",
       "      <td>8</td>\n",
       "      <td>JLN KUKOH</td>\n",
       "      <td>13 TO 15</td>\n",
       "      <td>76.0</td>\n",
       "      <td>IMPROVED</td>\n",
       "      <td>1971</td>\n",
       "      <td>41000.0</td>\n",
       "      <td>80</td>\n",
       "      <td>8 JLN KUKOH</td>\n",
       "      <td>103.839407</td>\n",
       "      <td>1.287378</td>\n",
       "      <td>1990-03-01</td>\n",
       "      <td>3</td>\n",
       "      <td>1990</td>\n",
       "      <td>OUTRAM</td>\n",
       "    </tr>\n",
       "    <tr>\n",
       "      <th>3942</th>\n",
       "      <td>CENTRAL AREA</td>\n",
       "      <td>2 ROOM</td>\n",
       "      <td>8</td>\n",
       "      <td>JLN KUKOH</td>\n",
       "      <td>10 TO 12</td>\n",
       "      <td>53.0</td>\n",
       "      <td>IMPROVED</td>\n",
       "      <td>1971</td>\n",
       "      <td>32500.0</td>\n",
       "      <td>80</td>\n",
       "      <td>8 JLN KUKOH</td>\n",
       "      <td>103.839407</td>\n",
       "      <td>1.287378</td>\n",
       "      <td>1990-04-01</td>\n",
       "      <td>4</td>\n",
       "      <td>1990</td>\n",
       "      <td>OUTRAM</td>\n",
       "    </tr>\n",
       "  </tbody>\n",
       "</table>\n",
       "</div>"
      ],
      "text/plain": [
       "              town flat_type block street_name storey_range  floor_area_sqm  \\\n",
       "509   CENTRAL AREA    2 ROOM     8   JLN KUKOH     10 TO 12            53.0   \n",
       "2827  CENTRAL AREA    3 ROOM     8   JLN KUKOH     13 TO 15            76.0   \n",
       "3942  CENTRAL AREA    2 ROOM     8   JLN KUKOH     10 TO 12            53.0   \n",
       "\n",
       "     flat_model  lease_commence_date  resale_price  remaining_lease  \\\n",
       "509    IMPROVED                 1971       30000.0               80   \n",
       "2827   IMPROVED                 1971       41000.0               80   \n",
       "3942   IMPROVED                 1971       32500.0               80   \n",
       "\n",
       "          address   longitude  latitude  month_fmt  month  year  \\\n",
       "509   8 JLN KUKOH  103.839407  1.287378 1990-01-01      1  1990   \n",
       "2827  8 JLN KUKOH  103.839407  1.287378 1990-03-01      3  1990   \n",
       "3942  8 JLN KUKOH  103.839407  1.287378 1990-04-01      4  1990   \n",
       "\n",
       "     planning_query_town  \n",
       "509               OUTRAM  \n",
       "2827              OUTRAM  \n",
       "3942              OUTRAM  "
      ]
     },
     "execution_count": 171,
     "metadata": {},
     "output_type": "execute_result"
    }
   ],
   "source": [
    "# Create for loop to set \"planning_query_town\" to OUTRAM if street_name matches list\n",
    "\n",
    "# instantiate counter variable\n",
    "counter = 0\n",
    "\n",
    "for street_name in street_name_to_OUTRAM:\n",
    "    resale_long_lat_fmt_only_concat_town.loc[(resale_long_lat_fmt_only_concat_town['town']=='CENTRAL AREA')\n",
    "                                             & (resale_long_lat_fmt_only_concat_town['street_name']== street_name)\n",
    "                                             & (resale_long_lat_fmt_only_concat_town['planning_query_town'].isnull())\n",
    "                                            ,'planning_query_town'] = 'OUTRAM'\n",
    "\n",
    "# # Sample check that OUTRAM has been replaced base on street_name\n",
    "resale_long_lat_fmt_only_concat_town[(resale_long_lat_fmt_only_concat_town['town'] == 'CENTRAL AREA')\n",
    "                                    & (resale_long_lat_fmt_only_concat_town['street_name'] == 'JLN KUKOH')].head(3)\n",
    "\n",
    "    "
   ]
  },
  {
   "cell_type": "code",
   "execution_count": 172,
   "id": "411ce32e",
   "metadata": {},
   "outputs": [
    {
     "data": {
      "text/html": [
       "<div>\n",
       "<style scoped>\n",
       "    .dataframe tbody tr th:only-of-type {\n",
       "        vertical-align: middle;\n",
       "    }\n",
       "\n",
       "    .dataframe tbody tr th {\n",
       "        vertical-align: top;\n",
       "    }\n",
       "\n",
       "    .dataframe thead th {\n",
       "        text-align: right;\n",
       "    }\n",
       "</style>\n",
       "<table border=\"1\" class=\"dataframe\">\n",
       "  <thead>\n",
       "    <tr style=\"text-align: right;\">\n",
       "      <th></th>\n",
       "      <th>town</th>\n",
       "      <th>flat_type</th>\n",
       "      <th>block</th>\n",
       "      <th>street_name</th>\n",
       "      <th>storey_range</th>\n",
       "      <th>floor_area_sqm</th>\n",
       "      <th>flat_model</th>\n",
       "      <th>lease_commence_date</th>\n",
       "      <th>resale_price</th>\n",
       "      <th>remaining_lease</th>\n",
       "      <th>address</th>\n",
       "      <th>longitude</th>\n",
       "      <th>latitude</th>\n",
       "      <th>month_fmt</th>\n",
       "      <th>month</th>\n",
       "      <th>year</th>\n",
       "      <th>planning_query_town</th>\n",
       "    </tr>\n",
       "  </thead>\n",
       "  <tbody>\n",
       "    <tr>\n",
       "      <th>511</th>\n",
       "      <td>CENTRAL AREA</td>\n",
       "      <td>2 ROOM</td>\n",
       "      <td>12</td>\n",
       "      <td>SHORT ST</td>\n",
       "      <td>04 TO 06</td>\n",
       "      <td>38.0</td>\n",
       "      <td>STANDARD</td>\n",
       "      <td>1974</td>\n",
       "      <td>22000.0</td>\n",
       "      <td>83</td>\n",
       "      <td>12 SHORT ST</td>\n",
       "      <td>0.0</td>\n",
       "      <td>0.0</td>\n",
       "      <td>1990-01-01</td>\n",
       "      <td>1</td>\n",
       "      <td>1990</td>\n",
       "      <td>ROCHOR</td>\n",
       "    </tr>\n",
       "    <tr>\n",
       "      <th>512</th>\n",
       "      <td>CENTRAL AREA</td>\n",
       "      <td>2 ROOM</td>\n",
       "      <td>13</td>\n",
       "      <td>SHORT ST</td>\n",
       "      <td>04 TO 06</td>\n",
       "      <td>38.0</td>\n",
       "      <td>STANDARD</td>\n",
       "      <td>1974</td>\n",
       "      <td>23200.0</td>\n",
       "      <td>83</td>\n",
       "      <td>13 SHORT ST</td>\n",
       "      <td>0.0</td>\n",
       "      <td>0.0</td>\n",
       "      <td>1990-01-01</td>\n",
       "      <td>1</td>\n",
       "      <td>1990</td>\n",
       "      <td>ROCHOR</td>\n",
       "    </tr>\n",
       "    <tr>\n",
       "      <th>2815</th>\n",
       "      <td>CENTRAL AREA</td>\n",
       "      <td>2 ROOM</td>\n",
       "      <td>11</td>\n",
       "      <td>SHORT ST</td>\n",
       "      <td>04 TO 06</td>\n",
       "      <td>38.0</td>\n",
       "      <td>STANDARD</td>\n",
       "      <td>1974</td>\n",
       "      <td>19000.0</td>\n",
       "      <td>83</td>\n",
       "      <td>11 SHORT ST</td>\n",
       "      <td>0.0</td>\n",
       "      <td>0.0</td>\n",
       "      <td>1990-03-01</td>\n",
       "      <td>3</td>\n",
       "      <td>1990</td>\n",
       "      <td>ROCHOR</td>\n",
       "    </tr>\n",
       "  </tbody>\n",
       "</table>\n",
       "</div>"
      ],
      "text/plain": [
       "              town flat_type block street_name storey_range  floor_area_sqm  \\\n",
       "511   CENTRAL AREA    2 ROOM    12    SHORT ST     04 TO 06            38.0   \n",
       "512   CENTRAL AREA    2 ROOM    13    SHORT ST     04 TO 06            38.0   \n",
       "2815  CENTRAL AREA    2 ROOM    11    SHORT ST     04 TO 06            38.0   \n",
       "\n",
       "     flat_model  lease_commence_date  resale_price  remaining_lease  \\\n",
       "511    STANDARD                 1974       22000.0               83   \n",
       "512    STANDARD                 1974       23200.0               83   \n",
       "2815   STANDARD                 1974       19000.0               83   \n",
       "\n",
       "          address  longitude  latitude  month_fmt  month  year  \\\n",
       "511   12 SHORT ST        0.0       0.0 1990-01-01      1  1990   \n",
       "512   13 SHORT ST        0.0       0.0 1990-01-01      1  1990   \n",
       "2815  11 SHORT ST        0.0       0.0 1990-03-01      3  1990   \n",
       "\n",
       "     planning_query_town  \n",
       "511               ROCHOR  \n",
       "512               ROCHOR  \n",
       "2815              ROCHOR  "
      ]
     },
     "execution_count": 172,
     "metadata": {},
     "output_type": "execute_result"
    }
   ],
   "source": [
    "# Create for loop to set \"planning_query_town\" to ROCHOR if street_name matches list\n",
    "\n",
    "# instantiate counter variable\n",
    "counter = 0\n",
    "\n",
    "for street_name in street_name_to_ROCHOR:\n",
    "    resale_long_lat_fmt_only_concat_town.loc[(resale_long_lat_fmt_only_concat_town['town']=='CENTRAL AREA')\n",
    "                                             & (resale_long_lat_fmt_only_concat_town['street_name']== street_name)\n",
    "                                             & (resale_long_lat_fmt_only_concat_town['planning_query_town'].isnull())\n",
    "                                            ,'planning_query_town'] = 'ROCHOR'\n",
    "\n",
    "# # Sample check that OUTRAM has been replaced base on street_name\n",
    "resale_long_lat_fmt_only_concat_town[(resale_long_lat_fmt_only_concat_town['town'] == 'CENTRAL AREA')\n",
    "                                    & (resale_long_lat_fmt_only_concat_town['street_name'] == 'SHORT ST')].head(3)"
   ]
  },
  {
   "cell_type": "code",
   "execution_count": 173,
   "id": "f60aaf47",
   "metadata": {},
   "outputs": [
    {
     "name": "stdout",
     "output_type": "stream",
     "text": [
      "<class 'pandas.core.frame.DataFrame'>\n",
      "Int64Index: 6983 entries, 509 to 902442\n",
      "Data columns (total 17 columns):\n",
      " #   Column               Non-Null Count  Dtype         \n",
      "---  ------               --------------  -----         \n",
      " 0   town                 6983 non-null   object        \n",
      " 1   flat_type            6983 non-null   object        \n",
      " 2   block                6983 non-null   object        \n",
      " 3   street_name          6983 non-null   object        \n",
      " 4   storey_range         6983 non-null   object        \n",
      " 5   floor_area_sqm       6983 non-null   float64       \n",
      " 6   flat_model           6983 non-null   object        \n",
      " 7   lease_commence_date  6983 non-null   int64         \n",
      " 8   resale_price         6983 non-null   float64       \n",
      " 9   remaining_lease      6983 non-null   int64         \n",
      " 10  address              6983 non-null   object        \n",
      " 11  longitude            6983 non-null   float64       \n",
      " 12  latitude             6983 non-null   float64       \n",
      " 13  month_fmt            6983 non-null   datetime64[ns]\n",
      " 14  month                6983 non-null   int64         \n",
      " 15  year                 6983 non-null   int64         \n",
      " 16  planning_query_town  6983 non-null   object        \n",
      "dtypes: datetime64[ns](1), float64(4), int64(4), object(8)\n",
      "memory usage: 982.0+ KB\n"
     ]
    }
   ],
   "source": [
    "# check that column has been updated\n",
    "resale_long_lat_fmt_only_concat_town[resale_long_lat_fmt_only_concat_town['town']=='CENTRAL AREA'].info()"
   ]
  },
  {
   "cell_type": "markdown",
   "id": "a37f3b69",
   "metadata": {},
   "source": [
    "Observed that there are no more null values for planning_query_town where \"town\" is 'CENTRAL AREA\"."
   ]
  },
  {
   "cell_type": "markdown",
   "id": "9afbb5a2",
   "metadata": {},
   "source": [
    "### Update planning_query_town where town is the same  name"
   ]
  },
  {
   "cell_type": "code",
   "execution_count": 174,
   "id": "688636af",
   "metadata": {},
   "outputs": [
    {
     "data": {
      "text/plain": [
       "JURONG WEST      10991\n",
       "ANG MO KIO        8950\n",
       "HOUGANG           8093\n",
       "BEDOK             7557\n",
       "PASIR RIS         5454\n",
       "BUKIT MERAH       4679\n",
       "QUEENSTOWN        4356\n",
       "YISHUN            4278\n",
       "GEYLANG           4200\n",
       "JURONG EAST       4147\n",
       "WOODLANDS         3767\n",
       "BUKIT BATOK       3646\n",
       "CLEMENTI          3619\n",
       "TAMPINES          3526\n",
       "CHOA CHU KANG     2608\n",
       "SENGKANG          2312\n",
       "PUNGGOL           2210\n",
       "BUKIT PANJANG     2197\n",
       "TOA PAYOH         2021\n",
       "BISHAN            1540\n",
       "SERANGOON         1432\n",
       "SEMBAWANG         1227\n",
       "MARINE PARADE     1093\n",
       "BUKIT TIMAH        232\n",
       "LIM CHU KANG        32\n",
       "Name: town, dtype: int64"
      ]
     },
     "execution_count": 174,
     "metadata": {},
     "output_type": "execute_result"
    }
   ],
   "source": [
    "# Retrieve unique town name where planning_query_town is null.\n",
    "resale_long_lat_fmt_only_concat_town[resale_long_lat_fmt_only_concat_town[\"planning_query_town\"].isnull()][\"town\"].value_counts()\n"
   ]
  },
  {
   "cell_type": "markdown",
   "id": "4974abd3",
   "metadata": {},
   "source": [
    "- Observed that the unique \"town\" values where \"planning_query_town\" is NaN has the same name as the existing \"planning_query_town\" as follows.\n",
    "\n",
    "- Unique \"planning_query_town\":\n",
    "        'ANG MO KIO', 'BEDOK', 'BISHAN', 'BUKIT BATOK', 'BUKIT MERAH',\n",
    "       'BUKIT TIMAH', 'TANGLIN', 'OUTRAM', 'ROCHOR', 'DOWNTOWN CORE',\n",
    "       'CHOA CHU KANG', 'CLEMENTI', 'GEYLANG', 'HOUGANG', 'JURONG EAST',\n",
    "       'JURONG WEST', 'KALLANG', 'CHANGI', 'NOVENA', 'QUEENSTOWN',\n",
    "       'MARINE PARADE', 'SERANGOON', 'TAMPINES', 'TOA PAYOH', 'WOODLANDS',\n",
    "       'YISHUN', 'TUAS', 'SUNGEI KADUT', 'LIM CHU KANG', 'BUKIT PANJANG',\n",
    "       'SEMBAWANG', 'PASIR RIS', 'SENGKANG', 'PUNGGOL'\n",
    "\n",
    "- Next: update the remaining planning_query_town value with NaN with existing values of \"town\"."
   ]
  },
  {
   "cell_type": "code",
   "execution_count": 175,
   "id": "dfb3d7b6",
   "metadata": {},
   "outputs": [
    {
     "name": "stdout",
     "output_type": "stream",
     "text": [
      "<class 'pandas.core.frame.DataFrame'>\n",
      "RangeIndex: 903393 entries, 0 to 903392\n",
      "Data columns (total 17 columns):\n",
      " #   Column               Non-Null Count   Dtype         \n",
      "---  ------               --------------   -----         \n",
      " 0   town                 903393 non-null  object        \n",
      " 1   flat_type            903393 non-null  object        \n",
      " 2   block                903393 non-null  object        \n",
      " 3   street_name          903393 non-null  object        \n",
      " 4   storey_range         903393 non-null  object        \n",
      " 5   floor_area_sqm       903393 non-null  float64       \n",
      " 6   flat_model           903393 non-null  object        \n",
      " 7   lease_commence_date  903393 non-null  int64         \n",
      " 8   resale_price         903393 non-null  float64       \n",
      " 9   remaining_lease      903393 non-null  int64         \n",
      " 10  address              903393 non-null  object        \n",
      " 11  longitude            903393 non-null  float64       \n",
      " 12  latitude             903393 non-null  float64       \n",
      " 13  month_fmt            903393 non-null  datetime64[ns]\n",
      " 14  month                903393 non-null  int64         \n",
      " 15  year                 903393 non-null  int64         \n",
      " 16  planning_query_town  903393 non-null  object        \n",
      "dtypes: datetime64[ns](1), float64(4), int64(4), object(8)\n",
      "memory usage: 117.2+ MB\n"
     ]
    }
   ],
   "source": [
    "# Instantiate list for town where planning_query_town is NaN.\n",
    "town_where_planning_query_nan = [\"JURONG WEST\" ,\"ANG MO KIO\" , \"HOUGANG\"\n",
    "                                , \"BEDOK\" ,\"PASIR RIS\" ,\"BUKIT MERAH\" \n",
    "                                ,\"QUEENSTOWN\" ,\"YISHUN\" ,\"GEYLANG\"\n",
    "                                , \"JURONG EAST\" ,\"WOODLANDS\" ,\"BUKIT BATOK\"\n",
    "                                , \"CLEMENTI\" , \"TAMPINES\" ,\"CHOA CHU KANG\"\n",
    "                                , \"SENGKANG\" ,\"PUNGGOL\" ,\"BUKIT PANJANG\"\n",
    "                                , \"TOA PAYOH\" , \"BISHAN\" ,\"SERANGOON\"\n",
    "                                , \"SEMBAWANG\" ,\"MARINE PARADE\" ,\"BUKIT TIMAH\"\n",
    "                                , \"LIM CHU KANG\"]\n",
    "\n",
    "\n",
    "# Loop through town list and update NaN values for planning_query_town\n",
    "for town in town_where_planning_query_nan:\n",
    "    resale_long_lat_fmt_only_concat_town.loc[(resale_long_lat_fmt_only_concat_town['town']== town)\n",
    "                                             & (resale_long_lat_fmt_only_concat_town['planning_query_town'].isnull())\n",
    "                                            ,'planning_query_town'] = resale_long_lat_fmt_only_concat_town['town']\n",
    "\n",
    "#  Check that there is no more null values for planning_query_town.\n",
    "resale_long_lat_fmt_only_concat_town.info()"
   ]
  },
  {
   "cell_type": "code",
   "execution_count": 176,
   "id": "30360635",
   "metadata": {},
   "outputs": [
    {
     "data": {
      "text/plain": [
       "TAMPINES         78405\n",
       "YISHUN           68457\n",
       "BEDOK            65496\n",
       "JURONG WEST      65038\n",
       "WOODLANDS        63789\n",
       "ANG MO KIO       51158\n",
       "HOUGANG          49340\n",
       "BUKIT BATOK      43386\n",
       "CHOA CHU KANG    37254\n",
       "BUKIT MERAH      33350\n",
       "PASIR RIS        32524\n",
       "TOA PAYOH        30885\n",
       "SENGKANG         30695\n",
       "GEYLANG          27647\n",
       "CLEMENTI         27557\n",
       "QUEENSTOWN       27531\n",
       "BUKIT PANJANG    26993\n",
       "JURONG EAST      24306\n",
       "SERANGOON        22423\n",
       "BISHAN           20945\n",
       "KALLANG          18985\n",
       "PUNGGOL          18896\n",
       "SEMBAWANG        12914\n",
       "MARINE PARADE     7886\n",
       "NOVENA            5914\n",
       "BUKIT TIMAH       3674\n",
       "ROCHOR            3458\n",
       "OUTRAM            3440\n",
       "DOWNTOWN CORE      390\n",
       "CHANGI             248\n",
       "TANGLIN            171\n",
       "SUNGEI KADUT       137\n",
       "LIM CHU KANG        64\n",
       "TUAS                37\n",
       "Name: planning_query_town, dtype: int64"
      ]
     },
     "execution_count": 176,
     "metadata": {},
     "output_type": "execute_result"
    }
   ],
   "source": [
    "# Check count of unique planning_query_town \n",
    "resale_long_lat_fmt_only_concat_town[\"planning_query_town\"].value_counts()"
   ]
  },
  {
   "cell_type": "markdown",
   "id": "52c394cd",
   "metadata": {},
   "source": [
    "- Validated that the planning_town_query column has been NaN value has been filled up.\n",
    "- The total count of planning_town_query unique column sums up to 903393\n",
    "- Validated that there are no null values and the data type is accurate."
   ]
  },
  {
   "cell_type": "markdown",
   "id": "d3fd68ed",
   "metadata": {},
   "source": [
    "## Export Cleaned Dataset"
   ]
  },
  {
   "cell_type": "code",
   "execution_count": 177,
   "id": "ee246c0d",
   "metadata": {},
   "outputs": [],
   "source": [
    "# export coordinateList to csv\n",
    "resale_long_lat_fmt_only_concat_town.to_csv('../assets/data_clean/resale_w_plantown_clean.csv', encoding='utf-8', index=False)\n",
    "\n",
    "# export as pickle file\n",
    "resale_long_lat_fmt_only_concat_town.to_pickle('../assets/data_clean/resale_w_plantown_clean.pkl')"
   ]
  },
  {
   "cell_type": "markdown",
   "id": "ea8e69b9",
   "metadata": {},
   "source": [
    "- Observed that the files are successfully exported."
   ]
  }
 ],
 "metadata": {
  "kernelspec": {
   "display_name": "Python 3 (ipykernel)",
   "language": "python",
   "name": "python3"
  },
  "language_info": {
   "codemirror_mode": {
    "name": "ipython",
    "version": 3
   },
   "file_extension": ".py",
   "mimetype": "text/x-python",
   "name": "python",
   "nbconvert_exporter": "python",
   "pygments_lexer": "ipython3",
   "version": "3.9.12"
  }
 },
 "nbformat": 4,
 "nbformat_minor": 5
}
