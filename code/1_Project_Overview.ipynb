{
 "cells": [
  {
   "cell_type": "markdown",
   "id": "e8f8b9fc",
   "metadata": {},
   "source": [
    "# Project Background"
   ]
  },
  {
   "cell_type": "markdown",
   "id": "fd9b676e",
   "metadata": {},
   "source": [
    "When Singapore first gained indepedence in 1965 housing was one of the challenges faced. The living conditions of Singaporeans where dominated by kampongs and haphazardly constructed squtter housings with deplorable living conditions. [[1]]('https://www.mnd.gov.sg/our-city-our-home/our-early-struggles#:~:text=When%20Singapore%20gained%20independence%20in%201965%2C%20it%20was,conditions%20were%20deplorable%2C%20and%20building%20structures%20were%20unsafe.'). An example of the dangers of staying in Kampong houses can be exemplified by the Bukit Ho Swee Fire that broke out in 1961 which destroyed 16,000 homes and took 4 lives. [[2]]('https://www.roots.gov.sg/stories-landing/stories/bukit-ho-swee-fire/story') \n",
    "\n",
    "In 1960, Housing and Development Board (HDB) was established. [[3]]('https://ink.library.smu.edu.sg/cgi/viewcontent.cgi?article=2803&context=soe_research'). Public housing in Singapore focuses on considerations of universal homeownership as an overarching principle. This is a shift from the public housing inheritied from the British Colonial administration which was oriented to having public housing at an affordable rent. In the late 1960s the HDB policy has shifted towards selling public housing and by 1980s, homeownership has grown [[4]]('https://lkyspp.nus.edu.sg/docs/default-source/gia-documents/public-housing-policy-in-singapore_with-graphics(1).pdf?sfvrsn=7c4b6c0a_2')\n",
    "\n",
    "In recent years 2022, Singapore homeownership was at 89.3 percent which has increased from the previous years. Home ownership continues to play a part in the life of Singaporeans and property prices in Singapore has increased over the years.\n",
    "\n",
    "This project takes into account information one map and resale flat prices to better understand what are the features that are related to the modeling of housing price"
   ]
  },
  {
   "cell_type": "markdown",
   "id": "96d2fb75",
   "metadata": {},
   "source": [
    "# Dataset Use"
   ]
  },
  {
   "cell_type": "markdown",
   "id": "001c2e6a",
   "metadata": {},
   "source": [
    "The datasets used have been extracted from the following source:\n",
    "1) Ressale flat price information (retrieved from https://beta.data.gov.sg/datasets/189/view)\n",
    "\n",
    "2) OneMap information (retrieved from https://www.onemap.gov.sg/apidocs/apidocs)"
   ]
  },
  {
   "cell_type": "markdown",
   "id": "fbc2a093",
   "metadata": {},
   "source": [
    "# Problem Statement\n",
    "\n",
    "Modelling to understand how does the factors cause the HDB prices to fluctuate and recommendations for the purchase of HDB\n",
    "Analysis will also be done across town to better understand how the resale flat feature changes by town such as floor area. Findings will also be done to find out how the prices changes across the year."
   ]
  },
  {
   "cell_type": "markdown",
   "id": "23e2a97e",
   "metadata": {},
   "source": [
    "# Model Evaluation Criteria"
   ]
  },
  {
   "cell_type": "markdown",
   "id": "807b0d86",
   "metadata": {},
   "source": [
    "Model will be evaluated using the Root Mean Squared Error.\n",
    "\n",
    "The Model with the best performing RMSE score will be selected. The model fit will be evaluated to analyse if Underfitting or Overfitting of model occurs."
   ]
  }
 ],
 "metadata": {
  "kernelspec": {
   "display_name": "Python 3 (ipykernel)",
   "language": "python",
   "name": "python3"
  },
  "language_info": {
   "codemirror_mode": {
    "name": "ipython",
    "version": 3
   },
   "file_extension": ".py",
   "mimetype": "text/x-python",
   "name": "python",
   "nbconvert_exporter": "python",
   "pygments_lexer": "ipython3",
   "version": "3.9.12"
  }
 },
 "nbformat": 4,
 "nbformat_minor": 5
}
