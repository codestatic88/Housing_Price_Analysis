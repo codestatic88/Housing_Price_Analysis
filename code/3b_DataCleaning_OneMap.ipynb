{
 "cells": [
  {
   "cell_type": "markdown",
   "id": "8de4a358",
   "metadata": {},
   "source": [
    "# Import Libraries"
   ]
  },
  {
   "cell_type": "code",
   "execution_count": 5,
   "id": "fd54de61",
   "metadata": {},
   "outputs": [],
   "source": [
    "# Import Libaries\n",
    "import pandas as pd\n",
    "import numpy as np"
   ]
  },
  {
   "cell_type": "markdown",
   "id": "9fad5791",
   "metadata": {},
   "source": [
    "# Data Cleaning for OneMap data (Planning Area)"
   ]
  },
  {
   "cell_type": "markdown",
   "id": "6eed151b",
   "metadata": {},
   "source": [
    "## Planning area id\n",
    "\n",
    "- Data contains names of all planning area and id in Singapore for the year 1998, 2008, 2014 and 2019.\n",
    "- Data extracted is exported to csv file and pickle file with the columns.\n",
    "\t1. planning_area_id\n",
    "\t2. planning_area\n",
    "\t3. year"
   ]
  },
  {
   "cell_type": "code",
   "execution_count": 6,
   "id": "d2906dcd",
   "metadata": {},
   "outputs": [
    {
     "name": "stdout",
     "output_type": "stream",
     "text": [
      "<class 'pandas.core.frame.DataFrame'>\n",
      "RangeIndex: 220 entries, 0 to 219\n",
      "Data columns (total 3 columns):\n",
      " #   Column            Non-Null Count  Dtype \n",
      "---  ------            --------------  ----- \n",
      " 0   planning_area_id  220 non-null    int64 \n",
      " 1   planning_area     220 non-null    object\n",
      " 2   year              220 non-null    int64 \n",
      "dtypes: int64(2), object(1)\n",
      "memory usage: 5.3+ KB\n"
     ]
    }
   ],
   "source": [
    "# Read Dataset\n",
    "planning_area_id_df = pd.read_csv('../assets/onemap/planning_area_id.csv')\n",
    "\n",
    "# Dataset Info\n",
    "planning_area_id_df.info()"
   ]
  },
  {
   "cell_type": "markdown",
   "id": "d5bb0473",
   "metadata": {},
   "source": [
    "- Observed that there are no missing values,\n",
    "- Next: to compare the IDs among the years to create one set of \"planning_area_id\" and \"planning_area\".\n",
    "    - concatenation of data will be decided at a later stage after further analysis of data."
   ]
  },
  {
   "cell_type": "code",
   "execution_count": 7,
   "id": "288ebb4c",
   "metadata": {},
   "outputs": [
    {
     "data": {
      "text/html": [
       "<div>\n",
       "<style scoped>\n",
       "    .dataframe tbody tr th:only-of-type {\n",
       "        vertical-align: middle;\n",
       "    }\n",
       "\n",
       "    .dataframe tbody tr th {\n",
       "        vertical-align: top;\n",
       "    }\n",
       "\n",
       "    .dataframe thead th {\n",
       "        text-align: right;\n",
       "    }\n",
       "</style>\n",
       "<table border=\"1\" class=\"dataframe\">\n",
       "  <thead>\n",
       "    <tr style=\"text-align: right;\">\n",
       "      <th></th>\n",
       "      <th>planning_area_id</th>\n",
       "      <th>planning_area</th>\n",
       "      <th>year</th>\n",
       "    </tr>\n",
       "  </thead>\n",
       "  <tbody>\n",
       "    <tr>\n",
       "      <th>0</th>\n",
       "      <td>114</td>\n",
       "      <td>BEDOK</td>\n",
       "      <td>1998</td>\n",
       "    </tr>\n",
       "    <tr>\n",
       "      <th>1</th>\n",
       "      <td>120</td>\n",
       "      <td>BUKIT TIMAH</td>\n",
       "      <td>1998</td>\n",
       "    </tr>\n",
       "    <tr>\n",
       "      <th>2</th>\n",
       "      <td>117</td>\n",
       "      <td>BUKIT BATOK</td>\n",
       "      <td>1998</td>\n",
       "    </tr>\n",
       "    <tr>\n",
       "      <th>3</th>\n",
       "      <td>118</td>\n",
       "      <td>BUKIT MERAH</td>\n",
       "      <td>1998</td>\n",
       "    </tr>\n",
       "    <tr>\n",
       "      <th>4</th>\n",
       "      <td>121</td>\n",
       "      <td>CENTRAL WATER CATCHMENT</td>\n",
       "      <td>1998</td>\n",
       "    </tr>\n",
       "    <tr>\n",
       "      <th>...</th>\n",
       "      <td>...</td>\n",
       "      <td>...</td>\n",
       "      <td>...</td>\n",
       "    </tr>\n",
       "    <tr>\n",
       "      <th>215</th>\n",
       "      <td>125</td>\n",
       "      <td>CLEMENTI</td>\n",
       "      <td>2019</td>\n",
       "    </tr>\n",
       "    <tr>\n",
       "      <th>216</th>\n",
       "      <td>162</td>\n",
       "      <td>TOA PAYOH</td>\n",
       "      <td>2019</td>\n",
       "    </tr>\n",
       "    <tr>\n",
       "      <th>217</th>\n",
       "      <td>155</td>\n",
       "      <td>SINGAPORE RIVER</td>\n",
       "      <td>2019</td>\n",
       "    </tr>\n",
       "    <tr>\n",
       "      <th>218</th>\n",
       "      <td>158</td>\n",
       "      <td>SUNGEI KADUT</td>\n",
       "      <td>2019</td>\n",
       "    </tr>\n",
       "    <tr>\n",
       "      <th>219</th>\n",
       "      <td>167</td>\n",
       "      <td>YISHUN</td>\n",
       "      <td>2019</td>\n",
       "    </tr>\n",
       "  </tbody>\n",
       "</table>\n",
       "<p>220 rows × 3 columns</p>\n",
       "</div>"
      ],
      "text/plain": [
       "     planning_area_id            planning_area  year\n",
       "0                 114                    BEDOK  1998\n",
       "1                 120              BUKIT TIMAH  1998\n",
       "2                 117              BUKIT BATOK  1998\n",
       "3                 118              BUKIT MERAH  1998\n",
       "4                 121  CENTRAL WATER CATCHMENT  1998\n",
       "..                ...                      ...   ...\n",
       "215               125                 CLEMENTI  2019\n",
       "216               162                TOA PAYOH  2019\n",
       "217               155          SINGAPORE RIVER  2019\n",
       "218               158             SUNGEI KADUT  2019\n",
       "219               167                   YISHUN  2019\n",
       "\n",
       "[220 rows x 3 columns]"
      ]
     },
     "execution_count": 7,
     "metadata": {},
     "output_type": "execute_result"
    }
   ],
   "source": [
    "# Check for rows with the planning_area and planning_area_id\n",
    "duplicate_rows = planning_area_id_df[planning_area_id_df.duplicated(['planning_area', 'planning_area_id'], keep=False)]\n",
    "duplicate_rows"
   ]
  },
  {
   "cell_type": "markdown",
   "id": "7cfec2c3",
   "metadata": {},
   "source": [
    "- Observed that there after comparing duplicates for planning_area and planning_area_id, the number of count is the same at 220.\n",
    "- This implies that the planning area id across the years are the same.\n",
    "- Next:\n",
    "    - to drop duplicated values and to drop the year column. \n"
   ]
  },
  {
   "cell_type": "code",
   "execution_count": 68,
   "id": "a27f7ee4",
   "metadata": {},
   "outputs": [],
   "source": [
    "# Create a Dictionary to check if all the planning_area have the same id\n",
    "planning_area_dict = {}\n",
    "\n",
    "# Loop throough data dictionary\n",
    "for index, row in planning_area_id_df.iterrows():\n",
    "    retrieve_planning_area_id = row[\"planning_area_id\"]   \n",
    "    retrieve_planning_area = row[\"planning_area\"]\n",
    "    \n",
    "    # Check if planning area already exist as a key in dictionary    \n",
    "    if planning_area_dict.get(retrieve_planning_area) is not None:\n",
    "        dict_planning_area_id = planning_area_dict[retrieve_planning_area][\"planning_area_id\"]\n",
    "        if(dict_planning_area_id != retrieve_planning_area_id):\n",
    "            planning_area_dict[retrieve_planning_area][\"Status\"] = \"not ok\"\n",
    "        \n",
    "    # Add planning area to dictionary\n",
    "    else:\n",
    "        planning_area_dict[retrieve_planning_area] = {}\n",
    "        planning_area_dict[retrieve_planning_area][\"planning_area_id\"] = retrieve_planning_area_id\n",
    "        planning_area_dict[retrieve_planning_area][\"Status\"] = \"ok\""
   ]
  },
  {
   "cell_type": "code",
   "execution_count": 69,
   "id": "3285f1ae",
   "metadata": {},
   "outputs": [
    {
     "data": {
      "text/plain": [
       "{'BEDOK': {'planning_area_id': 114, 'Status': 'ok'},\n",
       " 'BUKIT TIMAH': {'planning_area_id': 120, 'Status': 'ok'},\n",
       " 'BUKIT BATOK': {'planning_area_id': 117, 'Status': 'ok'},\n",
       " 'BUKIT MERAH': {'planning_area_id': 118, 'Status': 'ok'},\n",
       " 'CENTRAL WATER CATCHMENT': {'planning_area_id': 121, 'Status': 'ok'},\n",
       " 'DOWNTOWN CORE': {'planning_area_id': 126, 'Status': 'ok'},\n",
       " 'CHANGI': {'planning_area_id': 122, 'Status': 'ok'},\n",
       " 'CHANGI BAY': {'planning_area_id': 123, 'Status': 'ok'},\n",
       " 'LIM CHU KANG': {'planning_area_id': 132, 'Status': 'ok'},\n",
       " 'BOON LAY': {'planning_area_id': 116, 'Status': 'ok'},\n",
       " 'WESTERN WATER CATCHMENT': {'planning_area_id': 165, 'Status': 'ok'},\n",
       " 'WOODLANDS': {'planning_area_id': 166, 'Status': 'ok'},\n",
       " 'MARINE PARADE': {'planning_area_id': 136, 'Status': 'ok'},\n",
       " 'NEWTON': {'planning_area_id': 138, 'Status': 'ok'},\n",
       " 'NORTH-EASTERN ISLANDS': {'planning_area_id': 139, 'Status': 'ok'},\n",
       " 'ORCHARD': {'planning_area_id': 141, 'Status': 'ok'},\n",
       " 'PASIR RIS': {'planning_area_id': 143, 'Status': 'ok'},\n",
       " 'PIONEER': {'planning_area_id': 145, 'Status': 'ok'},\n",
       " 'PUNGGOL': {'planning_area_id': 146, 'Status': 'ok'},\n",
       " 'QUEENSTOWN': {'planning_area_id': 147, 'Status': 'ok'},\n",
       " 'SEMBAWANG': {'planning_area_id': 151, 'Status': 'ok'},\n",
       " 'SIMPANG': {'planning_area_id': 154, 'Status': 'ok'},\n",
       " 'TAMPINES': {'planning_area_id': 159, 'Status': 'ok'},\n",
       " 'TANGLIN': {'planning_area_id': 160, 'Status': 'ok'},\n",
       " 'TUAS': {'planning_area_id': 163, 'Status': 'ok'},\n",
       " 'WESTERN ISLANDS': {'planning_area_id': 164, 'Status': 'ok'},\n",
       " 'SOUTHERN ISLANDS': {'planning_area_id': 156, 'Status': 'ok'},\n",
       " 'BUKIT PANJANG': {'planning_area_id': 119, 'Status': 'ok'},\n",
       " 'BISHAN': {'planning_area_id': 115, 'Status': 'ok'},\n",
       " 'ANG MO KIO': {'planning_area_id': 113, 'Status': 'ok'},\n",
       " 'GEYLANG': {'planning_area_id': 127, 'Status': 'ok'},\n",
       " 'STRAITS VIEW': {'planning_area_id': 157, 'Status': 'ok'},\n",
       " 'JURONG EAST': {'planning_area_id': 129, 'Status': 'ok'},\n",
       " 'HOUGANG': {'planning_area_id': 128, 'Status': 'ok'},\n",
       " 'JURONG WEST': {'planning_area_id': 130, 'Status': 'ok'},\n",
       " 'CHOA CHU KANG': {'planning_area_id': 124, 'Status': 'ok'},\n",
       " 'KALLANG': {'planning_area_id': 131, 'Status': 'ok'},\n",
       " 'MANDAI': {'planning_area_id': 133, 'Status': 'ok'},\n",
       " 'TENGAH': {'planning_area_id': 161, 'Status': 'ok'},\n",
       " 'MARINA EAST': {'planning_area_id': 134, 'Status': 'ok'},\n",
       " 'MARINA SOUTH': {'planning_area_id': 135, 'Status': 'ok'},\n",
       " 'MUSEUM': {'planning_area_id': 137, 'Status': 'ok'},\n",
       " 'NOVENA': {'planning_area_id': 140, 'Status': 'ok'},\n",
       " 'OUTRAM': {'planning_area_id': 142, 'Status': 'ok'},\n",
       " 'PAYA LEBAR': {'planning_area_id': 144, 'Status': 'ok'},\n",
       " 'RIVER VALLEY': {'planning_area_id': 148, 'Status': 'ok'},\n",
       " 'ROCHOR': {'planning_area_id': 149, 'Status': 'ok'},\n",
       " 'SELETAR': {'planning_area_id': 150, 'Status': 'ok'},\n",
       " 'SENGKANG': {'planning_area_id': 152, 'Status': 'ok'},\n",
       " 'SERANGOON': {'planning_area_id': 153, 'Status': 'ok'},\n",
       " 'CLEMENTI': {'planning_area_id': 125, 'Status': 'ok'},\n",
       " 'TOA PAYOH': {'planning_area_id': 162, 'Status': 'ok'},\n",
       " 'SINGAPORE RIVER': {'planning_area_id': 155, 'Status': 'ok'},\n",
       " 'SUNGEI KADUT': {'planning_area_id': 158, 'Status': 'ok'},\n",
       " 'YISHUN': {'planning_area_id': 167, 'Status': 'ok'}}"
      ]
     },
     "execution_count": 69,
     "metadata": {},
     "output_type": "execute_result"
    }
   ],
   "source": [
    "# View dictionary to see if the status is ok. \n",
    "planning_area_dict"
   ]
  },
  {
   "cell_type": "markdown",
   "id": "79778d55",
   "metadata": {},
   "source": [
    "- Observed that the dictionary status is ok, this implies that for each planning_area key, there is only one planning_area_id assign to it. \n",
    "\n",
    "- Next: to export the with columns data \"planning_area_id\" and \"planning_area\" into a cleaned dataframe"
   ]
  },
  {
   "cell_type": "code",
   "execution_count": 75,
   "id": "24300c2d",
   "metadata": {},
   "outputs": [
    {
     "name": "stdout",
     "output_type": "stream",
     "text": [
      "<class 'pandas.core.frame.DataFrame'>\n",
      "RangeIndex: 55 entries, 0 to 54\n",
      "Data columns (total 2 columns):\n",
      " #   Column            Non-Null Count  Dtype \n",
      "---  ------            --------------  ----- \n",
      " 0   planning_area     55 non-null     object\n",
      " 1   planning_area_id  55 non-null     object\n",
      "dtypes: object(2)\n",
      "memory usage: 1008.0+ bytes\n",
      "None\n"
     ]
    }
   ],
   "source": [
    "# Create an empty dataframe\n",
    "planning_area_id_cleaned_df = pd.DataFrame(columns=['planning_area', 'planning_area_id'])\n",
    "\n",
    "# Append value in dictionary as a new dataframe.\n",
    "\n",
    "for planning_area in planning_area_dict:\n",
    "    retrieved_planning_area = planning_area\n",
    "    retrieved_planning_area_id = planning_area_dict[planning_area][\"planning_area_id\"]\n",
    "    temp_row = {'planning_area': retrieve_planning_area\n",
    "                , 'planning_area_id': retrieved_planning_area_id\n",
    "               }\n",
    "    temp_df = pd.DataFrame([temp_row])\n",
    "    planning_area_id_cleaned_df = pd.concat([planning_area_id_cleaned_df, temp_df], axis=0, ignore_index=True)\n",
    "    \n",
    "    \n",
    "# Get info on datafra,e\n",
    "print(planning_area_id_cleaned_df.info())        "
   ]
  },
  {
   "cell_type": "markdown",
   "id": "298ed916",
   "metadata": {},
   "source": [
    "- Observed  that that planning_area and planning_area_id has been successfully retrieved. \n",
    "- Next: export the dataset."
   ]
  },
  {
   "cell_type": "markdown",
   "id": "b150850e",
   "metadata": {},
   "source": [
    "### Export Planning area id cleaned data"
   ]
  },
  {
   "cell_type": "code",
   "execution_count": 105,
   "id": "027a3f51",
   "metadata": {},
   "outputs": [],
   "source": [
    "# export to csv\n",
    "planning_area_id_cleaned_df.to_csv('../assets/data_clean/planning_area_id_cleaned.csv', encoding='utf-8', index=False)\n",
    "\n",
    "# export to pickle file\n",
    "planning_area_id_cleaned_df.to_pickle('../assets/data_clean/planning_area_id_cleaned.pkl')"
   ]
  },
  {
   "cell_type": "markdown",
   "id": "5948135a",
   "metadata": {},
   "source": [
    "- Observed that the files are successfully exported."
   ]
  },
  {
   "cell_type": "markdown",
   "id": "a0ce07ee",
   "metadata": {},
   "source": [
    "# Planning area polygons"
   ]
  },
  {
   "cell_type": "markdown",
   "id": "74512288",
   "metadata": {},
   "source": [
    "- Data contains planning area polygons of Singapore for the year 1998, 2008, 2014 and 2019.\n",
    "- Data extracted is exported to csv file and pickle file with the columns.\n",
    "\t1. planning_area e.g. Bedok.\n",
    "\t2. longitude\n",
    "\t3. latitude\n",
    "\t4. year"
   ]
  },
  {
   "cell_type": "code",
   "execution_count": 78,
   "id": "7e4ec5ee",
   "metadata": {},
   "outputs": [
    {
     "name": "stdout",
     "output_type": "stream",
     "text": [
      "<class 'pandas.core.frame.DataFrame'>\n",
      "RangeIndex: 126824 entries, 0 to 126823\n",
      "Data columns (total 4 columns):\n",
      " #   Column         Non-Null Count   Dtype  \n",
      "---  ------         --------------   -----  \n",
      " 0   planning_area  126824 non-null  object \n",
      " 1   longitude      126824 non-null  float64\n",
      " 2   latitude       126824 non-null  float64\n",
      " 3   year           126824 non-null  int64  \n",
      "dtypes: float64(2), int64(1), object(1)\n",
      "memory usage: 3.9+ MB\n"
     ]
    }
   ],
   "source": [
    "# Read Dataset\n",
    "planning_area_polygon_df = pd.read_csv('../assets/onemap/planning_area_polygons.csv')\n",
    "\n",
    "# Dataset Info\n",
    "planning_area_polygon_df.info()"
   ]
  },
  {
   "cell_type": "markdown",
   "id": "987c0536",
   "metadata": {},
   "source": [
    "- Observed that there are no missing values.\n",
    "- CSV file contains information for planning_area and longitude and latitude information.\n",
    "- Resale flat with price dataset already has \"planning_query_town\" mapped to based on longitude and latitude.\n",
    "- Current dataset is not required and will not be exported as a cleaned dataset."
   ]
  },
  {
   "cell_type": "markdown",
   "id": "12370a49",
   "metadata": {},
   "source": [
    "## Planning area polygons\n",
    "\n",
    "- API retrieve planning area based on latitude and longitude.\n",
    "- Data extracted is export to csv file with the columns:\n",
    "\t1. month\n",
    "\t2. town \n",
    "\t3. longitude \n",
    "\t4. latitude \n",
    "\t5. planning_query_town"
   ]
  },
  {
   "cell_type": "code",
   "execution_count": 79,
   "id": "be3bba1e",
   "metadata": {},
   "outputs": [
    {
     "name": "stdout",
     "output_type": "stream",
     "text": [
      "<class 'pandas.core.frame.DataFrame'>\n",
      "RangeIndex: 903393 entries, 0 to 903392\n",
      "Data columns (total 5 columns):\n",
      " #   Column               Non-Null Count   Dtype  \n",
      "---  ------               --------------   -----  \n",
      " 0   month                903393 non-null  object \n",
      " 1   town                 903393 non-null  object \n",
      " 2   longitude            903393 non-null  float64\n",
      " 3   latitude             903393 non-null  float64\n",
      " 4   planning_query_town  804485 non-null  object \n",
      "dtypes: float64(2), object(3)\n",
      "memory usage: 34.5+ MB\n"
     ]
    }
   ],
   "source": [
    "# Read Dataset\n",
    "planning_area_query_df = pd.read_csv('../assets/onemap/planning_area_query.csv')\n",
    "\n",
    "# Dataset Info\n",
    "planning_area_query_df.info()"
   ]
  },
  {
   "cell_type": "markdown",
   "id": "c06d5568",
   "metadata": {},
   "source": [
    "- Observed that there are missing values.\n",
    "- CSV file contains information for planning_query_town, town, longitude and latitude information.\n",
    "- The following file is already cleaned up and used in 3a_DataCleaning_ResaleFlat file\n",
    "- Current dataset is not required and will not be exported as a cleaned dataset."
   ]
  },
  {
   "cell_type": "markdown",
   "id": "d98bcb4e",
   "metadata": {},
   "source": [
    "# Data Cleaning for OneMap data (Population)"
   ]
  },
  {
   "cell_type": "markdown",
   "id": "bb7f8825",
   "metadata": {},
   "source": [
    "## Economic Status\n",
    "\n",
    "- API retrieves data related to economic status for given planning area name, year and gender. \n",
    "- Data is available for the year 2000, 2010, 2015, and 2020.\n",
    "- Data is exported to csv file with the columns:\n",
    "\t1. planning_area\n",
    "\t2. employed\n",
    "\t3. unemployed\n",
    "\t4. inactive\n",
    "\t5. year\n",
    "\t6. gender"
   ]
  },
  {
   "cell_type": "code",
   "execution_count": 80,
   "id": "387a1e6c",
   "metadata": {},
   "outputs": [
    {
     "name": "stdout",
     "output_type": "stream",
     "text": [
      "<class 'pandas.core.frame.DataFrame'>\n",
      "RangeIndex: 354 entries, 0 to 353\n",
      "Data columns (total 6 columns):\n",
      " #   Column         Non-Null Count  Dtype \n",
      "---  ------         --------------  ----- \n",
      " 0   planning_area  354 non-null    object\n",
      " 1   employed       354 non-null    int64 \n",
      " 2   unemployed     354 non-null    int64 \n",
      " 3   inactive       354 non-null    int64 \n",
      " 4   year           354 non-null    int64 \n",
      " 5   gender         354 non-null    object\n",
      "dtypes: int64(4), object(2)\n",
      "memory usage: 16.7+ KB\n"
     ]
    }
   ],
   "source": [
    "# Read Dataset\n",
    "population_economic_status_df = pd.read_csv('../assets/onemap/population_economic_status.csv')\n",
    "\n",
    "# Dataset Info\n",
    "population_economic_status_df.info()"
   ]
  },
  {
   "cell_type": "markdown",
   "id": "ca11034e",
   "metadata": {},
   "source": [
    "- Observed that there are no missing values\n",
    "- Next: \n",
    "    - Dataset will be averaged by planning_area.\n",
    "    - Year column will be dropped from dataset and exported as cleaned dataframe."
   ]
  },
  {
   "cell_type": "code",
   "execution_count": 107,
   "id": "2f808f67",
   "metadata": {},
   "outputs": [
    {
     "name": "stdout",
     "output_type": "stream",
     "text": [
      "<class 'pandas.core.frame.DataFrame'>\n",
      "RangeIndex: 55 entries, 0 to 54\n",
      "Data columns (total 4 columns):\n",
      " #   Column         Non-Null Count  Dtype  \n",
      "---  ------         --------------  -----  \n",
      " 0   planning_area  55 non-null     object \n",
      " 1   employed       55 non-null     float64\n",
      " 2   unemployed     55 non-null     float64\n",
      " 3   inactive       55 non-null     float64\n",
      "dtypes: float64(3), object(1)\n",
      "memory usage: 1.8+ KB\n"
     ]
    }
   ],
   "source": [
    "# Group data by planning area and get the mean of the values.\n",
    "population_economic_status_group_df = population_economic_status_df.groupby('planning_area')[['planning_area'\n",
    "                                                                   ,'employed'\n",
    "                                                                   , 'unemployed'\n",
    "                                                                   ,'inactive']].mean().reset_index()\n",
    "\n",
    "# view the information of the dataset.\n",
    "population_economic_status_group_df.info()"
   ]
  },
  {
   "cell_type": "markdown",
   "id": "a3425194",
   "metadata": {},
   "source": [
    "- Observed that the dataset values has been averaged by planning_area\n",
    "- Next: Export out the dataset as cleaned Data\n"
   ]
  },
  {
   "cell_type": "markdown",
   "id": "9e94dbb1",
   "metadata": {},
   "source": [
    "### Export Population economic status cleaned data"
   ]
  },
  {
   "cell_type": "code",
   "execution_count": 108,
   "id": "9f52d668",
   "metadata": {},
   "outputs": [],
   "source": [
    "# export  to csv\n",
    "population_economic_status_group_df.to_csv('../assets/data_clean/population_economic_status_cleaned.csv', encoding='utf-8', index=False)\n",
    "\n",
    "# export as pickle file\n",
    "population_economic_status_group_df.to_pickle('../assets/data_clean/population_economic_status_cleaned.pkl')"
   ]
  },
  {
   "cell_type": "markdown",
   "id": "90425287",
   "metadata": {},
   "source": [
    "- Observed that the files are successfully exported."
   ]
  },
  {
   "cell_type": "markdown",
   "id": "562c6965",
   "metadata": {},
   "source": [
    "## Education Status\n",
    "\n",
    "- API retrieves data related to economic status for given planning area name and year. \n",
    "- Data is available for the year 2000, 2010, 2015, and 2020.\n",
    "- Data extracted is exported to csv file with the columns:\n",
    "\t1. planning_area\n",
    "\t2. pre_primary \n",
    "\t3. primary \n",
    "\t4. secondary \n",
    "\t5. post_secondary\n",
    "\t6. polytechnic\n",
    "\t7. prof_qualification_diploma\n",
    "\t8. university\n",
    "\t9. year"
   ]
  },
  {
   "cell_type": "code",
   "execution_count": 109,
   "id": "d147a9cd",
   "metadata": {},
   "outputs": [
    {
     "name": "stdout",
     "output_type": "stream",
     "text": [
      "<class 'pandas.core.frame.DataFrame'>\n",
      "RangeIndex: 177 entries, 0 to 176\n",
      "Data columns (total 9 columns):\n",
      " #   Column                      Non-Null Count  Dtype \n",
      "---  ------                      --------------  ----- \n",
      " 0   planning_area               177 non-null    object\n",
      " 1   pre_primary                 177 non-null    int64 \n",
      " 2   primary                     177 non-null    int64 \n",
      " 3   secondary                   177 non-null    int64 \n",
      " 4   post_secondary              177 non-null    int64 \n",
      " 5   polytechnic                 177 non-null    int64 \n",
      " 6   prof_qualification_diploma  177 non-null    int64 \n",
      " 7   university                  177 non-null    int64 \n",
      " 8   year                        177 non-null    int64 \n",
      "dtypes: int64(8), object(1)\n",
      "memory usage: 12.6+ KB\n"
     ]
    }
   ],
   "source": [
    "# Read Dataset\n",
    "population_education_status_df = pd.read_csv('../assets/onemap/population_education_status.csv')\n",
    "\n",
    "# Dataset Info\n",
    "population_education_status_df.info()"
   ]
  },
  {
   "cell_type": "markdown",
   "id": "185b06e5",
   "metadata": {},
   "source": [
    "- Observed that there are no missing values.\n",
    "- Next: \n",
    "    - Dataset will be averaged by planning_area.\n",
    "    - Year column will be dropped from dataset and exported as cleaned dataframe."
   ]
  },
  {
   "cell_type": "code",
   "execution_count": 112,
   "id": "e8268c3c",
   "metadata": {},
   "outputs": [
    {
     "name": "stdout",
     "output_type": "stream",
     "text": [
      "<class 'pandas.core.frame.DataFrame'>\n",
      "RangeIndex: 55 entries, 0 to 54\n",
      "Data columns (total 8 columns):\n",
      " #   Column                      Non-Null Count  Dtype  \n",
      "---  ------                      --------------  -----  \n",
      " 0   planning_area               55 non-null     object \n",
      " 1   pre_primary                 55 non-null     float64\n",
      " 2   primary                     55 non-null     float64\n",
      " 3   secondary                   55 non-null     float64\n",
      " 4   post_secondary              55 non-null     float64\n",
      " 5   polytechnic                 55 non-null     float64\n",
      " 6   prof_qualification_diploma  55 non-null     float64\n",
      " 7   university                  55 non-null     float64\n",
      "dtypes: float64(7), object(1)\n",
      "memory usage: 3.6+ KB\n"
     ]
    }
   ],
   "source": [
    "# Group data by planning area and get the mean of the values.\n",
    "population_education_status_group_df = population_education_status_df.groupby('planning_area')[['pre_primary'\n",
    "                                                                   ,'primary'\n",
    "                                                                   , 'secondary'\n",
    "                                                                   ,'post_secondary'\n",
    "                                                                   , 'polytechnic'\n",
    "                                                                   , 'prof_qualification_diploma'\n",
    "                                                                   , 'university'                      \n",
    "                                                                   ]].mean().reset_index()\n",
    "\n",
    "# view the information of the dataset.\n",
    "population_education_status_group_df.info()"
   ]
  },
  {
   "cell_type": "markdown",
   "id": "b415e868",
   "metadata": {},
   "source": [
    "- Observed that the dataset values has been averaged by planning_area\n",
    "- Next: Export out the dataset as cleaned Data"
   ]
  },
  {
   "cell_type": "markdown",
   "id": "df450e64",
   "metadata": {},
   "source": [
    "### Export Population education status cleaned data"
   ]
  },
  {
   "cell_type": "code",
   "execution_count": 113,
   "id": "c0dec0cc",
   "metadata": {},
   "outputs": [],
   "source": [
    "# export  to csv\n",
    "population_education_status_group_df.to_csv('../assets/data_clean/population_education_status_cleaned.csv', encoding='utf-8', index=False)\n",
    "\n",
    "# export as pickle file\n",
    "population_education_status_group_df.to_pickle('../assets/data_clean/population_education_status_cleaned.pkl')"
   ]
  },
  {
   "cell_type": "markdown",
   "id": "ee3bf3f6",
   "metadata": {},
   "source": [
    "- Observed that the files are successfully exported."
   ]
  },
  {
   "cell_type": "markdown",
   "id": "6817d90d",
   "metadata": {},
   "source": [
    "## Ethnic Status\n",
    "\n",
    "- API retrieves data related to ethnic distribution for given planning area name and year for the specified gender.\n",
    "- Data is available for the year 2000, 2010, 2015, and 2020.\n",
    "- Data extracted is exported to csv file with the columns:\n",
    "\t1. planning_area\n",
    "\t2. chinese\n",
    "\t3. malays\n",
    "\t4. indian\n",
    "\t5. others\n",
    "\t6. year\n",
    "\t7. gender"
   ]
  },
  {
   "cell_type": "code",
   "execution_count": 115,
   "id": "80059980",
   "metadata": {},
   "outputs": [
    {
     "name": "stdout",
     "output_type": "stream",
     "text": [
      "<class 'pandas.core.frame.DataFrame'>\n",
      "RangeIndex: 340 entries, 0 to 339\n",
      "Data columns (total 7 columns):\n",
      " #   Column         Non-Null Count  Dtype \n",
      "---  ------         --------------  ----- \n",
      " 0   planning_area  340 non-null    object\n",
      " 1   chinese        340 non-null    int64 \n",
      " 2   malays         340 non-null    int64 \n",
      " 3   indian         340 non-null    int64 \n",
      " 4   others         340 non-null    int64 \n",
      " 5   year           340 non-null    int64 \n",
      " 6   gender         340 non-null    object\n",
      "dtypes: int64(5), object(2)\n",
      "memory usage: 18.7+ KB\n"
     ]
    }
   ],
   "source": [
    "# Read Dataset\n",
    "population_ethnic_status_df = pd.read_csv('../assets/onemap/population_ethnic_status.csv')\n",
    "\n",
    "# Dataset Info\n",
    "population_ethnic_status_df.info()"
   ]
  },
  {
   "cell_type": "markdown",
   "id": "8150f75c",
   "metadata": {},
   "source": [
    "- Observed that there are no missing values.\n",
    "- Next: \n",
    "    - Dataset will be averaged by planning_area.\n",
    "    - Year and Gender column will be dropped from dataset and exported as cleaned dataframe."
   ]
  },
  {
   "cell_type": "code",
   "execution_count": 117,
   "id": "1c0c3d54",
   "metadata": {},
   "outputs": [
    {
     "name": "stdout",
     "output_type": "stream",
     "text": [
      "<class 'pandas.core.frame.DataFrame'>\n",
      "RangeIndex: 55 entries, 0 to 54\n",
      "Data columns (total 5 columns):\n",
      " #   Column         Non-Null Count  Dtype  \n",
      "---  ------         --------------  -----  \n",
      " 0   planning_area  55 non-null     object \n",
      " 1   chinese        55 non-null     float64\n",
      " 2   malays         55 non-null     float64\n",
      " 3   indian         55 non-null     float64\n",
      " 4   others         55 non-null     float64\n",
      "dtypes: float64(4), object(1)\n",
      "memory usage: 2.3+ KB\n"
     ]
    }
   ],
   "source": [
    "# Group data by planning area and get the mean of the values.\n",
    "population_ethnic_status_group_df = population_ethnic_status_df.groupby('planning_area')[['chinese'\n",
    "                                                                   ,'malays'\n",
    "                                                                   ,'indian'\n",
    "                                                                   , 'others'                    \n",
    "                                                                   ]].mean().reset_index()\n",
    "\n",
    "# view the information of the dataset.\n",
    "population_ethnic_status_group_df.info()"
   ]
  },
  {
   "cell_type": "markdown",
   "id": "b3a86876",
   "metadata": {},
   "source": [
    "- Observed that the dataset values has been averaged by planning_area\n",
    "- Next: Export out the dataset as cleaned Data"
   ]
  },
  {
   "cell_type": "markdown",
   "id": "64c476c6",
   "metadata": {},
   "source": [
    "### Export Population ethnic status cleaned data"
   ]
  },
  {
   "cell_type": "code",
   "execution_count": 119,
   "id": "b8c0f5f0",
   "metadata": {},
   "outputs": [],
   "source": [
    "# export  to csv\n",
    "population_ethnic_status_group_df.to_csv('../assets/data_clean/population_ethnic_status_cleaned.csv', encoding='utf-8', index=False)\n",
    "\n",
    "# export as pickle file\n",
    "population_ethnic_status_group_df.to_pickle('../assets/data_clean/population_ethnic_status_cleaned.pkl')"
   ]
  },
  {
   "cell_type": "markdown",
   "id": "8955528c",
   "metadata": {},
   "source": [
    "- Observed that the files are successfully exported."
   ]
  },
  {
   "cell_type": "markdown",
   "id": "56816f2e",
   "metadata": {},
   "source": [
    "## Work Income For Household (Monthly)\n",
    "\n",
    "- API retrieves data related monthly household income for given planning area name and year.\n",
    "- Data is available for the year 2000, 2010, 2015, and 2020.\n",
    "- Data extracted is exported to csv file with the columns:\n",
    "\t1. planning_area\n",
    "\t2. total\n",
    "\t3. below_sgd_1000\n",
    "\t4. no_working_person\n",
    "\t5. sgd_10000_over\n",
    "\t6. sgd_10000_to_10999\n",
    "\t7. sgd_11000_to_11999\n",
    "\t8. sgd_1000_to_1999\n",
    "\t9. sgd_12000_to_12999\n",
    "\t10. sgd_13000_to_13999\n",
    "\t11. sgd_14000_to_14999\n",
    "\t12. sgd_15000_to_17499\n",
    "\t13. sgd_17500_to_19999\n",
    "\t14. sgd_20000_over\n",
    "\t15. sgd_2000_to_2999\n",
    "\t16. sgd_3000_to_3999\n",
    "\t17. sgd_4000_to_4999\n",
    "\t18. sgd_5000_to_5999\n",
    "\t19. sgd_6000_to_6999\n",
    "\t20. sgd_7000_to_7999\n",
    "\t21. sgd_8000_over\n",
    "\t22. sgd_8000_to_8999\n",
    "\t23. sgd_9000_to_9999\n",
    "\t24. year"
   ]
  },
  {
   "cell_type": "code",
   "execution_count": 120,
   "id": "c76fe2ce",
   "metadata": {},
   "outputs": [
    {
     "name": "stdout",
     "output_type": "stream",
     "text": [
      "<class 'pandas.core.frame.DataFrame'>\n",
      "RangeIndex: 149 entries, 0 to 148\n",
      "Data columns (total 24 columns):\n",
      " #   Column              Non-Null Count  Dtype  \n",
      "---  ------              --------------  -----  \n",
      " 0   planning_area       149 non-null    object \n",
      " 1   total               149 non-null    int64  \n",
      " 2   below_sgd_1000      149 non-null    int64  \n",
      " 3   no_working_person   117 non-null    float64\n",
      " 4   sgd_10000_over      89 non-null     float64\n",
      " 5   sgd_10000_to_10999  82 non-null     float64\n",
      " 6   sgd_11000_to_11999  82 non-null     float64\n",
      " 7   sgd_1000_to_1999    149 non-null    int64  \n",
      " 8   sgd_12000_to_12999  82 non-null     float64\n",
      " 9   sgd_13000_to_13999  82 non-null     float64\n",
      " 10  sgd_14000_to_14999  82 non-null     float64\n",
      " 11  sgd_15000_to_17499  82 non-null     float64\n",
      " 12  sgd_17500_to_19999  82 non-null     float64\n",
      " 13  sgd_20000_over      82 non-null     float64\n",
      " 14  sgd_2000_to_2999    149 non-null    int64  \n",
      " 15  sgd_3000_to_3999    149 non-null    int64  \n",
      " 16  sgd_4000_to_4999    149 non-null    int64  \n",
      " 17  sgd_5000_to_5999    149 non-null    int64  \n",
      " 18  sgd_6000_to_6999    149 non-null    int64  \n",
      " 19  sgd_7000_to_7999    149 non-null    int64  \n",
      " 20  sgd_8000_over       86 non-null     float64\n",
      " 21  sgd_8000_to_8999    117 non-null    float64\n",
      " 22  sgd_9000_to_9999    117 non-null    float64\n",
      " 23  year                149 non-null    int64  \n",
      "dtypes: float64(13), int64(10), object(1)\n",
      "memory usage: 28.1+ KB\n"
     ]
    }
   ],
   "source": [
    "# Read Dataset\n",
    "population_household_monthly_income_status_df = pd.read_csv('../assets/onemap/population_household_monthly_income_status.csv')\n",
    "\n",
    "# Dataset Info\n",
    "population_household_monthly_income_status_df.info()"
   ]
  },
  {
   "cell_type": "markdown",
   "id": "a5bf0de7",
   "metadata": {},
   "source": [
    "- Observed that there are null values.\n",
    "- Next: fill null values with 0"
   ]
  },
  {
   "cell_type": "code",
   "execution_count": 123,
   "id": "74ca0556",
   "metadata": {},
   "outputs": [
    {
     "data": {
      "text/html": [
       "<div>\n",
       "<style scoped>\n",
       "    .dataframe tbody tr th:only-of-type {\n",
       "        vertical-align: middle;\n",
       "    }\n",
       "\n",
       "    .dataframe tbody tr th {\n",
       "        vertical-align: top;\n",
       "    }\n",
       "\n",
       "    .dataframe thead th {\n",
       "        text-align: right;\n",
       "    }\n",
       "</style>\n",
       "<table border=\"1\" class=\"dataframe\">\n",
       "  <thead>\n",
       "    <tr style=\"text-align: right;\">\n",
       "      <th></th>\n",
       "      <th>planning_area</th>\n",
       "      <th>total</th>\n",
       "      <th>below_sgd_1000</th>\n",
       "      <th>no_working_person</th>\n",
       "      <th>sgd_10000_over</th>\n",
       "      <th>sgd_10000_to_10999</th>\n",
       "      <th>sgd_11000_to_11999</th>\n",
       "      <th>sgd_1000_to_1999</th>\n",
       "      <th>sgd_12000_to_12999</th>\n",
       "      <th>sgd_13000_to_13999</th>\n",
       "      <th>...</th>\n",
       "      <th>sgd_2000_to_2999</th>\n",
       "      <th>sgd_3000_to_3999</th>\n",
       "      <th>sgd_4000_to_4999</th>\n",
       "      <th>sgd_5000_to_5999</th>\n",
       "      <th>sgd_6000_to_6999</th>\n",
       "      <th>sgd_7000_to_7999</th>\n",
       "      <th>sgd_8000_over</th>\n",
       "      <th>sgd_8000_to_8999</th>\n",
       "      <th>sgd_9000_to_9999</th>\n",
       "      <th>year</th>\n",
       "    </tr>\n",
       "  </thead>\n",
       "  <tbody>\n",
       "    <tr>\n",
       "      <th>0</th>\n",
       "      <td>Bedok</td>\n",
       "      <td>74833</td>\n",
       "      <td>10217</td>\n",
       "      <td>NaN</td>\n",
       "      <td>NaN</td>\n",
       "      <td>NaN</td>\n",
       "      <td>NaN</td>\n",
       "      <td>9496</td>\n",
       "      <td>NaN</td>\n",
       "      <td>NaN</td>\n",
       "      <td>...</td>\n",
       "      <td>9733</td>\n",
       "      <td>8560</td>\n",
       "      <td>6923</td>\n",
       "      <td>5192</td>\n",
       "      <td>4436</td>\n",
       "      <td>3386</td>\n",
       "      <td>16891.0</td>\n",
       "      <td>NaN</td>\n",
       "      <td>NaN</td>\n",
       "      <td>2000</td>\n",
       "    </tr>\n",
       "    <tr>\n",
       "      <th>2</th>\n",
       "      <td>Bedok</td>\n",
       "      <td>92200</td>\n",
       "      <td>2200</td>\n",
       "      <td>10000.0</td>\n",
       "      <td>NaN</td>\n",
       "      <td>2700.0</td>\n",
       "      <td>3000.0</td>\n",
       "      <td>7200</td>\n",
       "      <td>3300.0</td>\n",
       "      <td>2600.0</td>\n",
       "      <td>...</td>\n",
       "      <td>4100</td>\n",
       "      <td>5300</td>\n",
       "      <td>5300</td>\n",
       "      <td>6200</td>\n",
       "      <td>5200</td>\n",
       "      <td>3200</td>\n",
       "      <td>NaN</td>\n",
       "      <td>4400.0</td>\n",
       "      <td>2900.0</td>\n",
       "      <td>2015</td>\n",
       "    </tr>\n",
       "    <tr>\n",
       "      <th>4</th>\n",
       "      <td>Bukit Timah</td>\n",
       "      <td>16812</td>\n",
       "      <td>1730</td>\n",
       "      <td>NaN</td>\n",
       "      <td>NaN</td>\n",
       "      <td>NaN</td>\n",
       "      <td>NaN</td>\n",
       "      <td>412</td>\n",
       "      <td>NaN</td>\n",
       "      <td>NaN</td>\n",
       "      <td>...</td>\n",
       "      <td>650</td>\n",
       "      <td>832</td>\n",
       "      <td>612</td>\n",
       "      <td>764</td>\n",
       "      <td>702</td>\n",
       "      <td>694</td>\n",
       "      <td>10416.0</td>\n",
       "      <td>NaN</td>\n",
       "      <td>NaN</td>\n",
       "      <td>2000</td>\n",
       "    </tr>\n",
       "    <tr>\n",
       "      <th>6</th>\n",
       "      <td>Bukit Timah</td>\n",
       "      <td>23900</td>\n",
       "      <td>300</td>\n",
       "      <td>2900.0</td>\n",
       "      <td>NaN</td>\n",
       "      <td>900.0</td>\n",
       "      <td>400.0</td>\n",
       "      <td>700</td>\n",
       "      <td>700.0</td>\n",
       "      <td>400.0</td>\n",
       "      <td>...</td>\n",
       "      <td>400</td>\n",
       "      <td>400</td>\n",
       "      <td>200</td>\n",
       "      <td>300</td>\n",
       "      <td>300</td>\n",
       "      <td>700</td>\n",
       "      <td>NaN</td>\n",
       "      <td>700.0</td>\n",
       "      <td>200.0</td>\n",
       "      <td>2015</td>\n",
       "    </tr>\n",
       "    <tr>\n",
       "      <th>8</th>\n",
       "      <td>Bukit Batok</td>\n",
       "      <td>36253</td>\n",
       "      <td>2987</td>\n",
       "      <td>NaN</td>\n",
       "      <td>NaN</td>\n",
       "      <td>NaN</td>\n",
       "      <td>NaN</td>\n",
       "      <td>4490</td>\n",
       "      <td>NaN</td>\n",
       "      <td>NaN</td>\n",
       "      <td>...</td>\n",
       "      <td>5282</td>\n",
       "      <td>4916</td>\n",
       "      <td>3749</td>\n",
       "      <td>3135</td>\n",
       "      <td>2518</td>\n",
       "      <td>1961</td>\n",
       "      <td>7216.0</td>\n",
       "      <td>NaN</td>\n",
       "      <td>NaN</td>\n",
       "      <td>2000</td>\n",
       "    </tr>\n",
       "  </tbody>\n",
       "</table>\n",
       "<p>5 rows × 24 columns</p>\n",
       "</div>"
      ],
      "text/plain": [
       "  planning_area  total  below_sgd_1000  no_working_person  sgd_10000_over  \\\n",
       "0         Bedok  74833           10217                NaN             NaN   \n",
       "2         Bedok  92200            2200            10000.0             NaN   \n",
       "4   Bukit Timah  16812            1730                NaN             NaN   \n",
       "6   Bukit Timah  23900             300             2900.0             NaN   \n",
       "8   Bukit Batok  36253            2987                NaN             NaN   \n",
       "\n",
       "   sgd_10000_to_10999  sgd_11000_to_11999  sgd_1000_to_1999  \\\n",
       "0                 NaN                 NaN              9496   \n",
       "2              2700.0              3000.0              7200   \n",
       "4                 NaN                 NaN               412   \n",
       "6               900.0               400.0               700   \n",
       "8                 NaN                 NaN              4490   \n",
       "\n",
       "   sgd_12000_to_12999  sgd_13000_to_13999  ...  sgd_2000_to_2999  \\\n",
       "0                 NaN                 NaN  ...              9733   \n",
       "2              3300.0              2600.0  ...              4100   \n",
       "4                 NaN                 NaN  ...               650   \n",
       "6               700.0               400.0  ...               400   \n",
       "8                 NaN                 NaN  ...              5282   \n",
       "\n",
       "   sgd_3000_to_3999  sgd_4000_to_4999  sgd_5000_to_5999  sgd_6000_to_6999  \\\n",
       "0              8560              6923              5192              4436   \n",
       "2              5300              5300              6200              5200   \n",
       "4               832               612               764               702   \n",
       "6               400               200               300               300   \n",
       "8              4916              3749              3135              2518   \n",
       "\n",
       "   sgd_7000_to_7999  sgd_8000_over  sgd_8000_to_8999  sgd_9000_to_9999  year  \n",
       "0              3386        16891.0               NaN               NaN  2000  \n",
       "2              3200            NaN            4400.0            2900.0  2015  \n",
       "4               694        10416.0               NaN               NaN  2000  \n",
       "6               700            NaN             700.0             200.0  2015  \n",
       "8              1961         7216.0               NaN               NaN  2000  \n",
       "\n",
       "[5 rows x 24 columns]"
      ]
     },
     "execution_count": 123,
     "metadata": {},
     "output_type": "execute_result"
    }
   ],
   "source": [
    "# view sample dataset with NaN value.\n",
    "population_household_monthly_income_status_df[population_household_monthly_income_status_df[\"sgd_10000_over\"].isnull()].head()"
   ]
  },
  {
   "cell_type": "code",
   "execution_count": 135,
   "id": "7cedc414",
   "metadata": {},
   "outputs": [
    {
     "name": "stdout",
     "output_type": "stream",
     "text": [
      "<class 'pandas.core.frame.DataFrame'>\n",
      "RangeIndex: 149 entries, 0 to 148\n",
      "Data columns (total 24 columns):\n",
      " #   Column              Non-Null Count  Dtype  \n",
      "---  ------              --------------  -----  \n",
      " 0   planning_area       149 non-null    object \n",
      " 1   total               149 non-null    int64  \n",
      " 2   below_sgd_1000      149 non-null    int64  \n",
      " 3   no_working_person   149 non-null    float64\n",
      " 4   sgd_10000_over      149 non-null    float64\n",
      " 5   sgd_10000_to_10999  149 non-null    float64\n",
      " 6   sgd_11000_to_11999  149 non-null    float64\n",
      " 7   sgd_1000_to_1999    149 non-null    int64  \n",
      " 8   sgd_12000_to_12999  149 non-null    float64\n",
      " 9   sgd_13000_to_13999  149 non-null    float64\n",
      " 10  sgd_14000_to_14999  149 non-null    float64\n",
      " 11  sgd_15000_to_17499  149 non-null    float64\n",
      " 12  sgd_17500_to_19999  149 non-null    float64\n",
      " 13  sgd_20000_over      149 non-null    float64\n",
      " 14  sgd_2000_to_2999    149 non-null    int64  \n",
      " 15  sgd_3000_to_3999    149 non-null    int64  \n",
      " 16  sgd_4000_to_4999    149 non-null    int64  \n",
      " 17  sgd_5000_to_5999    149 non-null    int64  \n",
      " 18  sgd_6000_to_6999    149 non-null    int64  \n",
      " 19  sgd_7000_to_7999    149 non-null    int64  \n",
      " 20  sgd_8000_over       149 non-null    float64\n",
      " 21  sgd_8000_to_8999    149 non-null    float64\n",
      " 22  sgd_9000_to_9999    149 non-null    float64\n",
      " 23  year                149 non-null    int64  \n",
      "dtypes: float64(13), int64(10), object(1)\n",
      "memory usage: 28.1+ KB\n",
      "None\n"
     ]
    }
   ],
   "source": [
    "# fill dataframe with 0 where na\n",
    "population_household_monthly_income_status_df = population_household_monthly_income_status_df.fillna(0)\n",
    "\n",
    "# view dataframe info\n",
    "print(population_household_monthly_income_status_df.info())"
   ]
  },
  {
   "cell_type": "markdown",
   "id": "f7b59cca",
   "metadata": {},
   "source": [
    "- Observed that null values have been filled with 0.\n",
    "- Next:\n",
    "    - Dataset will be averaged by planning_area.\n",
    "    - Year column will be dropped from dataset and exported as cleaned dataframe."
   ]
  },
  {
   "cell_type": "code",
   "execution_count": 131,
   "id": "b50931e6",
   "metadata": {},
   "outputs": [
    {
     "name": "stdout",
     "output_type": "stream",
     "text": [
      "<class 'pandas.core.frame.DataFrame'>\n",
      "RangeIndex: 54 entries, 0 to 53\n",
      "Data columns (total 23 columns):\n",
      " #   Column              Non-Null Count  Dtype  \n",
      "---  ------              --------------  -----  \n",
      " 0   planning_area       54 non-null     object \n",
      " 1   total               54 non-null     float64\n",
      " 2   below_sgd_1000      54 non-null     float64\n",
      " 3   no_working_person   54 non-null     float64\n",
      " 4   sgd_10000_over      54 non-null     float64\n",
      " 5   sgd_10000_to_10999  54 non-null     float64\n",
      " 6   sgd_11000_to_11999  54 non-null     float64\n",
      " 7   sgd_1000_to_1999    54 non-null     float64\n",
      " 8   sgd_12000_to_12999  54 non-null     float64\n",
      " 9   sgd_13000_to_13999  54 non-null     float64\n",
      " 10  sgd_14000_to_14999  54 non-null     float64\n",
      " 11  sgd_15000_to_17499  54 non-null     float64\n",
      " 12  sgd_17500_to_19999  54 non-null     float64\n",
      " 13  sgd_20000_over      54 non-null     float64\n",
      " 14  sgd_2000_to_2999    54 non-null     float64\n",
      " 15  sgd_3000_to_3999    54 non-null     float64\n",
      " 16  sgd_4000_to_4999    54 non-null     float64\n",
      " 17  sgd_5000_to_5999    54 non-null     float64\n",
      " 18  sgd_6000_to_6999    54 non-null     float64\n",
      " 19  sgd_7000_to_7999    54 non-null     float64\n",
      " 20  sgd_8000_over       54 non-null     float64\n",
      " 21  sgd_8000_to_8999    54 non-null     float64\n",
      " 22  sgd_9000_to_9999    54 non-null     float64\n",
      "dtypes: float64(22), object(1)\n",
      "memory usage: 9.8+ KB\n"
     ]
    }
   ],
   "source": [
    "# Group data by planning area and get the mean of the values.\n",
    "population_household_monthly_income_status_group_df = population_household_monthly_income_status_df.groupby('planning_area')[\n",
    "                                                                  ['total'\n",
    "                                                                   ,'below_sgd_1000'\n",
    "                                                                   ,'no_working_person'\n",
    "                                                                   , 'sgd_10000_over'\n",
    "                                                                   , 'sgd_10000_to_10999'\n",
    "                                                                   \n",
    "                                                                   , 'sgd_11000_to_11999' \n",
    "                                                                   , 'sgd_1000_to_1999' \n",
    "                                                                   , 'sgd_12000_to_12999' \n",
    "                                                                   , 'sgd_13000_to_13999'                                                                   \n",
    "                                                                   , 'sgd_14000_to_14999' \n",
    "                                                                   \n",
    "                                                                   , 'sgd_15000_to_17499' \n",
    "                                                                   , 'sgd_17500_to_19999' \n",
    "                                                                   , 'sgd_20000_over' \n",
    "                                                                   , 'sgd_2000_to_2999' \n",
    "                                                                   , 'sgd_3000_to_3999'\n",
    "                                                                   \n",
    "                                                                   , 'sgd_4000_to_4999' \n",
    "                                                                   , 'sgd_5000_to_5999' \n",
    "                                                                   , 'sgd_6000_to_6999' \n",
    "                                                                   , 'sgd_7000_to_7999' \n",
    "                                                                   , 'sgd_8000_over' \n",
    "                                                                   \n",
    "                                                                   , 'sgd_8000_to_8999'\n",
    "                                                                   , 'sgd_9000_to_9999'\n",
    "                                                                  \n",
    "                                                                   ]].mean().reset_index()\n",
    "\n",
    "# view the information of the dataset.\n",
    "population_household_monthly_income_status_group_df.info()"
   ]
  },
  {
   "cell_type": "markdown",
   "id": "a79bac3b",
   "metadata": {},
   "source": [
    "- Observed that the dataset values has been averaged by planning_area\n",
    "- Next: Export out the dataset as cleaned Data"
   ]
  },
  {
   "cell_type": "markdown",
   "id": "296404db",
   "metadata": {},
   "source": [
    "### Export Population household monthly income status cleaned data"
   ]
  },
  {
   "cell_type": "code",
   "execution_count": 132,
   "id": "62e878ca",
   "metadata": {},
   "outputs": [],
   "source": [
    "# export  to csv\n",
    "population_household_monthly_income_status_group_df.to_csv('../assets/data_clean/population_household_monthly_income_status_cleaned.csv', encoding='utf-8', index=False)\n",
    "\n",
    "# export as pickle file\n",
    "population_household_monthly_income_status_group_df.to_pickle('../assets/data_clean/population_household_monthly_income_status_cleaned.pkl')"
   ]
  },
  {
   "cell_type": "markdown",
   "id": "0c709686",
   "metadata": {},
   "source": [
    "- Observed that the files are successfully exported."
   ]
  },
  {
   "cell_type": "markdown",
   "id": "2e93d9fd",
   "metadata": {},
   "source": [
    "## Population household structure data\n",
    "\n",
    "- API retrieves data related to household structure for given planning area name and year.\n",
    "- Data is available for the year 2000, 2010, 2015, and 2020.\n",
    "- Data extracted is exported to csv file with the columns:\n",
    "\t1. planning_area\n",
    "\t2. no_family_nucleus\n",
    "\t3. ofn_1_gen\n",
    "\t4. ofn_2_gen\n",
    "\t5. ofn_3_more_gen\n",
    "\t6. tfn_1to2_gen\n",
    "\t7. tfn_3_more_gen\n",
    "\t8. three_more_fam_nucleus\n",
    "\t9. year"
   ]
  },
  {
   "cell_type": "code",
   "execution_count": 138,
   "id": "787a198e",
   "metadata": {},
   "outputs": [
    {
     "name": "stdout",
     "output_type": "stream",
     "text": [
      "<class 'pandas.core.frame.DataFrame'>\n",
      "RangeIndex: 177 entries, 0 to 176\n",
      "Data columns (total 9 columns):\n",
      " #   Column                  Non-Null Count  Dtype  \n",
      "---  ------                  --------------  -----  \n",
      " 0   planning_area           177 non-null    object \n",
      " 1   no_family_nucleus       177 non-null    int64  \n",
      " 2   ofn_1_gen               177 non-null    int64  \n",
      " 3   ofn_2_gen               177 non-null    int64  \n",
      " 4   ofn_3_more_gen          177 non-null    int64  \n",
      " 5   tfn_1to2_gen            122 non-null    float64\n",
      " 6   tfn_3_more_gen          122 non-null    float64\n",
      " 7   three_more_fam_nucleus  122 non-null    float64\n",
      " 8   year                    177 non-null    int64  \n",
      "dtypes: float64(3), int64(5), object(1)\n",
      "memory usage: 12.6+ KB\n"
     ]
    }
   ],
   "source": [
    "# Read Dataset\n",
    "population_household_structure_df = pd.read_csv('../assets/onemap/population_household_structure.csv')\n",
    "\n",
    "# Dataset Info\n",
    "population_household_structure_df.info()"
   ]
  },
  {
   "cell_type": "code",
   "execution_count": 139,
   "id": "7962e5e0",
   "metadata": {},
   "outputs": [
    {
     "name": "stdout",
     "output_type": "stream",
     "text": [
      "<class 'pandas.core.frame.DataFrame'>\n",
      "RangeIndex: 177 entries, 0 to 176\n",
      "Data columns (total 9 columns):\n",
      " #   Column                  Non-Null Count  Dtype  \n",
      "---  ------                  --------------  -----  \n",
      " 0   planning_area           177 non-null    object \n",
      " 1   no_family_nucleus       177 non-null    int64  \n",
      " 2   ofn_1_gen               177 non-null    int64  \n",
      " 3   ofn_2_gen               177 non-null    int64  \n",
      " 4   ofn_3_more_gen          177 non-null    int64  \n",
      " 5   tfn_1to2_gen            177 non-null    float64\n",
      " 6   tfn_3_more_gen          177 non-null    float64\n",
      " 7   three_more_fam_nucleus  177 non-null    float64\n",
      " 8   year                    177 non-null    int64  \n",
      "dtypes: float64(3), int64(5), object(1)\n",
      "memory usage: 12.6+ KB\n",
      "None\n"
     ]
    }
   ],
   "source": [
    "# fill dataframe with 0 where na\n",
    "population_household_structure_df = population_household_structure_df.fillna(0)\n",
    "\n",
    "# view dataframe info\n",
    "print(population_household_structure_df.info())"
   ]
  },
  {
   "cell_type": "markdown",
   "id": "bbc97e00",
   "metadata": {},
   "source": [
    "- Observed that null values have been filled with 0.\n",
    "- Next:\n",
    "    - Dataset will be averaged by planning_area.\n",
    "    - Year column will be dropped from dataset and exported as cleaned dataframe."
   ]
  },
  {
   "cell_type": "code",
   "execution_count": 140,
   "id": "f4c9a7bb",
   "metadata": {},
   "outputs": [
    {
     "name": "stdout",
     "output_type": "stream",
     "text": [
      "<class 'pandas.core.frame.DataFrame'>\n",
      "RangeIndex: 55 entries, 0 to 54\n",
      "Data columns (total 8 columns):\n",
      " #   Column                  Non-Null Count  Dtype  \n",
      "---  ------                  --------------  -----  \n",
      " 0   planning_area           55 non-null     object \n",
      " 1   no_family_nucleus       55 non-null     float64\n",
      " 2   ofn_1_gen               55 non-null     float64\n",
      " 3   ofn_2_gen               55 non-null     float64\n",
      " 4   ofn_3_more_gen          55 non-null     float64\n",
      " 5   tfn_1to2_gen            55 non-null     float64\n",
      " 6   tfn_3_more_gen          55 non-null     float64\n",
      " 7   three_more_fam_nucleus  55 non-null     float64\n",
      "dtypes: float64(7), object(1)\n",
      "memory usage: 3.6+ KB\n"
     ]
    }
   ],
   "source": [
    "# Group data by planning area and get the mean of the values.\n",
    "population_household_structure_group_df = population_household_structure_df.groupby('planning_area')[\n",
    "                                                                  ['no_family_nucleus'\n",
    "                                                                   ,'ofn_1_gen'\n",
    "                                                                   ,'ofn_2_gen'\n",
    "                                                                   , 'ofn_3_more_gen'\n",
    "                                                                   , 'tfn_1to2_gen'\n",
    "                                                                   \n",
    "                                                                   , 'tfn_3_more_gen' \n",
    "                                                                   , 'three_more_fam_nucleus'                                                                   \n",
    "                                                                   ]].mean().reset_index()\n",
    "\n",
    "# view the information of the dataset.\n",
    "population_household_structure_group_df.info()"
   ]
  },
  {
   "cell_type": "markdown",
   "id": "863b49c8",
   "metadata": {},
   "source": [
    "- Observed that the dataset values has been averaged by planning_area\n",
    "- Next: Export out the dataset as cleaned Data"
   ]
  },
  {
   "cell_type": "markdown",
   "id": "0c03ca7f",
   "metadata": {},
   "source": [
    "### Export Population household structure cleaned data"
   ]
  },
  {
   "cell_type": "code",
   "execution_count": 142,
   "id": "808271c9",
   "metadata": {},
   "outputs": [],
   "source": [
    "# export  to csv\n",
    "population_household_structure_group_df.to_csv('../assets/data_clean/population_household_structure_cleaned.csv', encoding='utf-8', index=False)\n",
    "\n",
    "# export as pickle file\n",
    "population_household_structure_group_df.to_pickle('../assets/data_clean/population_household_structure_cleaned.pkl')"
   ]
  },
  {
   "cell_type": "markdown",
   "id": "25ef7c42",
   "metadata": {},
   "source": [
    "- Observed that the files are successfully exported."
   ]
  },
  {
   "cell_type": "markdown",
   "id": "d0985196",
   "metadata": {},
   "source": [
    "## Income From Work Data\n",
    "\n",
    "- API retrieves data related income from work data for given planning area name and year.\n",
    "- Data is available for the year 2000, 2010, 2015, and 2020.\n",
    "- Data extracted is exported to csv file with the columns:\n",
    "\t1. planning_area\n",
    "\t2. total\n",
    "\t3. below_sgd_1000\n",
    "\t4. sgd_10000_to_10999\n",
    "\t5. sgd_11000_to_11999\n",
    "\t6. sgd_12000_over\n",
    "\t7. sgd_1000_to_1499\n",
    "\t8. sgd_1500_to_1999\n",
    "\t9. sgd_2000_to_2499\n",
    "\t10. sgd_2500_to_2999\n",
    "\t11. sgd_3000_to_3999\n",
    "\t12. sgd_4000_to_4999\n",
    "\t13. sgd_5000_to_5999\n",
    "\t14. sgd_6000_over\n",
    "\t15. sgd_6000_to_6999\n",
    "\t16. sgd_7000_to_7999\n",
    "\t17. sgd_8000_over\n",
    "\t18. sgd_8000_to_8999\n",
    "\t19. sgd_9000_to_9999\n",
    "\t20. sgd_1000_to_1999\n",
    "\t21. sgd_2000_to_2999\n",
    "\t22. sgd_12000_14999\n",
    "\t23. sgd_15000_over\n",
    "\t24. year"
   ]
  },
  {
   "cell_type": "code",
   "execution_count": 143,
   "id": "e8c739d1",
   "metadata": {},
   "outputs": [
    {
     "name": "stdout",
     "output_type": "stream",
     "text": [
      "<class 'pandas.core.frame.DataFrame'>\n",
      "RangeIndex: 150 entries, 0 to 149\n",
      "Data columns (total 24 columns):\n",
      " #   Column              Non-Null Count  Dtype  \n",
      "---  ------              --------------  -----  \n",
      " 0   planning_area       150 non-null    object \n",
      " 1   total               150 non-null    int64  \n",
      " 2   below_sgd_1000      150 non-null    int64  \n",
      " 3   sgd_10000_to_10999  83 non-null     float64\n",
      " 4   sgd_11000_to_11999  83 non-null     float64\n",
      " 5   sgd_12000_over      83 non-null     float64\n",
      " 6   sgd_1000_to_1499    150 non-null    int64  \n",
      " 7   sgd_1500_to_1999    150 non-null    int64  \n",
      " 8   sgd_2000_to_2499    150 non-null    int64  \n",
      " 9   sgd_2500_to_2999    150 non-null    int64  \n",
      " 10  sgd_3000_to_3999    150 non-null    int64  \n",
      " 11  sgd_4000_to_4999    150 non-null    int64  \n",
      " 12  sgd_5000_to_5999    150 non-null    int64  \n",
      " 13  sgd_6000_over       87 non-null     float64\n",
      " 14  sgd_6000_to_6999    118 non-null    float64\n",
      " 15  sgd_7000_to_7999    118 non-null    float64\n",
      " 16  sgd_8000_over       90 non-null     float64\n",
      " 17  sgd_8000_to_8999    83 non-null     float64\n",
      " 18  sgd_9000_to_9999    83 non-null     float64\n",
      " 19  sgd_1000_to_1999    150 non-null    int64  \n",
      " 20  sgd_2000_to_2999    150 non-null    int64  \n",
      " 21  sgd_12000_14999     150 non-null    int64  \n",
      " 22  sgd_15000_over      150 non-null    int64  \n",
      " 23  year                150 non-null    int64  \n",
      "dtypes: float64(9), int64(14), object(1)\n",
      "memory usage: 28.2+ KB\n"
     ]
    }
   ],
   "source": [
    "# Read Dataset\n",
    "population_income_from_work_df = pd.read_csv('../assets/onemap/population_income_from_work.csv')\n",
    "\n",
    "# Dataset Info\n",
    "population_income_from_work_df.info()"
   ]
  },
  {
   "cell_type": "markdown",
   "id": "aaa7e5b1",
   "metadata": {},
   "source": [
    "- Observed that there are null values.\n",
    "- Next: fill null values with 0"
   ]
  },
  {
   "cell_type": "code",
   "execution_count": 145,
   "id": "2e9264a0",
   "metadata": {},
   "outputs": [
    {
     "name": "stdout",
     "output_type": "stream",
     "text": [
      "<class 'pandas.core.frame.DataFrame'>\n",
      "RangeIndex: 150 entries, 0 to 149\n",
      "Data columns (total 24 columns):\n",
      " #   Column              Non-Null Count  Dtype  \n",
      "---  ------              --------------  -----  \n",
      " 0   planning_area       150 non-null    object \n",
      " 1   total               150 non-null    int64  \n",
      " 2   below_sgd_1000      150 non-null    int64  \n",
      " 3   sgd_10000_to_10999  150 non-null    float64\n",
      " 4   sgd_11000_to_11999  150 non-null    float64\n",
      " 5   sgd_12000_over      150 non-null    float64\n",
      " 6   sgd_1000_to_1499    150 non-null    int64  \n",
      " 7   sgd_1500_to_1999    150 non-null    int64  \n",
      " 8   sgd_2000_to_2499    150 non-null    int64  \n",
      " 9   sgd_2500_to_2999    150 non-null    int64  \n",
      " 10  sgd_3000_to_3999    150 non-null    int64  \n",
      " 11  sgd_4000_to_4999    150 non-null    int64  \n",
      " 12  sgd_5000_to_5999    150 non-null    int64  \n",
      " 13  sgd_6000_over       150 non-null    float64\n",
      " 14  sgd_6000_to_6999    150 non-null    float64\n",
      " 15  sgd_7000_to_7999    150 non-null    float64\n",
      " 16  sgd_8000_over       150 non-null    float64\n",
      " 17  sgd_8000_to_8999    150 non-null    float64\n",
      " 18  sgd_9000_to_9999    150 non-null    float64\n",
      " 19  sgd_1000_to_1999    150 non-null    int64  \n",
      " 20  sgd_2000_to_2999    150 non-null    int64  \n",
      " 21  sgd_12000_14999     150 non-null    int64  \n",
      " 22  sgd_15000_over      150 non-null    int64  \n",
      " 23  year                150 non-null    int64  \n",
      "dtypes: float64(9), int64(14), object(1)\n",
      "memory usage: 28.2+ KB\n",
      "None\n"
     ]
    }
   ],
   "source": [
    "# fill dataframe with 0 where na\n",
    "population_income_from_work_df = population_income_from_work_df.fillna(0)\n",
    "\n",
    "# view dataframe info\n",
    "print(population_income_from_work_df.info())"
   ]
  },
  {
   "cell_type": "markdown",
   "id": "98238958",
   "metadata": {},
   "source": [
    "- Observed that null values have been filled with 0.\n",
    "- Next:\n",
    "    - Dataset will be averaged by planning_area.\n",
    "    - Year column will be dropped from dataset and exported as cleaned dataframe."
   ]
  },
  {
   "cell_type": "code",
   "execution_count": 150,
   "id": "131b194a",
   "metadata": {},
   "outputs": [
    {
     "name": "stdout",
     "output_type": "stream",
     "text": [
      "<class 'pandas.core.frame.DataFrame'>\n",
      "RangeIndex: 55 entries, 0 to 54\n",
      "Data columns (total 23 columns):\n",
      " #   Column              Non-Null Count  Dtype  \n",
      "---  ------              --------------  -----  \n",
      " 0   planning_area       55 non-null     object \n",
      " 1   total               55 non-null     float64\n",
      " 2   below_sgd_1000      55 non-null     float64\n",
      " 3   sgd_10000_to_10999  55 non-null     float64\n",
      " 4   sgd_11000_to_11999  55 non-null     float64\n",
      " 5   sgd_12000_over      55 non-null     float64\n",
      " 6   sgd_1000_to_1499    55 non-null     float64\n",
      " 7   sgd_1000_to_1999    55 non-null     float64\n",
      " 8   sgd_2000_to_2499    55 non-null     float64\n",
      " 9   sgd_2500_to_2999    55 non-null     float64\n",
      " 10  sgd_3000_to_3999    55 non-null     float64\n",
      " 11  sgd_4000_to_4999    55 non-null     float64\n",
      " 12  sgd_5000_to_5999    55 non-null     float64\n",
      " 13  sgd_6000_over       55 non-null     float64\n",
      " 14  sgd_6000_to_6999    55 non-null     float64\n",
      " 15  sgd_7000_to_7999    55 non-null     float64\n",
      " 16  sgd_8000_over       55 non-null     float64\n",
      " 17  sgd_8000_to_8999    55 non-null     float64\n",
      " 18  sgd_9000_to_9999    55 non-null     float64\n",
      " 19  sgd_1000_to_1999    55 non-null     float64\n",
      " 20  sgd_2000_to_2999    55 non-null     float64\n",
      " 21  sgd_12000_14999     55 non-null     float64\n",
      " 22  sgd_15000_over      55 non-null     float64\n",
      "dtypes: float64(22), object(1)\n",
      "memory usage: 10.0+ KB\n"
     ]
    }
   ],
   "source": [
    "# Group data by planning area and get the mean of the values.\n",
    "population_income_from_work_group_df = population_income_from_work_df.groupby('planning_area')[\n",
    "                                                                  ['total'\n",
    "                                                                   ,'below_sgd_1000'\n",
    "                                                                   ,'sgd_10000_to_10999'\n",
    "                                                                   , 'sgd_11000_to_11999'\n",
    "                                                                   , 'sgd_12000_over'\n",
    "                                                                   \n",
    "                                                                   , 'sgd_1000_to_1499' \n",
    "                                                                   , 'sgd_1000_to_1999' \n",
    "                                                                   , 'sgd_2000_to_2499' \n",
    "                                                                   , 'sgd_2500_to_2999'                                                                   \n",
    "                                                                   , 'sgd_3000_to_3999' \n",
    "                                                                   \n",
    "                                                                   , 'sgd_4000_to_4999' \n",
    "                                                                   , 'sgd_5000_to_5999' \n",
    "                                                                   , 'sgd_6000_over' \n",
    "                                                                   , 'sgd_6000_to_6999' \n",
    "                                                                   , 'sgd_7000_to_7999'\n",
    "                                                                   \n",
    "                                                                   , 'sgd_8000_over' \n",
    "                                                                   , 'sgd_8000_to_8999' \n",
    "                                                                   , 'sgd_9000_to_9999' \n",
    "                                                                   , 'sgd_1000_to_1999' \n",
    "                                                                   , 'sgd_2000_to_2999' \n",
    "                                                                   \n",
    "                                                                   , 'sgd_12000_14999'\n",
    "                                                                   , 'sgd_15000_over'\n",
    "                                                                  \n",
    "                                                                   ]].mean().reset_index()\n",
    "\n",
    "# view the information of the dataset.\n",
    "population_income_from_work_group_df.info()"
   ]
  },
  {
   "cell_type": "markdown",
   "id": "ec581414",
   "metadata": {},
   "source": [
    "### Export Income From Work Data cleaned data"
   ]
  },
  {
   "cell_type": "code",
   "execution_count": 151,
   "id": "3ad36ab6",
   "metadata": {},
   "outputs": [],
   "source": [
    "# export  to csv\n",
    "population_income_from_work_group_df.to_csv('../assets/data_clean/population_income_from_work_cleaned.csv', encoding='utf-8', index=False)\n",
    "\n",
    "# export as pickle file\n",
    "population_income_from_work_group_df.to_pickle('../assets/data_clean/population_income_from_work_cleaned.pkl')"
   ]
  },
  {
   "cell_type": "markdown",
   "id": "059123d5",
   "metadata": {},
   "source": [
    "- Observed that the files are successfully exported."
   ]
  },
  {
   "cell_type": "markdown",
   "id": "0cfbaacf",
   "metadata": {},
   "source": [
    "## Planning Area Industry\n",
    "\n",
    "- API retrieves data related to industry of population for given planning area name and year.\n",
    "- Data is available for the year 2000, 2010, 2015, and 2020.\n",
    "- Data extracted is exported to csv file with the columns:\n",
    "\t1. planning_area\n",
    "\t2. manufacturing\n",
    "\t3. construction\n",
    "\t4. wholesale_retail_trade\n",
    "\t5. transportation_storage\n",
    "\t6. accommodation_food_services\n",
    "\t7. information_communications\n",
    "\t8. financial_insurance_services\n",
    "\t9. real_estate_services\n",
    "\t10. professional_services\n",
    "\t11. admin_support_services\n",
    "\t12. public_admin_education\n",
    "\t13. health_social_services\n",
    "\t14. arts_entertainment_recreation\n",
    "\t15. other_comm_social_personal\n",
    "\t16. others\n",
    "\t17. hotels_restaurants\n",
    "\t18. transport_communications\n",
    "\t19. business_services\n",
    "\t20. other_services_industries\n",
    "\t21. year"
   ]
  },
  {
   "cell_type": "code",
   "execution_count": 153,
   "id": "0d35e6e1",
   "metadata": {},
   "outputs": [
    {
     "name": "stdout",
     "output_type": "stream",
     "text": [
      "<class 'pandas.core.frame.DataFrame'>\n",
      "RangeIndex: 177 entries, 0 to 176\n",
      "Data columns (total 21 columns):\n",
      " #   Column                         Non-Null Count  Dtype  \n",
      "---  ------                         --------------  -----  \n",
      " 0   planning_area                  177 non-null    object \n",
      " 1   manufacturing                  177 non-null    int64  \n",
      " 2   construction                   177 non-null    int64  \n",
      " 3   wholesale_retail_trade         177 non-null    int64  \n",
      " 4   transportation_storage         177 non-null    int64  \n",
      " 5   accommodation_food_services    177 non-null    int64  \n",
      " 6   information_communications     177 non-null    int64  \n",
      " 7   financial_insurance_services   177 non-null    int64  \n",
      " 8   real_estate_services           177 non-null    int64  \n",
      " 9   professional_services          177 non-null    int64  \n",
      " 10  admin_support_services         177 non-null    int64  \n",
      " 11  public_admin_education         177 non-null    int64  \n",
      " 12  health_social_services         177 non-null    int64  \n",
      " 13  arts_entertainment_recreation  177 non-null    int64  \n",
      " 14  other_comm_social_personal     177 non-null    int64  \n",
      " 15  others                         177 non-null    int64  \n",
      " 16  hotels_restaurants             122 non-null    float64\n",
      " 17  transport_communications       122 non-null    float64\n",
      " 18  business_services              122 non-null    float64\n",
      " 19  other_services_industries      122 non-null    float64\n",
      " 20  year                           177 non-null    int64  \n",
      "dtypes: float64(4), int64(16), object(1)\n",
      "memory usage: 29.2+ KB\n"
     ]
    }
   ],
   "source": [
    "# Read Dataset\n",
    "population_planning_area_industry_df = pd.read_csv('../assets/onemap/population_planning_area_industry.csv')\n",
    "\n",
    "# Dataset Info\n",
    "population_planning_area_industry_df.info()"
   ]
  },
  {
   "cell_type": "markdown",
   "id": "bc594c0e",
   "metadata": {},
   "source": [
    "- Observed that there are null values.\n",
    "- Next: fill null values with 0"
   ]
  },
  {
   "cell_type": "code",
   "execution_count": 154,
   "id": "34b056e5",
   "metadata": {},
   "outputs": [
    {
     "name": "stdout",
     "output_type": "stream",
     "text": [
      "<class 'pandas.core.frame.DataFrame'>\n",
      "RangeIndex: 177 entries, 0 to 176\n",
      "Data columns (total 21 columns):\n",
      " #   Column                         Non-Null Count  Dtype  \n",
      "---  ------                         --------------  -----  \n",
      " 0   planning_area                  177 non-null    object \n",
      " 1   manufacturing                  177 non-null    int64  \n",
      " 2   construction                   177 non-null    int64  \n",
      " 3   wholesale_retail_trade         177 non-null    int64  \n",
      " 4   transportation_storage         177 non-null    int64  \n",
      " 5   accommodation_food_services    177 non-null    int64  \n",
      " 6   information_communications     177 non-null    int64  \n",
      " 7   financial_insurance_services   177 non-null    int64  \n",
      " 8   real_estate_services           177 non-null    int64  \n",
      " 9   professional_services          177 non-null    int64  \n",
      " 10  admin_support_services         177 non-null    int64  \n",
      " 11  public_admin_education         177 non-null    int64  \n",
      " 12  health_social_services         177 non-null    int64  \n",
      " 13  arts_entertainment_recreation  177 non-null    int64  \n",
      " 14  other_comm_social_personal     177 non-null    int64  \n",
      " 15  others                         177 non-null    int64  \n",
      " 16  hotels_restaurants             177 non-null    float64\n",
      " 17  transport_communications       177 non-null    float64\n",
      " 18  business_services              177 non-null    float64\n",
      " 19  other_services_industries      177 non-null    float64\n",
      " 20  year                           177 non-null    int64  \n",
      "dtypes: float64(4), int64(16), object(1)\n",
      "memory usage: 29.2+ KB\n",
      "None\n"
     ]
    }
   ],
   "source": [
    "# fill dataframe with 0 where na\n",
    "population_planning_area_industry_df = population_planning_area_industry_df.fillna(0)\n",
    "\n",
    "# view dataframe info\n",
    "print(population_planning_area_industry_df.info())"
   ]
  },
  {
   "cell_type": "markdown",
   "id": "cd50cca0",
   "metadata": {},
   "source": [
    "- Observed that null values have been filled with 0.\n",
    "- Next:\n",
    "    - Dataset will be averaged by planning_area.\n",
    "    - Year column will be dropped from dataset and exported as cleaned dataframe."
   ]
  },
  {
   "cell_type": "code",
   "execution_count": 155,
   "id": "54794c22",
   "metadata": {},
   "outputs": [
    {
     "name": "stdout",
     "output_type": "stream",
     "text": [
      "<class 'pandas.core.frame.DataFrame'>\n",
      "RangeIndex: 55 entries, 0 to 54\n",
      "Data columns (total 20 columns):\n",
      " #   Column                         Non-Null Count  Dtype  \n",
      "---  ------                         --------------  -----  \n",
      " 0   planning_area                  55 non-null     object \n",
      " 1   manufacturing                  55 non-null     float64\n",
      " 2   construction                   55 non-null     float64\n",
      " 3   wholesale_retail_trade         55 non-null     float64\n",
      " 4   transportation_storage         55 non-null     float64\n",
      " 5   accommodation_food_services    55 non-null     float64\n",
      " 6   information_communications     55 non-null     float64\n",
      " 7   financial_insurance_services   55 non-null     float64\n",
      " 8   real_estate_services           55 non-null     float64\n",
      " 9   professional_services          55 non-null     float64\n",
      " 10  admin_support_services         55 non-null     float64\n",
      " 11  public_admin_education         55 non-null     float64\n",
      " 12  health_social_services         55 non-null     float64\n",
      " 13  arts_entertainment_recreation  55 non-null     float64\n",
      " 14  other_comm_social_personal     55 non-null     float64\n",
      " 15  others                         55 non-null     float64\n",
      " 16  hotels_restaurants             55 non-null     float64\n",
      " 17  transport_communications       55 non-null     float64\n",
      " 18  business_services              55 non-null     float64\n",
      " 19  other_services_industries      55 non-null     float64\n",
      "dtypes: float64(19), object(1)\n",
      "memory usage: 8.7+ KB\n"
     ]
    }
   ],
   "source": [
    "# Group data by planning area and get the mean of the values.\n",
    "population_planning_area_industry_group_df = population_planning_area_industry_df.groupby('planning_area')[\n",
    "                                                                  ['manufacturing'\n",
    "                                                                   ,'construction'\n",
    "                                                                   ,'wholesale_retail_trade'\n",
    "                                                                   , 'transportation_storage'\n",
    "                                                                   , 'accommodation_food_services'\n",
    "                                                                   \n",
    "                                                                   , 'information_communications' \n",
    "                                                                   , 'financial_insurance_services' \n",
    "                                                                   , 'real_estate_services' \n",
    "                                                                   , 'professional_services'                                                                   \n",
    "                                                                   , 'admin_support_services' \n",
    "                                                                   \n",
    "                                                                   , 'public_admin_education' \n",
    "                                                                   , 'health_social_services' \n",
    "                                                                   , 'arts_entertainment_recreation' \n",
    "                                                                   , 'other_comm_social_personal' \n",
    "                                                                   , 'others'\n",
    "                                                                   \n",
    "                                                                   , 'hotels_restaurants' \n",
    "                                                                   , 'transport_communications' \n",
    "                                                                   , 'business_services' \n",
    "                                                                   , 'other_services_industries' \n",
    "                                                                  \n",
    "                                                                   ]].mean().reset_index()\n",
    "\n",
    "# view the information of the dataset.\n",
    "population_planning_area_industry_group_df.info()"
   ]
  },
  {
   "cell_type": "markdown",
   "id": "b8e993e0",
   "metadata": {},
   "source": [
    "### Export Planning Area Industry cleaned data"
   ]
  },
  {
   "cell_type": "code",
   "execution_count": 156,
   "id": "49a857ea",
   "metadata": {},
   "outputs": [],
   "source": [
    "# export  to csv\n",
    "population_planning_area_industry_group_df.to_csv('../assets/data_clean/population_planning_area_industry_cleaned.csv', encoding='utf-8', index=False)\n",
    "\n",
    "# export as pickle file\n",
    "population_planning_area_industry_group_df.to_pickle('../assets/data_clean/population_planning_area_industry_cleaned.pkl')"
   ]
  },
  {
   "cell_type": "markdown",
   "id": "c2cc40ab",
   "metadata": {},
   "source": [
    "- Observed that the files are successfully exported."
   ]
  },
  {
   "cell_type": "markdown",
   "id": "1b1644dc",
   "metadata": {},
   "source": [
    "## Population Language Literacy\n",
    "\n",
    "- API retrieves data related to language literacy for given planning area name and year.\n",
    "- Data is available for the year 2000, 2010, 2015, and 2020.\n",
    "- Data extracted is exported to csv file with the columns:\n",
    "\t1. planning_area\n",
    "\t2. no_literate\n",
    "\t3. l1_chi\n",
    "\t4. l1_eng\n",
    "\t5. l1_mal\n",
    "\t6. l1_tam\n",
    "\t7. l1_non_off\n",
    "\t8. l2_eng_chi\n",
    "\t9. l2_eng_mal\n",
    "\t10. l2_eng_tam\n",
    "\t11. l2_other_two\n",
    "\t12. l3_eng_chi_mal\n",
    "\t13. l3_eng_mal_tam\n",
    "\t14. l3_other_three\n",
    "\t15. year\n",
    "\t16. l2_eng_non_off\n"
   ]
  },
  {
   "cell_type": "code",
   "execution_count": 157,
   "id": "1344a95d",
   "metadata": {},
   "outputs": [
    {
     "name": "stdout",
     "output_type": "stream",
     "text": [
      "<class 'pandas.core.frame.DataFrame'>\n",
      "RangeIndex: 177 entries, 0 to 176\n",
      "Data columns (total 16 columns):\n",
      " #   Column          Non-Null Count  Dtype  \n",
      "---  ------          --------------  -----  \n",
      " 0   planning_area   177 non-null    object \n",
      " 1   no_literate     177 non-null    int64  \n",
      " 2   l1_chi          177 non-null    int64  \n",
      " 3   l1_eng          177 non-null    int64  \n",
      " 4   l1_mal          177 non-null    int64  \n",
      " 5   l1_tam          177 non-null    int64  \n",
      " 6   l1_non_off      177 non-null    int64  \n",
      " 7   l2_eng_chi      177 non-null    int64  \n",
      " 8   l2_eng_mal      177 non-null    int64  \n",
      " 9   l2_eng_tam      177 non-null    int64  \n",
      " 10  l2_other_two    177 non-null    int64  \n",
      " 11  l3_eng_chi_mal  122 non-null    float64\n",
      " 12  l3_eng_mal_tam  122 non-null    float64\n",
      " 13  l3_other_three  67 non-null     float64\n",
      " 14  year            177 non-null    int64  \n",
      " 15  l2_eng_non_off  177 non-null    int64  \n",
      "dtypes: float64(3), int64(12), object(1)\n",
      "memory usage: 22.2+ KB\n"
     ]
    }
   ],
   "source": [
    "# Read Dataset\n",
    "population_language_literacy_df = pd.read_csv('../assets/onemap/population_language_literacy.csv')\n",
    "\n",
    "# Dataset Info\n",
    "population_language_literacy_df.info()"
   ]
  },
  {
   "cell_type": "markdown",
   "id": "283c913b",
   "metadata": {},
   "source": [
    "- Observed that there are null values.\n",
    "-  Next: fill null values with 0"
   ]
  },
  {
   "cell_type": "code",
   "execution_count": 159,
   "id": "2ef9cafb",
   "metadata": {},
   "outputs": [
    {
     "name": "stdout",
     "output_type": "stream",
     "text": [
      "<class 'pandas.core.frame.DataFrame'>\n",
      "RangeIndex: 177 entries, 0 to 176\n",
      "Data columns (total 16 columns):\n",
      " #   Column          Non-Null Count  Dtype  \n",
      "---  ------          --------------  -----  \n",
      " 0   planning_area   177 non-null    object \n",
      " 1   no_literate     177 non-null    int64  \n",
      " 2   l1_chi          177 non-null    int64  \n",
      " 3   l1_eng          177 non-null    int64  \n",
      " 4   l1_mal          177 non-null    int64  \n",
      " 5   l1_tam          177 non-null    int64  \n",
      " 6   l1_non_off      177 non-null    int64  \n",
      " 7   l2_eng_chi      177 non-null    int64  \n",
      " 8   l2_eng_mal      177 non-null    int64  \n",
      " 9   l2_eng_tam      177 non-null    int64  \n",
      " 10  l2_other_two    177 non-null    int64  \n",
      " 11  l3_eng_chi_mal  177 non-null    float64\n",
      " 12  l3_eng_mal_tam  177 non-null    float64\n",
      " 13  l3_other_three  177 non-null    float64\n",
      " 14  year            177 non-null    int64  \n",
      " 15  l2_eng_non_off  177 non-null    int64  \n",
      "dtypes: float64(3), int64(12), object(1)\n",
      "memory usage: 22.2+ KB\n",
      "None\n"
     ]
    }
   ],
   "source": [
    "# fill dataframe with 0 where na\n",
    "population_language_literacy_df = population_language_literacy_df.fillna(0)\n",
    "\n",
    "# view dataframe info\n",
    "print(population_language_literacy_df.info())"
   ]
  },
  {
   "cell_type": "markdown",
   "id": "41849e96",
   "metadata": {},
   "source": [
    "- Observed that null values have been filled with 0.\n",
    "- Next:\n",
    "    - Dataset will be averaged by planning_area.\n",
    "    - Year column will be dropped from dataset and exported as cleaned dataframe."
   ]
  },
  {
   "cell_type": "code",
   "execution_count": 160,
   "id": "135cfde0",
   "metadata": {},
   "outputs": [
    {
     "name": "stdout",
     "output_type": "stream",
     "text": [
      "<class 'pandas.core.frame.DataFrame'>\n",
      "RangeIndex: 55 entries, 0 to 54\n",
      "Data columns (total 15 columns):\n",
      " #   Column          Non-Null Count  Dtype  \n",
      "---  ------          --------------  -----  \n",
      " 0   planning_area   55 non-null     object \n",
      " 1   no_literate     55 non-null     float64\n",
      " 2   l1_chi          55 non-null     float64\n",
      " 3   l1_eng          55 non-null     float64\n",
      " 4   l1_mal          55 non-null     float64\n",
      " 5   l1_tam          55 non-null     float64\n",
      " 6   l1_non_off      55 non-null     float64\n",
      " 7   l2_eng_chi      55 non-null     float64\n",
      " 8   l2_eng_mal      55 non-null     float64\n",
      " 9   l2_eng_tam      55 non-null     float64\n",
      " 10  l2_other_two    55 non-null     float64\n",
      " 11  l3_eng_chi_mal  55 non-null     float64\n",
      " 12  l3_eng_mal_tam  55 non-null     float64\n",
      " 13  l3_other_three  55 non-null     float64\n",
      " 14  l2_eng_non_off  55 non-null     float64\n",
      "dtypes: float64(14), object(1)\n",
      "memory usage: 6.6+ KB\n"
     ]
    }
   ],
   "source": [
    "# Group data by planning area and get the mean of the values.\n",
    "population_language_literacy_group_df = population_language_literacy_df.groupby('planning_area')[\n",
    "                                                                  ['no_literate'\n",
    "                                                                   ,'l1_chi'\n",
    "                                                                   ,'l1_eng'\n",
    "                                                                   , 'l1_mal'\n",
    "                                                                   , 'l1_tam'\n",
    "                                                                   \n",
    "                                                                   , 'l1_non_off' \n",
    "                                                                   , 'l2_eng_chi' \n",
    "                                                                   , 'l2_eng_mal' \n",
    "                                                                   , 'l2_eng_tam'                                                                   \n",
    "                                                                   , 'l2_other_two' \n",
    "                                                                   \n",
    "                                                                   , 'l3_eng_chi_mal' \n",
    "                                                                   , 'l3_eng_mal_tam' \n",
    "                                                                   , 'l3_other_three' \n",
    "                                                                   , 'l2_eng_non_off' \n",
    "                                                                 \n",
    "                                                                   ]].mean().reset_index()\n",
    "\n",
    "# view the information of the dataset.\n",
    "population_language_literacy_group_df.info()"
   ]
  },
  {
   "cell_type": "markdown",
   "id": "c69ca59a",
   "metadata": {},
   "source": [
    "- Observed that null values have been filled with 0.\n",
    "- Next:\n",
    "    - Dataset will be averaged by planning_area.\n",
    "    - Year column will be dropped from dataset and exported as cleaned dataframe."
   ]
  },
  {
   "cell_type": "markdown",
   "id": "395935e1",
   "metadata": {},
   "source": [
    "### Export Population Language Literacy cleaned data"
   ]
  },
  {
   "cell_type": "code",
   "execution_count": 161,
   "id": "e2192928",
   "metadata": {},
   "outputs": [],
   "source": [
    "# export  to csv\n",
    "population_language_literacy_group_df.to_csv('../assets/data_clean/population_language_literacy_cleaned.csv', encoding='utf-8', index=False)\n",
    "\n",
    "# export as pickle file\n",
    "population_language_literacy_group_df.to_pickle('../assets/data_clean/population_language_literacy_cleaned.pkl')"
   ]
  },
  {
   "cell_type": "markdown",
   "id": "c01d9d40",
   "metadata": {},
   "source": [
    "- Observed that the files are successfully exported."
   ]
  },
  {
   "cell_type": "markdown",
   "id": "a111a3a4",
   "metadata": {},
   "source": [
    "## Population Martial Status\n",
    "- API retrieves data related to marital status for given planning area name and year.\n",
    "- Data is available for the year 2000, 2010, 2015, and 2020.\n",
    "- Data extracted is exported to csv file with the columns:\n",
    "\t1. planning_area\n",
    "\t2. single\n",
    "\t3. married\n",
    "\t4. widowed\n",
    "\t5. divorced\n",
    "\t6. year\n",
    "\t7. gender"
   ]
  },
  {
   "cell_type": "code",
   "execution_count": 162,
   "id": "2c62baff",
   "metadata": {},
   "outputs": [
    {
     "name": "stdout",
     "output_type": "stream",
     "text": [
      "<class 'pandas.core.frame.DataFrame'>\n",
      "RangeIndex: 354 entries, 0 to 353\n",
      "Data columns (total 7 columns):\n",
      " #   Column         Non-Null Count  Dtype \n",
      "---  ------         --------------  ----- \n",
      " 0   planning_area  354 non-null    object\n",
      " 1   single         354 non-null    int64 \n",
      " 2   married        354 non-null    int64 \n",
      " 3   widowed        354 non-null    int64 \n",
      " 4   divorced       354 non-null    int64 \n",
      " 5   year           354 non-null    int64 \n",
      " 6   gender         354 non-null    object\n",
      "dtypes: int64(5), object(2)\n",
      "memory usage: 19.5+ KB\n"
     ]
    }
   ],
   "source": [
    "# Read Dataset\n",
    "population_maritial_status_df = pd.read_csv('../assets/onemap/population_martial_status.csv')\n",
    "\n",
    "# Dataset Info\n",
    "population_maritial_status_df.info()"
   ]
  },
  {
   "cell_type": "markdown",
   "id": "78182e8f",
   "metadata": {},
   "source": [
    "- Observed that there are no missing values.\n",
    "- Next:\n",
    "    - Dataset will be averaged by planning_area.\n",
    "    - Year and Gender column will be dropped from dataset and exported as cleaned dataframe."
   ]
  },
  {
   "cell_type": "code",
   "execution_count": 163,
   "id": "63f29727",
   "metadata": {},
   "outputs": [
    {
     "name": "stdout",
     "output_type": "stream",
     "text": [
      "<class 'pandas.core.frame.DataFrame'>\n",
      "RangeIndex: 55 entries, 0 to 54\n",
      "Data columns (total 5 columns):\n",
      " #   Column         Non-Null Count  Dtype  \n",
      "---  ------         --------------  -----  \n",
      " 0   planning_area  55 non-null     object \n",
      " 1   single         55 non-null     float64\n",
      " 2   married        55 non-null     float64\n",
      " 3   widowed        55 non-null     float64\n",
      " 4   divorced       55 non-null     float64\n",
      "dtypes: float64(4), object(1)\n",
      "memory usage: 2.3+ KB\n"
     ]
    }
   ],
   "source": [
    "# Group data by planning area and get the mean of the values.\n",
    "population_maritial_status_group_df = population_maritial_status_df.groupby('planning_area')[\n",
    "                                                                  ['single'\n",
    "                                                                   ,'married'\n",
    "                                                                   ,'widowed'\n",
    "                                                                   , 'divorced'\n",
    "                                                                 \n",
    "                                                                   ]].mean().reset_index()\n",
    "\n",
    "# view the information of the dataset.\n",
    "population_maritial_status_group_df.info()"
   ]
  },
  {
   "cell_type": "markdown",
   "id": "ccd91e0c",
   "metadata": {},
   "source": [
    "### Export Population Marital Status cleaned data"
   ]
  },
  {
   "cell_type": "code",
   "execution_count": 164,
   "id": "ddff594c",
   "metadata": {},
   "outputs": [],
   "source": [
    "# export  to csv\n",
    "population_language_literacy_group_df.to_csv('../assets/data_clean/population_martial_status_cleaned.csv', encoding='utf-8', index=False)\n",
    "\n",
    "# export as pickle file\n",
    "population_language_literacy_group_df.to_pickle('../assets/data_clean/population_martial_status_cleaned.pkl')"
   ]
  },
  {
   "cell_type": "markdown",
   "id": "e0508891",
   "metadata": {},
   "source": [
    "- Observed that the files are successfully exported."
   ]
  },
  {
   "cell_type": "markdown",
   "id": "e1718135",
   "metadata": {},
   "source": [
    "## Population Transport Mode To School\n",
    "\n",
    "- API data related to mode of transport to school for given planning area name and year.\n",
    "- Data is available for the year 2000, 2010, 2015, and 2020.\n",
    "- Data extracted is exported to csv file with the columns:\n",
    "\t1. planning_area\n",
    "\t2. bus\n",
    "\t3. mrt\n",
    "\t4. mrt_bus\n",
    "\t5. mrt_car\n",
    "\t6. mrt_other\n",
    "\t7. taxi\n",
    "\t8. car\n",
    "\t9. pvt_chartered_bus\n",
    "\t10. lorry_pickup\n",
    "\t11. motorcycle_scooter\n",
    "\t12. others\n",
    "\t13. no_transport_required\n",
    "\t14. other_combi_mrt_or_bus\n",
    "\t15. mrt_lrt_only\n",
    "\t16. mrt_lrt_and_bus\n",
    "\t17. other_combi_mrt_lrt_or_bus\n",
    "\t18. taxi_pvt_hire_car_only\n",
    "\t19. pvt_chartered_bus_van\n",
    "\t20. year"
   ]
  },
  {
   "cell_type": "code",
   "execution_count": 165,
   "id": "fa253fc3",
   "metadata": {},
   "outputs": [
    {
     "name": "stdout",
     "output_type": "stream",
     "text": [
      "<class 'pandas.core.frame.DataFrame'>\n",
      "RangeIndex: 177 entries, 0 to 176\n",
      "Data columns (total 20 columns):\n",
      " #   Column                      Non-Null Count  Dtype \n",
      "---  ------                      --------------  ----- \n",
      " 0   planning_area               177 non-null    object\n",
      " 1   bus                         177 non-null    int64 \n",
      " 2   mrt                         177 non-null    int64 \n",
      " 3   mrt_bus                     177 non-null    int64 \n",
      " 4   mrt_car                     177 non-null    int64 \n",
      " 5   mrt_other                   177 non-null    int64 \n",
      " 6   taxi                        177 non-null    int64 \n",
      " 7   car                         177 non-null    int64 \n",
      " 8   pvt_chartered_bus           177 non-null    int64 \n",
      " 9   lorry_pickup                177 non-null    int64 \n",
      " 10  motorcycle_scooter          177 non-null    int64 \n",
      " 11  others                      177 non-null    int64 \n",
      " 12  no_transport_required       177 non-null    int64 \n",
      " 13  other_combi_mrt_or_bus      177 non-null    int64 \n",
      " 14  mrt_lrt_only                177 non-null    int64 \n",
      " 15  mrt_lrt_and_bus             177 non-null    int64 \n",
      " 16  other_combi_mrt_lrt_or_bus  177 non-null    int64 \n",
      " 17  taxi_pvt_hire_car_only      177 non-null    int64 \n",
      " 18  pvt_chartered_bus_van       177 non-null    int64 \n",
      " 19  year                        177 non-null    int64 \n",
      "dtypes: int64(19), object(1)\n",
      "memory usage: 27.8+ KB\n"
     ]
    }
   ],
   "source": [
    "# Read Dataset\n",
    "population_transport_mode_school_df = pd.read_csv('../assets/onemap/population_transport_mode_school.csv')\n",
    "\n",
    "# Dataset Info\n",
    "population_transport_mode_school_df.info()"
   ]
  },
  {
   "cell_type": "markdown",
   "id": "405f427e",
   "metadata": {},
   "source": [
    "- Observed that there are no missing values.\n",
    "- Next:\n",
    "    - Dataset will be averaged by planning_area.\n",
    "    - Year column will be dropped from dataset and exported as cleaned dataframe."
   ]
  },
  {
   "cell_type": "code",
   "execution_count": 166,
   "id": "016824da",
   "metadata": {},
   "outputs": [
    {
     "name": "stdout",
     "output_type": "stream",
     "text": [
      "<class 'pandas.core.frame.DataFrame'>\n",
      "RangeIndex: 55 entries, 0 to 54\n",
      "Data columns (total 19 columns):\n",
      " #   Column                      Non-Null Count  Dtype  \n",
      "---  ------                      --------------  -----  \n",
      " 0   planning_area               55 non-null     object \n",
      " 1   bus                         55 non-null     float64\n",
      " 2   mrt                         55 non-null     float64\n",
      " 3   mrt_bus                     55 non-null     float64\n",
      " 4   mrt_car                     55 non-null     float64\n",
      " 5   mrt_other                   55 non-null     float64\n",
      " 6   taxi                        55 non-null     float64\n",
      " 7   car                         55 non-null     float64\n",
      " 8   pvt_chartered_bus           55 non-null     float64\n",
      " 9   lorry_pickup                55 non-null     float64\n",
      " 10  motorcycle_scooter          55 non-null     float64\n",
      " 11  others                      55 non-null     float64\n",
      " 12  no_transport_required       55 non-null     float64\n",
      " 13  other_combi_mrt_or_bus      55 non-null     float64\n",
      " 14  mrt_lrt_only                55 non-null     float64\n",
      " 15  mrt_lrt_and_bus             55 non-null     float64\n",
      " 16  other_combi_mrt_lrt_or_bus  55 non-null     float64\n",
      " 17  taxi_pvt_hire_car_only      55 non-null     float64\n",
      " 18  pvt_chartered_bus_van       55 non-null     float64\n",
      "dtypes: float64(18), object(1)\n",
      "memory usage: 8.3+ KB\n"
     ]
    }
   ],
   "source": [
    "# Group data by planning area and get the mean of the values.\n",
    "population_transport_mode_school_group_df = population_transport_mode_school_df.groupby('planning_area')[\n",
    "                                                                  ['bus'\n",
    "                                                                   ,'mrt'\n",
    "                                                                   ,'mrt_bus'\n",
    "                                                                   , 'mrt_car'\n",
    "                                                                   , 'mrt_other'\n",
    "                                                                   \n",
    "                                                                   , 'taxi' \n",
    "                                                                   , 'car' \n",
    "                                                                   , 'pvt_chartered_bus' \n",
    "                                                                   , 'lorry_pickup'                                                                   \n",
    "                                                                   , 'motorcycle_scooter' \n",
    "                                                                   \n",
    "                                                                   , 'others' \n",
    "                                                                   , 'no_transport_required' \n",
    "                                                                   , 'other_combi_mrt_or_bus' \n",
    "                                                                   , 'mrt_lrt_only'\n",
    "                                                                   , 'mrt_lrt_and_bus' \n",
    "                                                                   \n",
    "                                                                   , 'other_combi_mrt_lrt_or_bus' \n",
    "                                                                   , 'taxi_pvt_hire_car_only' \n",
    "                                                                   , 'pvt_chartered_bus_van' \n",
    "\n",
    "                                                                   ]].mean().reset_index()\n",
    "\n",
    "# view the information of the dataset.\n",
    "population_transport_mode_school_group_df.info()"
   ]
  },
  {
   "cell_type": "markdown",
   "id": "15469960",
   "metadata": {},
   "source": [
    "### Export Population Transport Mode To School cleaned data"
   ]
  },
  {
   "cell_type": "code",
   "execution_count": 167,
   "id": "9c40fdb8",
   "metadata": {},
   "outputs": [],
   "source": [
    "# export  to csv\n",
    "population_transport_mode_school_group_df.to_csv('../assets/data_clean/population_transport_mode_school_cleaned.csv', encoding='utf-8', index=False)\n",
    "\n",
    "# export as pickle file\n",
    "population_transport_mode_school_group_df.to_pickle('../assets/data_clean/population_transport_mode_school_cleaned.pkl')"
   ]
  },
  {
   "cell_type": "markdown",
   "id": "279bcde7",
   "metadata": {},
   "source": [
    "- Observed that the files are successfully exported."
   ]
  },
  {
   "cell_type": "markdown",
   "id": "5a6cecfd",
   "metadata": {},
   "source": [
    "## Population Transport Mode To Work\n",
    "- API retrieve data related to mode of transport to work for given planning area name and year.\n",
    "- Data is available for the year 2000, 2010, 2015, and 2020.\n",
    "- Data extracted is exported to csv file with the columns:\n",
    "\t1. planning_area\n",
    "\t2. bus\n",
    "\t3. mrt\n",
    "\t4. mrt_bus\n",
    "\t5. mrt_car\n",
    "\t6. mrt_other\n",
    "\t7. taxi\n",
    "\t8. car\n",
    "\t9. pvt_chartered_bus\n",
    "\t10. lorry_pickup\n",
    "\t11. motorcycle_scooter\n",
    "\t12. others\n",
    "\t13. no_transport_required\n",
    "\t14. other_combi_mrt_or_bus\n",
    "\t15. mrt_lrt_only\n",
    "\t16. mrt_lrt_and_bus\n",
    "\t17. other_combi_mrt_lrt_or_bus\n",
    "\t18. taxi_pvt_hire_car_only\n",
    "\t19. pvt_chartered_bus_van\n",
    "\t20. year"
   ]
  },
  {
   "cell_type": "code",
   "execution_count": 168,
   "id": "2d2a7c67",
   "metadata": {},
   "outputs": [
    {
     "name": "stdout",
     "output_type": "stream",
     "text": [
      "<class 'pandas.core.frame.DataFrame'>\n",
      "RangeIndex: 177 entries, 0 to 176\n",
      "Data columns (total 20 columns):\n",
      " #   Column                      Non-Null Count  Dtype \n",
      "---  ------                      --------------  ----- \n",
      " 0   planning_area               177 non-null    object\n",
      " 1   bus                         177 non-null    int64 \n",
      " 2   mrt                         177 non-null    int64 \n",
      " 3   mrt_bus                     177 non-null    int64 \n",
      " 4   mrt_car                     177 non-null    int64 \n",
      " 5   mrt_other                   177 non-null    int64 \n",
      " 6   taxi                        177 non-null    int64 \n",
      " 7   car                         177 non-null    int64 \n",
      " 8   pvt_chartered_bus           177 non-null    int64 \n",
      " 9   lorry_pickup                177 non-null    int64 \n",
      " 10  motorcycle_scooter          177 non-null    int64 \n",
      " 11  others                      177 non-null    int64 \n",
      " 12  no_transport_required       177 non-null    int64 \n",
      " 13  other_combi_mrt_or_bus      177 non-null    int64 \n",
      " 14  mrt_lrt_only                177 non-null    int64 \n",
      " 15  mrt_lrt_and_bus             177 non-null    int64 \n",
      " 16  other_combi_mrt_lrt_or_bus  177 non-null    int64 \n",
      " 17  taxi_pvt_hire_car_only      177 non-null    int64 \n",
      " 18  pvt_chartered_bus_van       177 non-null    int64 \n",
      " 19  year                        177 non-null    int64 \n",
      "dtypes: int64(19), object(1)\n",
      "memory usage: 27.8+ KB\n"
     ]
    }
   ],
   "source": [
    "# Read Dataset\n",
    "population_transport_mode_work_df = pd.read_csv('../assets/onemap/population_transport_mode_work.csv')\n",
    "\n",
    "# Dataset Info\n",
    "population_transport_mode_work_df.info()"
   ]
  },
  {
   "cell_type": "markdown",
   "id": "290fc182",
   "metadata": {},
   "source": [
    "- Observed that there are no missing values.\n",
    "- Next:\n",
    "    - Dataset will be averaged by planning_area.\n",
    "    - Year column will be dropped from dataset and exported as cleaned dataframe."
   ]
  },
  {
   "cell_type": "code",
   "execution_count": 169,
   "id": "18a7e43a",
   "metadata": {},
   "outputs": [
    {
     "name": "stdout",
     "output_type": "stream",
     "text": [
      "<class 'pandas.core.frame.DataFrame'>\n",
      "RangeIndex: 55 entries, 0 to 54\n",
      "Data columns (total 19 columns):\n",
      " #   Column                      Non-Null Count  Dtype  \n",
      "---  ------                      --------------  -----  \n",
      " 0   planning_area               55 non-null     object \n",
      " 1   bus                         55 non-null     float64\n",
      " 2   mrt                         55 non-null     float64\n",
      " 3   mrt_bus                     55 non-null     float64\n",
      " 4   mrt_car                     55 non-null     float64\n",
      " 5   mrt_other                   55 non-null     float64\n",
      " 6   taxi                        55 non-null     float64\n",
      " 7   car                         55 non-null     float64\n",
      " 8   pvt_chartered_bus           55 non-null     float64\n",
      " 9   lorry_pickup                55 non-null     float64\n",
      " 10  motorcycle_scooter          55 non-null     float64\n",
      " 11  others                      55 non-null     float64\n",
      " 12  no_transport_required       55 non-null     float64\n",
      " 13  other_combi_mrt_or_bus      55 non-null     float64\n",
      " 14  mrt_lrt_only                55 non-null     float64\n",
      " 15  mrt_lrt_and_bus             55 non-null     float64\n",
      " 16  other_combi_mrt_lrt_or_bus  55 non-null     float64\n",
      " 17  taxi_pvt_hire_car_only      55 non-null     float64\n",
      " 18  pvt_chartered_bus_van       55 non-null     float64\n",
      "dtypes: float64(18), object(1)\n",
      "memory usage: 8.3+ KB\n"
     ]
    }
   ],
   "source": [
    "# Group data by planning area and get the mean of the values.\n",
    "population_transport_mode_work_group_df = population_transport_mode_work_df.groupby('planning_area')[\n",
    "                                                                  ['bus'\n",
    "                                                                   ,'mrt'\n",
    "                                                                   ,'mrt_bus'\n",
    "                                                                   , 'mrt_car'\n",
    "                                                                   , 'mrt_other'\n",
    "                                                                   \n",
    "                                                                   , 'taxi' \n",
    "                                                                   , 'car' \n",
    "                                                                   , 'pvt_chartered_bus' \n",
    "                                                                   , 'lorry_pickup'                                                                   \n",
    "                                                                   , 'motorcycle_scooter' \n",
    "                                                                   \n",
    "                                                                   , 'others' \n",
    "                                                                   , 'no_transport_required' \n",
    "                                                                   , 'other_combi_mrt_or_bus' \n",
    "                                                                   , 'mrt_lrt_only'\n",
    "                                                                   , 'mrt_lrt_and_bus' \n",
    "                                                                   \n",
    "                                                                   , 'other_combi_mrt_lrt_or_bus' \n",
    "                                                                   , 'taxi_pvt_hire_car_only' \n",
    "                                                                   , 'pvt_chartered_bus_van' \n",
    "\n",
    "                                                                   ]].mean().reset_index()\n",
    "\n",
    "# view the information of the dataset.\n",
    "population_transport_mode_work_group_df.info()"
   ]
  },
  {
   "cell_type": "markdown",
   "id": "44219fa4",
   "metadata": {},
   "source": [
    "### Export Population Transport Mode To Work cleaned data"
   ]
  },
  {
   "cell_type": "code",
   "execution_count": 170,
   "id": "4504574c",
   "metadata": {},
   "outputs": [],
   "source": [
    "# export  to csv\n",
    "population_transport_mode_work_group_df.to_csv('../assets/data_clean/population_transport_mode_work_cleaned.csv', encoding='utf-8', index=False)\n",
    "\n",
    "# export as pickle file\n",
    "population_transport_mode_work_group_df.to_pickle('../assets/data_clean/population_transport_mode_work_cleaned.pkl')"
   ]
  },
  {
   "cell_type": "markdown",
   "id": "a4837539",
   "metadata": {},
   "source": [
    "- Observed that the files are successfully exported."
   ]
  },
  {
   "cell_type": "markdown",
   "id": "efc163f8",
   "metadata": {},
   "source": [
    "## Population Age Group\n",
    "- API retrieves data related to age group for given planning area name and year.\n",
    "- Data is available for the year 2000, 2010, 2015, and 2020.\n",
    "- Data extracted is exported to csv file with the columns:\n",
    "\t1. planning_area\n",
    "\t2. age_0_4\n",
    "\t3. age_5_9\n",
    "\t4. age_10_14\n",
    "\t5. age_15_19\n",
    "\t6. age_20_24\n",
    "\t7. age_25_29\n",
    "\t8. age_30_34\n",
    "\t9. age_35_39\n",
    "\t10. age_40_44\n",
    "\t11. age_45_49\n",
    "\t12. age_50_54\n",
    "\t13. age_55_59\n",
    "\t14. age_60_64\n",
    "\t15. age_65_69\n",
    "\t16. age_70_74\n",
    "\t17. age_75_79\n",
    "\t18. age_80_84\n",
    "\t19. age_85_over\n",
    "\t20. total\n",
    "\t21. gender\n",
    "\t22. year"
   ]
  },
  {
   "cell_type": "code",
   "execution_count": 175,
   "id": "18adb125",
   "metadata": {},
   "outputs": [
    {
     "name": "stdout",
     "output_type": "stream",
     "text": [
      "<class 'pandas.core.frame.DataFrame'>\n",
      "RangeIndex: 438 entries, 0 to 437\n",
      "Data columns (total 22 columns):\n",
      " #   Column         Non-Null Count  Dtype \n",
      "---  ------         --------------  ----- \n",
      " 0   planning_area  438 non-null    object\n",
      " 1   age_0_4        438 non-null    int64 \n",
      " 2   age_5_9        438 non-null    int64 \n",
      " 3   age_10_14      438 non-null    int64 \n",
      " 4   age_15_19      438 non-null    int64 \n",
      " 5   age_20_24      438 non-null    int64 \n",
      " 6   age_25_29      438 non-null    int64 \n",
      " 7   age_30_34      438 non-null    int64 \n",
      " 8   age_35_39      438 non-null    int64 \n",
      " 9   age_40_44      438 non-null    int64 \n",
      " 10  age_45_49      438 non-null    int64 \n",
      " 11  age_50_54      438 non-null    int64 \n",
      " 12  age_55_59      438 non-null    int64 \n",
      " 13  age_60_64      438 non-null    int64 \n",
      " 14  age_65_69      438 non-null    int64 \n",
      " 15  age_70_74      438 non-null    int64 \n",
      " 16  age_75_79      438 non-null    int64 \n",
      " 17  age_80_84      438 non-null    int64 \n",
      " 18  age_85_over    438 non-null    int64 \n",
      " 19  total          438 non-null    int64 \n",
      " 20  gender         438 non-null    object\n",
      " 21  year           438 non-null    int64 \n",
      "dtypes: int64(20), object(2)\n",
      "memory usage: 75.4+ KB\n"
     ]
    }
   ],
   "source": [
    "# Read Dataset\n",
    "population_age_group_df = pd.read_csv('../assets/onemap/population_age_group.csv')\n",
    "\n",
    "# Dataset Info\n",
    "population_age_group_df.info()"
   ]
  },
  {
   "cell_type": "markdown",
   "id": "7b5a54dd",
   "metadata": {},
   "source": [
    "- Observed that there are no missing values.\n",
    "- Next:\n",
    "    - Dataset will be averaged by planning_area.\n",
    "    - Year and Gender column will be dropped from dataset and exported as cleaned dataframe."
   ]
  },
  {
   "cell_type": "code",
   "execution_count": 176,
   "id": "f14de953",
   "metadata": {},
   "outputs": [
    {
     "name": "stdout",
     "output_type": "stream",
     "text": [
      "<class 'pandas.core.frame.DataFrame'>\n",
      "RangeIndex: 55 entries, 0 to 54\n",
      "Data columns (total 19 columns):\n",
      " #   Column         Non-Null Count  Dtype  \n",
      "---  ------         --------------  -----  \n",
      " 0   planning_area  55 non-null     object \n",
      " 1   age_0_4        55 non-null     float64\n",
      " 2   age_5_9        55 non-null     float64\n",
      " 3   age_10_14      55 non-null     float64\n",
      " 4   age_15_19      55 non-null     float64\n",
      " 5   age_20_24      55 non-null     float64\n",
      " 6   age_25_29      55 non-null     float64\n",
      " 7   age_30_34      55 non-null     float64\n",
      " 8   age_35_39      55 non-null     float64\n",
      " 9   age_40_44      55 non-null     float64\n",
      " 10  age_45_49      55 non-null     float64\n",
      " 11  age_50_54      55 non-null     float64\n",
      " 12  age_55_59      55 non-null     float64\n",
      " 13  age_60_64      55 non-null     float64\n",
      " 14  age_65_69      55 non-null     float64\n",
      " 15  age_70_74      55 non-null     float64\n",
      " 16  age_75_79      55 non-null     float64\n",
      " 17  age_80_84      55 non-null     float64\n",
      " 18  age_85_over    55 non-null     float64\n",
      "dtypes: float64(18), object(1)\n",
      "memory usage: 8.3+ KB\n"
     ]
    }
   ],
   "source": [
    "# Group data by planning area and get the mean of the values.\n",
    "population_age_group_grouped_df = population_age_group_df.groupby('planning_area')[\n",
    "                                                                  ['age_0_4'\n",
    "                                                                   ,'age_5_9'\n",
    "                                                                   ,'age_10_14'\n",
    "                                                                   , 'age_15_19'\n",
    "                                                                   , 'age_20_24'\n",
    "                                                                   \n",
    "                                                                   , 'age_25_29' \n",
    "                                                                   , 'age_30_34' \n",
    "                                                                   , 'age_35_39' \n",
    "                                                                   , 'age_40_44'                                                                   \n",
    "                                                                   , 'age_45_49' \n",
    "                                                                   \n",
    "                                                                   , 'age_50_54' \n",
    "                                                                   , 'age_55_59' \n",
    "                                                                   , 'age_60_64' \n",
    "                                                                   , 'age_65_69'\n",
    "                                                                   , 'age_70_74' \n",
    "                                                                   \n",
    "                                                                   , 'age_75_79' \n",
    "                                                                   , 'age_80_84' \n",
    "                                                                   , 'age_85_over' \n",
    "\n",
    "                                                                   ]].mean().reset_index()\n",
    "\n",
    "# view the information of the dataset.\n",
    "population_age_group_grouped_df.info()"
   ]
  },
  {
   "cell_type": "markdown",
   "id": "63613895",
   "metadata": {},
   "source": [
    "### Export Population Age Group cleaned data"
   ]
  },
  {
   "cell_type": "code",
   "execution_count": 177,
   "id": "946017a2",
   "metadata": {},
   "outputs": [],
   "source": [
    "# export  to csv\n",
    "population_age_group_grouped_df.to_csv('../assets/data_clean/population_age_group_cleaned.csv', encoding='utf-8', index=False)\n",
    "\n",
    "# export as pickle file\n",
    "population_age_group_grouped_df.to_pickle('../assets/data_clean/population_age_group_cleaned.pkl')"
   ]
  },
  {
   "cell_type": "markdown",
   "id": "027a610d",
   "metadata": {},
   "source": [
    "- Observed that the files are successfully exported."
   ]
  },
  {
   "cell_type": "markdown",
   "id": "decf01fe",
   "metadata": {},
   "source": [
    "## Population Religion\n",
    "\n",
    "- API retrieves data related to religion for given planning area name and year.\n",
    "- Data is available for the year 2000, 2010, 2015, and 2020.\n",
    "- Data extracted is exported to csv file with the columns:\n",
    "\t1. planning_area\n",
    "\t2. no_religion\n",
    "\t3. buddhism\n",
    "\t4. taoism\n",
    "\t5. islam\n",
    "\t6. hinduism\n",
    "\t7. sikhism\n",
    "\t8. catholic_christian\n",
    "\t9. other_christians\n",
    "\t10. other_religions\n",
    "\t11. year"
   ]
  },
  {
   "cell_type": "code",
   "execution_count": 174,
   "id": "56c24822",
   "metadata": {},
   "outputs": [
    {
     "name": "stdout",
     "output_type": "stream",
     "text": [
      "<class 'pandas.core.frame.DataFrame'>\n",
      "RangeIndex: 177 entries, 0 to 176\n",
      "Data columns (total 11 columns):\n",
      " #   Column              Non-Null Count  Dtype \n",
      "---  ------              --------------  ----- \n",
      " 0   planning_area       177 non-null    object\n",
      " 1   no_religion         177 non-null    int64 \n",
      " 2   buddhism            177 non-null    int64 \n",
      " 3   taoism              177 non-null    int64 \n",
      " 4   islam               177 non-null    int64 \n",
      " 5   hinduism            177 non-null    int64 \n",
      " 6   sikhism             177 non-null    int64 \n",
      " 7   catholic_christian  177 non-null    int64 \n",
      " 8   other_christians    177 non-null    int64 \n",
      " 9   other_religions     177 non-null    int64 \n",
      " 10  year                177 non-null    int64 \n",
      "dtypes: int64(10), object(1)\n",
      "memory usage: 15.3+ KB\n"
     ]
    }
   ],
   "source": [
    "# Read Dataset\n",
    "population_religion_df = pd.read_csv('../assets/onemap/population_religion.csv')\n",
    "\n",
    "# Dataset Info\n",
    "population_religion_df.info()"
   ]
  },
  {
   "cell_type": "markdown",
   "id": "fd925f43",
   "metadata": {},
   "source": [
    "- Observed that there are no missing values.\n",
    "- Next:\n",
    "    - Dataset will be averaged by planning_area.\n",
    "    - Year column will be dropped from dataset and exported as cleaned dataframe."
   ]
  },
  {
   "cell_type": "code",
   "execution_count": 178,
   "id": "489164c2",
   "metadata": {},
   "outputs": [
    {
     "name": "stdout",
     "output_type": "stream",
     "text": [
      "<class 'pandas.core.frame.DataFrame'>\n",
      "RangeIndex: 55 entries, 0 to 54\n",
      "Data columns (total 10 columns):\n",
      " #   Column              Non-Null Count  Dtype  \n",
      "---  ------              --------------  -----  \n",
      " 0   planning_area       55 non-null     object \n",
      " 1   no_religion         55 non-null     float64\n",
      " 2   buddhism            55 non-null     float64\n",
      " 3   taoism              55 non-null     float64\n",
      " 4   islam               55 non-null     float64\n",
      " 5   hinduism            55 non-null     float64\n",
      " 6   sikhism             55 non-null     float64\n",
      " 7   catholic_christian  55 non-null     float64\n",
      " 8   other_christians    55 non-null     float64\n",
      " 9   other_religions     55 non-null     float64\n",
      "dtypes: float64(9), object(1)\n",
      "memory usage: 4.4+ KB\n"
     ]
    }
   ],
   "source": [
    "# Group data by planning area and get the mean of the values.\n",
    "population_religion_group_df = population_religion_df.groupby('planning_area')[\n",
    "                                                                  ['no_religion'\n",
    "                                                                   ,'buddhism'\n",
    "                                                                   ,'taoism'\n",
    "                                                                   , 'islam'\n",
    "                                                                   , 'hinduism'\n",
    "                                                                   \n",
    "                                                                   , 'sikhism' \n",
    "                                                                   , 'catholic_christian' \n",
    "                                                                   , 'other_christians' \n",
    "                                                                   , 'other_religions'                                                                  \n",
    " \n",
    "                                                                   ]].mean().reset_index()\n",
    "\n",
    "# view the information of the dataset.\n",
    "population_religion_group_df.info()"
   ]
  },
  {
   "cell_type": "markdown",
   "id": "9ac0e4a8",
   "metadata": {},
   "source": [
    "### Export Population Religion cleaned data"
   ]
  },
  {
   "cell_type": "code",
   "execution_count": 179,
   "id": "212f903e",
   "metadata": {},
   "outputs": [],
   "source": [
    "# export  to csv\n",
    "population_religion_group_df.to_csv('../assets/data_clean/population_religion_cleaned.csv', encoding='utf-8', index=False)\n",
    "\n",
    "# export as pickle file\n",
    "population_religion_group_df.to_pickle('../assets/data_clean/population_religion_cleaned.pkl')"
   ]
  },
  {
   "cell_type": "markdown",
   "id": "6ee79d3d",
   "metadata": {},
   "source": [
    "- Observed that the files are successfully exported."
   ]
  },
  {
   "cell_type": "markdown",
   "id": "cc60db40",
   "metadata": {},
   "source": [
    "## Population Spoken Language\n",
    "- API retrieves data related to spoken language for given planning area name and year.\n",
    "- Data is available for the year 2000, 2010, 2015, and 2020.\n",
    "- Data extracted is exported to csv file with the columns:\n",
    "\t1. planning_area\n",
    "\t2. english\n",
    "\t3. mandarin\n",
    "\t4. chinese_dialects\n",
    "\t5. malay\n",
    "\t6. tamil\n",
    "\t7. other_indian_languages\n",
    "\t8. others\n",
    "\t9. eng_mand\n",
    "\t10. eng_chn_dlt\n",
    "\t11. eng_mly\n",
    "\t12. eng_oth_ind_lang\n",
    "\t13. eng_oth_lang\n",
    "\t14. mand_eng\n",
    "\t15. mand_chn_dlt\n",
    "\t16. mand_oth_lang\n",
    "\t17. chn_dlt_eng\n",
    "\t18. chn_dlt_mand\n",
    "\t19. chn_dlt_oth_lang\n",
    "\t20. mly_eng\n",
    "\t21. mly_oth_lang\n",
    "\t22. tml_eng\n",
    "\t23. tml_oth_lang\n",
    "\t24. oth_ind_lang_eng\n",
    "\t25. oth_ind_lang_oth_lang\n",
    "\t26. oth_lang_eng\n",
    "\t27. oth_lang_oth_non_eng_lang\n",
    "\t28. eng_tml\n",
    "\t29. year"
   ]
  },
  {
   "cell_type": "code",
   "execution_count": 180,
   "id": "24831779",
   "metadata": {},
   "outputs": [
    {
     "name": "stdout",
     "output_type": "stream",
     "text": [
      "<class 'pandas.core.frame.DataFrame'>\n",
      "RangeIndex: 177 entries, 0 to 176\n",
      "Data columns (total 29 columns):\n",
      " #   Column                     Non-Null Count  Dtype \n",
      "---  ------                     --------------  ----- \n",
      " 0   planning_area              177 non-null    object\n",
      " 1   english                    177 non-null    int64 \n",
      " 2   mandarin                   177 non-null    int64 \n",
      " 3   chinese_dialects           177 non-null    int64 \n",
      " 4   malay                      177 non-null    int64 \n",
      " 5   tamil                      177 non-null    int64 \n",
      " 6   other_indian_languages     177 non-null    int64 \n",
      " 7   others                     177 non-null    int64 \n",
      " 8   eng_mand                   177 non-null    int64 \n",
      " 9   eng_chn_dlt                177 non-null    int64 \n",
      " 10  eng_mly                    177 non-null    int64 \n",
      " 11  eng_oth_ind_lang           177 non-null    int64 \n",
      " 12  eng_oth_lang               177 non-null    int64 \n",
      " 13  mand_eng                   177 non-null    int64 \n",
      " 14  mand_chn_dlt               177 non-null    int64 \n",
      " 15  mand_oth_lang              177 non-null    int64 \n",
      " 16  chn_dlt_eng                177 non-null    int64 \n",
      " 17  chn_dlt_mand               177 non-null    int64 \n",
      " 18  chn_dlt_oth_lang           177 non-null    int64 \n",
      " 19  mly_eng                    177 non-null    int64 \n",
      " 20  mly_oth_lang               177 non-null    int64 \n",
      " 21  tml_eng                    177 non-null    int64 \n",
      " 22  tml_oth_lang               177 non-null    int64 \n",
      " 23  oth_ind_lang_eng           177 non-null    int64 \n",
      " 24  oth_ind_lang_oth_lang      177 non-null    int64 \n",
      " 25  oth_lang_eng               177 non-null    int64 \n",
      " 26  oth_lang_oth_non_eng_lang  177 non-null    int64 \n",
      " 27  eng_tml                    177 non-null    int64 \n",
      " 28  year                       177 non-null    int64 \n",
      "dtypes: int64(28), object(1)\n",
      "memory usage: 40.2+ KB\n"
     ]
    }
   ],
   "source": [
    "# Read Dataset\n",
    "population_spoken_language_df = pd.read_csv('../assets/onemap/population_spoken_language.csv')\n",
    "\n",
    "# Dataset Info\n",
    "population_spoken_language_df.info()"
   ]
  },
  {
   "cell_type": "markdown",
   "id": "32feb1d8",
   "metadata": {},
   "source": [
    "- Observed that there are no missing values.\n",
    "- Next:\n",
    "    - Dataset will be averaged by planning_area.\n",
    "    - Year column will be dropped from dataset and exported as cleaned dataframe."
   ]
  },
  {
   "cell_type": "code",
   "execution_count": 182,
   "id": "7521bf22",
   "metadata": {},
   "outputs": [
    {
     "name": "stdout",
     "output_type": "stream",
     "text": [
      "<class 'pandas.core.frame.DataFrame'>\n",
      "RangeIndex: 55 entries, 0 to 54\n",
      "Data columns (total 29 columns):\n",
      " #   Column                     Non-Null Count  Dtype  \n",
      "---  ------                     --------------  -----  \n",
      " 0   planning_area              55 non-null     object \n",
      " 1   english                    55 non-null     float64\n",
      " 2   mandarin                   55 non-null     float64\n",
      " 3   chinese_dialects           55 non-null     float64\n",
      " 4   malay                      55 non-null     float64\n",
      " 5   tamil                      55 non-null     float64\n",
      " 6   other_indian_languages     55 non-null     float64\n",
      " 7   others                     55 non-null     float64\n",
      " 8   eng_mand                   55 non-null     float64\n",
      " 9   eng_chn_dlt                55 non-null     float64\n",
      " 10  eng_mly                    55 non-null     float64\n",
      " 11  eng_oth_ind_lang           55 non-null     float64\n",
      " 12  eng_oth_lang               55 non-null     float64\n",
      " 13  mand_eng                   55 non-null     float64\n",
      " 14  mand_chn_dlt               55 non-null     float64\n",
      " 15  mand_oth_lang              55 non-null     float64\n",
      " 16  chn_dlt_eng                55 non-null     float64\n",
      " 17  chn_dlt_mand               55 non-null     float64\n",
      " 18  chn_dlt_oth_lang           55 non-null     float64\n",
      " 19  mly_eng                    55 non-null     float64\n",
      " 20  mly_oth_lang               55 non-null     float64\n",
      " 21  tml_eng                    55 non-null     float64\n",
      " 22  tml_oth_lang               55 non-null     float64\n",
      " 23  oth_ind_lang_eng           55 non-null     float64\n",
      " 24  oth_ind_lang_oth_lang      55 non-null     float64\n",
      " 25  oth_lang_eng               55 non-null     float64\n",
      " 26  oth_ind_lang_oth_lang      55 non-null     float64\n",
      " 27  oth_lang_oth_non_eng_lang  55 non-null     float64\n",
      " 28  eng_tml                    55 non-null     float64\n",
      "dtypes: float64(28), object(1)\n",
      "memory usage: 12.6+ KB\n"
     ]
    }
   ],
   "source": [
    "# Group data by planning area and get the mean of the values.\n",
    "population_spoken_language_group_df = population_spoken_language_df.groupby('planning_area')[\n",
    "                                                                  ['english'\n",
    "                                                                   ,'mandarin'\n",
    "                                                                   ,'chinese_dialects'\n",
    "                                                                   , 'malay'\n",
    "                                                                   , 'tamil'\n",
    "                                                                   \n",
    "                                                                   , 'other_indian_languages' \n",
    "                                                                   , 'others' \n",
    "                                                                   , 'eng_mand' \n",
    "                                                                   , 'eng_chn_dlt'\n",
    "                                                                   , 'eng_mly'\n",
    "                                                                   \n",
    "                                                                   , 'eng_oth_ind_lang' \n",
    "                                                                   , 'eng_oth_lang' \n",
    "                                                                   , 'mand_eng' \n",
    "                                                                   , 'mand_chn_dlt'\n",
    "                                                                   , 'mand_oth_lang'\n",
    "                                                                   \n",
    "                                                                   , 'chn_dlt_eng' \n",
    "                                                                   , 'chn_dlt_mand' \n",
    "                                                                   , 'chn_dlt_oth_lang' \n",
    "                                                                   , 'mly_eng'\n",
    "                                                                   , 'mly_oth_lang' \n",
    "                                                                   \n",
    "                                                                   , 'tml_eng' \n",
    "                                                                   , 'tml_oth_lang' \n",
    "                                                                   , 'oth_ind_lang_eng' \n",
    "                                                                   , 'oth_ind_lang_oth_lang'\n",
    "                                                                   , 'oth_lang_eng'                                                                     \n",
    "\n",
    "                                                                                                                                      , 'oth_ind_lang_oth_lang'\n",
    "                                                                   , 'oth_lang_oth_non_eng_lang'\n",
    "                                                                   , 'eng_tml'\n",
    "                                                            \n",
    "                                                                   \n",
    " \n",
    "                                                                   ]].mean().reset_index()\n",
    "\n",
    "# view the information of the dataset.\n",
    "population_spoken_language_group_df.info()"
   ]
  },
  {
   "cell_type": "markdown",
   "id": "689564a6",
   "metadata": {},
   "source": [
    "### Export Population Spoken Language cleaned data"
   ]
  },
  {
   "cell_type": "code",
   "execution_count": 183,
   "id": "18d5b682",
   "metadata": {},
   "outputs": [],
   "source": [
    "# export  to csv\n",
    "population_spoken_language_group_df.to_csv('../assets/data_clean/population_spoken_language_cleaned.csv', encoding='utf-8', index=False)\n",
    "\n",
    "# export as pickle file\n",
    "population_spoken_language_group_df.to_pickle('../assets/data_clean/population_spoken_language_cleaned.pkl')"
   ]
  },
  {
   "cell_type": "markdown",
   "id": "c4c1e841",
   "metadata": {},
   "source": [
    "- Observed that the files are successfully exported."
   ]
  },
  {
   "cell_type": "markdown",
   "id": "5105a288",
   "metadata": {},
   "source": [
    "## Population Tenancy\n",
    "\n",
    "- API retrieves data related to tenancy for the given planning area name and year.\n",
    "- Data is available for the year 2000, 2010, 2015, and 2020.\n",
    "- Data extracted is exported to csv file with the columns:\n",
    "\t1. planning_area\n",
    "\t2. owner\n",
    "\t3. tenant\n",
    "\t4. others\n",
    "\t5. year"
   ]
  },
  {
   "cell_type": "code",
   "execution_count": 184,
   "id": "6513d12a",
   "metadata": {},
   "outputs": [
    {
     "name": "stdout",
     "output_type": "stream",
     "text": [
      "<class 'pandas.core.frame.DataFrame'>\n",
      "RangeIndex: 177 entries, 0 to 176\n",
      "Data columns (total 5 columns):\n",
      " #   Column         Non-Null Count  Dtype \n",
      "---  ------         --------------  ----- \n",
      " 0   planning_area  177 non-null    object\n",
      " 1   owner          177 non-null    int64 \n",
      " 2   tenant         177 non-null    int64 \n",
      " 3   others         177 non-null    int64 \n",
      " 4   year           177 non-null    int64 \n",
      "dtypes: int64(4), object(1)\n",
      "memory usage: 7.0+ KB\n"
     ]
    }
   ],
   "source": [
    "# Read Dataset\n",
    "population_tenancy_df = pd.read_csv('../assets/onemap/population_tenancy.csv')\n",
    "\n",
    "# Dataset Info\n",
    "population_tenancy_df.info()"
   ]
  },
  {
   "cell_type": "markdown",
   "id": "a395f559",
   "metadata": {},
   "source": [
    "- Observed that there are no missing values.\n",
    "- Next:\n",
    "    - Dataset will be averaged by planning_area.\n",
    "    - Year column will be dropped from dataset and exported as cleaned dataframe."
   ]
  },
  {
   "cell_type": "code",
   "execution_count": 185,
   "id": "5a34fe70",
   "metadata": {},
   "outputs": [
    {
     "name": "stdout",
     "output_type": "stream",
     "text": [
      "<class 'pandas.core.frame.DataFrame'>\n",
      "RangeIndex: 55 entries, 0 to 54\n",
      "Data columns (total 4 columns):\n",
      " #   Column         Non-Null Count  Dtype  \n",
      "---  ------         --------------  -----  \n",
      " 0   planning_area  55 non-null     object \n",
      " 1   owner          55 non-null     float64\n",
      " 2   tenant         55 non-null     float64\n",
      " 3   others         55 non-null     float64\n",
      "dtypes: float64(3), object(1)\n",
      "memory usage: 1.8+ KB\n"
     ]
    }
   ],
   "source": [
    "# Group data by planning area and get the mean of the values.\n",
    "population_tenancy_group_df = population_tenancy_df.groupby('planning_area')[\n",
    "                                                                  ['owner'\n",
    "                                                                   ,'tenant'\n",
    "                                                                   ,'others'                                                                   \n",
    " \n",
    "                                                                   ]].mean().reset_index()\n",
    "\n",
    "# view the information of the dataset.\n",
    "population_tenancy_group_df.info()"
   ]
  },
  {
   "cell_type": "markdown",
   "id": "1075724c",
   "metadata": {},
   "source": [
    "### Export Population Tenancy cleaned data"
   ]
  },
  {
   "cell_type": "code",
   "execution_count": 186,
   "id": "d5d4e17d",
   "metadata": {},
   "outputs": [],
   "source": [
    "# export  to csv\n",
    "population_tenancy_group_df.to_csv('../assets/data_clean/population_tenancy_cleaned.csv', encoding='utf-8', index=False)\n",
    "\n",
    "# export as pickle file\n",
    "population_tenancy_group_df.to_pickle('../assets/data_clean/population_tenancy_cleaned.pkl')"
   ]
  },
  {
   "cell_type": "markdown",
   "id": "e8f87c32",
   "metadata": {},
   "source": [
    "- Observed that the files are successfully exported."
   ]
  },
  {
   "cell_type": "markdown",
   "id": "dd3d29a1",
   "metadata": {},
   "source": [
    "## Population Dwelling  Type Household Data\n",
    "- API retrieves data related to dwelling type household for given the planning area name and year.\n",
    "- Data is available for the year 2000, 2010, 2015, and 2020.\n",
    "- Data extracted is exported to csv file with the columns:\n",
    "\t1. planning_area\n",
    "\t2. hdb_1_and_2_room_flats\n",
    "\t3. hdb_3_room_flats\n",
    "\t4. hdb_4_room_flats\n",
    "\t5. hdb_5_room_and_executive_flats\n",
    "\t6. condominiums_and_other_apartments\n",
    "\t7. landed_properties\n",
    "\t8. others\n",
    "\t9. year\n",
    "\t10. total_hdb"
   ]
  },
  {
   "cell_type": "code",
   "execution_count": 187,
   "id": "12777c7d",
   "metadata": {},
   "outputs": [
    {
     "name": "stdout",
     "output_type": "stream",
     "text": [
      "<class 'pandas.core.frame.DataFrame'>\n",
      "RangeIndex: 150 entries, 0 to 149\n",
      "Data columns (total 10 columns):\n",
      " #   Column                             Non-Null Count  Dtype \n",
      "---  ------                             --------------  ----- \n",
      " 0   planning_area                      150 non-null    object\n",
      " 1   hdb_1_and_2_room_flats             150 non-null    int64 \n",
      " 2   hdb_3_room_flats                   150 non-null    int64 \n",
      " 3   hdb_4_room_flats                   150 non-null    int64 \n",
      " 4   hdb_5_room_and_executive_flats     150 non-null    int64 \n",
      " 5   condominiums_and_other_apartments  150 non-null    int64 \n",
      " 6   landed_properties                  150 non-null    int64 \n",
      " 7   others                             150 non-null    int64 \n",
      " 8   year                               150 non-null    int64 \n",
      " 9   total_hdb                          150 non-null    int64 \n",
      "dtypes: int64(9), object(1)\n",
      "memory usage: 11.8+ KB\n"
     ]
    }
   ],
   "source": [
    "# Read Dataset\n",
    "population_dwelling_type_household_df = pd.read_csv('../assets/onemap/population_dwelling_type_household.csv')\n",
    "\n",
    "# Dataset Info\n",
    "population_dwelling_type_household_df.info()"
   ]
  },
  {
   "cell_type": "markdown",
   "id": "9d001d14",
   "metadata": {},
   "source": [
    "- Observed that there are no missing values.\n",
    "- Next:\n",
    "    - Dataset will be averaged by planning_area.\n",
    "    - Year column will be dropped from dataset and exported as cleaned dataframe."
   ]
  },
  {
   "cell_type": "code",
   "execution_count": 188,
   "id": "9a6d8e51",
   "metadata": {},
   "outputs": [
    {
     "name": "stdout",
     "output_type": "stream",
     "text": [
      "<class 'pandas.core.frame.DataFrame'>\n",
      "RangeIndex: 55 entries, 0 to 54\n",
      "Data columns (total 9 columns):\n",
      " #   Column                             Non-Null Count  Dtype  \n",
      "---  ------                             --------------  -----  \n",
      " 0   planning_area                      55 non-null     object \n",
      " 1   hdb_1_and_2_room_flats             55 non-null     float64\n",
      " 2   hdb_3_room_flats                   55 non-null     float64\n",
      " 3   hdb_4_room_flats                   55 non-null     float64\n",
      " 4   hdb_5_room_and_executive_flats     55 non-null     float64\n",
      " 5   condominiums_and_other_apartments  55 non-null     float64\n",
      " 6   landed_properties                  55 non-null     float64\n",
      " 7   others                             55 non-null     float64\n",
      " 8   total_hdb                          55 non-null     float64\n",
      "dtypes: float64(8), object(1)\n",
      "memory usage: 4.0+ KB\n"
     ]
    }
   ],
   "source": [
    "# Group data by planning area and get the mean of the values.\n",
    "population_dwelling_type_household_group_df = population_dwelling_type_household_df.groupby('planning_area')[\n",
    "                                                                  ['hdb_1_and_2_room_flats'\n",
    "                                                                   ,'hdb_3_room_flats'\n",
    "                                                                   ,'hdb_4_room_flats'\n",
    "                                                                   , 'hdb_5_room_and_executive_flats'\n",
    "                                                                   , 'condominiums_and_other_apartments'\n",
    "                                                                   \n",
    "                                                                   , 'landed_properties' \n",
    "                                                                   , 'others' \n",
    "                                                                   , 'total_hdb' \n",
    "                                                                   \n",
    " \n",
    "                                                                   ]].mean().reset_index()\n",
    "\n",
    "# view the information of the dataset.\n",
    "population_dwelling_type_household_group_df.info()"
   ]
  },
  {
   "cell_type": "markdown",
   "id": "f72eba39",
   "metadata": {},
   "source": [
    "### Export Population Dwelling Type Household cleaned data"
   ]
  },
  {
   "cell_type": "code",
   "execution_count": 189,
   "id": "11558589",
   "metadata": {},
   "outputs": [],
   "source": [
    "# export  to csv\n",
    "population_dwelling_type_household_group_df.to_csv('../assets/data_clean/population_dwelling_type_household_cleaned.csv', encoding='utf-8', index=False)\n",
    "\n",
    "# export as pickle file\n",
    "population_dwelling_type_household_group_df.to_pickle('../assets/data_clean/population_dwelling_type_household_cleaned.pkl')"
   ]
  },
  {
   "cell_type": "markdown",
   "id": "9fa01644",
   "metadata": {},
   "source": [
    "- Observed that the files are successfully exported."
   ]
  },
  {
   "cell_type": "markdown",
   "id": "c9bc0385",
   "metadata": {},
   "source": [
    "## Population Dwelling  Type Population data\n",
    "- API retrieves data related to dwelling type population for given the planning area name and year.\n",
    "- Data is available for the year 2000, 2010, 2015, and 2020.\n",
    "- Data extracted is exported to csv file with the columns:\n",
    "\t1. planning_area\n",
    "\t2. year\n",
    "\t3. hdb_1_and_2_room_flats\n",
    "\t4. hdb_3_room_flats\n",
    "\t5 hdb_4_room_flats\n",
    "\t6. hdb_5_room_and_executive_flats\n",
    "\t7. condominiums_and_other_apartments\n",
    "\t8. landed_properties\n",
    "\t9. others\n",
    "\t10. total_hdb\n",
    "\t11. total"
   ]
  },
  {
   "cell_type": "code",
   "execution_count": 190,
   "id": "b997a1e7",
   "metadata": {},
   "outputs": [
    {
     "name": "stdout",
     "output_type": "stream",
     "text": [
      "<class 'pandas.core.frame.DataFrame'>\n",
      "RangeIndex: 219 entries, 0 to 218\n",
      "Data columns (total 11 columns):\n",
      " #   Column                             Non-Null Count  Dtype \n",
      "---  ------                             --------------  ----- \n",
      " 0   planning_area                      219 non-null    object\n",
      " 1   year                               219 non-null    int64 \n",
      " 2   hdb_1_and_2_room_flats             219 non-null    int64 \n",
      " 3   hdb_3_room_flats                   219 non-null    int64 \n",
      " 4   hdb_4_room_flats                   219 non-null    int64 \n",
      " 5   hdb_5_room_and_executive_flats     219 non-null    int64 \n",
      " 6   condominiums_and_other_apartments  219 non-null    int64 \n",
      " 7   landed_properties                  219 non-null    int64 \n",
      " 8   others                             219 non-null    int64 \n",
      " 9   total_hdb                          219 non-null    int64 \n",
      " 10  total                              219 non-null    int64 \n",
      "dtypes: int64(10), object(1)\n",
      "memory usage: 18.9+ KB\n"
     ]
    }
   ],
   "source": [
    "# Read Dataset\n",
    "population_dwelling_type_population_df = pd.read_csv('../assets/onemap/population_dwelling_type_population.csv')\n",
    "\n",
    "# Dataset Info\n",
    "population_dwelling_type_population_df.info()"
   ]
  },
  {
   "cell_type": "markdown",
   "id": "5cced738",
   "metadata": {},
   "source": [
    "- Observed that there are no missing values.\n",
    "- Next:\n",
    "    - Dataset will be averaged by planning_area.\n",
    "    - Year column will be dropped from dataset and exported as cleaned dataframe."
   ]
  },
  {
   "cell_type": "code",
   "execution_count": 191,
   "id": "dbeb167a",
   "metadata": {},
   "outputs": [
    {
     "name": "stdout",
     "output_type": "stream",
     "text": [
      "<class 'pandas.core.frame.DataFrame'>\n",
      "RangeIndex: 55 entries, 0 to 54\n",
      "Data columns (total 10 columns):\n",
      " #   Column                             Non-Null Count  Dtype  \n",
      "---  ------                             --------------  -----  \n",
      " 0   planning_area                      55 non-null     object \n",
      " 1   hdb_1_and_2_room_flats             55 non-null     float64\n",
      " 2   hdb_3_room_flats                   55 non-null     float64\n",
      " 3   hdb_4_room_flats                   55 non-null     float64\n",
      " 4   hdb_5_room_and_executive_flats     55 non-null     float64\n",
      " 5   condominiums_and_other_apartments  55 non-null     float64\n",
      " 6   landed_properties                  55 non-null     float64\n",
      " 7   others                             55 non-null     float64\n",
      " 8   total_hdb                          55 non-null     float64\n",
      " 9   total                              55 non-null     float64\n",
      "dtypes: float64(9), object(1)\n",
      "memory usage: 4.4+ KB\n"
     ]
    }
   ],
   "source": [
    "# Group data by planning area and get the mean of the values.\n",
    "population_dwelling_type_population_group_df = population_dwelling_type_population_df.groupby('planning_area')[\n",
    "                                                                  ['hdb_1_and_2_room_flats'\n",
    "                                                                   ,'hdb_3_room_flats'\n",
    "                                                                   ,'hdb_4_room_flats'\n",
    "                                                                   , 'hdb_5_room_and_executive_flats'\n",
    "                                                                   , 'condominiums_and_other_apartments'\n",
    "                                                                   \n",
    "                                                                   , 'landed_properties' \n",
    "                                                                   , 'others' \n",
    "                                                                   , 'total_hdb'\n",
    "                                                                   , 'total'\n",
    "                                                                   \n",
    " \n",
    "                                                                   ]].mean().reset_index()\n",
    "\n",
    "# view the information of the dataset.\n",
    "population_dwelling_type_population_group_df.info()"
   ]
  },
  {
   "cell_type": "markdown",
   "id": "29e6d913",
   "metadata": {},
   "source": [
    "### Export Population Dwelling Type Population cleaned data¶"
   ]
  },
  {
   "cell_type": "code",
   "execution_count": 192,
   "id": "c3d9913a",
   "metadata": {},
   "outputs": [],
   "source": [
    "# export  to csv\n",
    "population_dwelling_type_population_group_df.to_csv('../assets/data_clean/population_dwelling_type_population_cleaned.csv', encoding='utf-8', index=False)\n",
    "\n",
    "# export as pickle file\n",
    "population_dwelling_type_population_group_df.to_pickle('../assets/data_clean/population_dwelling_type_population_cleaned.pkl')"
   ]
  },
  {
   "cell_type": "markdown",
   "id": "9dd12c93",
   "metadata": {},
   "source": [
    "- Observed that the files are successfully exported."
   ]
  }
 ],
 "metadata": {
  "kernelspec": {
   "display_name": "Python 3 (ipykernel)",
   "language": "python",
   "name": "python3"
  },
  "language_info": {
   "codemirror_mode": {
    "name": "ipython",
    "version": 3
   },
   "file_extension": ".py",
   "mimetype": "text/x-python",
   "name": "python",
   "nbconvert_exporter": "python",
   "pygments_lexer": "ipython3",
   "version": "3.9.12"
  }
 },
 "nbformat": 4,
 "nbformat_minor": 5
}
