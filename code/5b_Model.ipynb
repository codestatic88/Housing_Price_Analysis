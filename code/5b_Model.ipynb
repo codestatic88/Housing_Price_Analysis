{
 "cells": [
  {
   "cell_type": "markdown",
   "id": "176152dc",
   "metadata": {},
   "source": [
    "# Import Libraries"
   ]
  },
  {
   "cell_type": "code",
   "execution_count": 77,
   "id": "3201d49a",
   "metadata": {},
   "outputs": [],
   "source": [
    "# Import in Libraries\n",
    "import pandas as pd\n",
    "from sklearn.model_selection import train_test_split, cross_val_score\n",
    "from sklearn.linear_model import LinearRegression, Lasso, Ridge\n",
    "from sklearn.metrics import mean_squared_error, r2_score \n",
    "from sklearn.preprocessing import StandardScaler\n",
    "from sklearn.model_selection import GridSearchCV\n",
    "from sklearn.pipeline import Pipeline\n",
    "\n",
    "import matplotlib.pyplot as plt\n",
    "\n",
    "\n",
    "pd.set_option('display.max_columns', None)"
   ]
  },
  {
   "cell_type": "markdown",
   "id": "58620276",
   "metadata": {},
   "source": [
    "# Load Dataset"
   ]
  },
  {
   "cell_type": "code",
   "execution_count": 81,
   "id": "31fb466e",
   "metadata": {},
   "outputs": [],
   "source": [
    "# Load in dataset before encoding\n",
    "# Load in Dataset\n",
    "combined_resale_encode_df = pd.read_pickle('../assets/data_clean/resale_combine_encode_clean.pkl')"
   ]
  },
  {
   "cell_type": "code",
   "execution_count": 82,
   "id": "76da326c",
   "metadata": {},
   "outputs": [
    {
     "name": "stdout",
     "output_type": "stream",
     "text": [
      "<class 'pandas.core.frame.DataFrame'>\n",
      "RangeIndex: 903393 entries, 0 to 903392\n",
      "Data columns (total 354 columns):\n",
      " #    Column                                 Dtype  \n",
      "---   ------                                 -----  \n",
      " 0    floor_area_sqm                         float64\n",
      " 1    lease_commence_date                    int64  \n",
      " 2    resale_price                           float64\n",
      " 3    remaining_lease                        int64  \n",
      " 4    longitude                              float64\n",
      " 5    latitude                               float64\n",
      " 6    month                                  int64  \n",
      " 7    year                                   int64  \n",
      " 8    P1_employed                            float64\n",
      " 9    P1_unemployed                          float64\n",
      " 10   P1_inactive                            float64\n",
      " 11   P2_pre_primary                         float64\n",
      " 12   P2_primary                             float64\n",
      " 13   P2_secondary                           float64\n",
      " 14   P2_post_secondary                      float64\n",
      " 15   P2_polytechnic                         float64\n",
      " 16   P2_prof_qualification_diploma          float64\n",
      " 17   P2_university                          float64\n",
      " 18   P3_chinese                             float64\n",
      " 19   P3_malays                              float64\n",
      " 20   P3_indian                              float64\n",
      " 21   P3_others                              float64\n",
      " 22   P4_total                               float64\n",
      " 23   P4_below_sgd_1000                      float64\n",
      " 24   P4_no_working_person                   float64\n",
      " 25   P4_sgd_10000_over                      float64\n",
      " 26   P4_sgd_10000_to_10999                  float64\n",
      " 27   P4_sgd_11000_to_11999                  float64\n",
      " 28   P4_sgd_1000_to_1999                    float64\n",
      " 29   P4_sgd_12000_to_12999                  float64\n",
      " 30   P4_sgd_13000_to_13999                  float64\n",
      " 31   P4_sgd_14000_to_14999                  float64\n",
      " 32   P4_sgd_15000_to_17499                  float64\n",
      " 33   P4_sgd_17500_to_19999                  float64\n",
      " 34   P4_sgd_20000_over                      float64\n",
      " 35   P4_sgd_2000_to_2999                    float64\n",
      " 36   P4_sgd_3000_to_3999                    float64\n",
      " 37   P4_sgd_4000_to_4999                    float64\n",
      " 38   P4_sgd_5000_to_5999                    float64\n",
      " 39   P4_sgd_6000_to_6999                    float64\n",
      " 40   P4_sgd_7000_to_7999                    float64\n",
      " 41   P4_sgd_8000_over                       float64\n",
      " 42   P4_sgd_8000_to_8999                    float64\n",
      " 43   P4_sgd_9000_to_9999                    float64\n",
      " 44   P5_no_family_nucleus                   float64\n",
      " 45   P5_ofn_1_gen                           float64\n",
      " 46   P5_ofn_2_gen                           float64\n",
      " 47   P5_ofn_3_more_gen                      float64\n",
      " 48   P5_tfn_1to2_gen                        float64\n",
      " 49   P5_tfn_3_more_gen                      float64\n",
      " 50   P5_three_more_fam_nucleus              float64\n",
      " 51   P6_total                               float64\n",
      " 52   P6_below_sgd_1000                      float64\n",
      " 53   P6_sgd_10000_to_10999                  float64\n",
      " 54   P6_sgd_11000_to_11999                  float64\n",
      " 55   P6_sgd_12000_over                      float64\n",
      " 56   P6_sgd_1000_to_1499                    float64\n",
      " 57   P6_sgd_1000_to_1999                    float64\n",
      " 58   P6_sgd_2000_to_2499                    float64\n",
      " 59   P6_sgd_2500_to_2999                    float64\n",
      " 60   P6_sgd_3000_to_3999                    float64\n",
      " 61   P6_sgd_4000_to_4999                    float64\n",
      " 62   P6_sgd_5000_to_5999                    float64\n",
      " 63   P6_sgd_6000_over                       float64\n",
      " 64   P6_sgd_6000_to_6999                    float64\n",
      " 65   P6_sgd_7000_to_7999                    float64\n",
      " 66   P6_sgd_8000_over                       float64\n",
      " 67   P6_sgd_8000_to_8999                    float64\n",
      " 68   P6_sgd_9000_to_9999                    float64\n",
      " 69   P6_sgd_1000_to_1999.1                  float64\n",
      " 70   P6_sgd_2000_to_2999                    float64\n",
      " 71   P6_sgd_12000_14999                     float64\n",
      " 72   P6_sgd_15000_over                      float64\n",
      " 73   P7_manufacturing                       float64\n",
      " 74   P7_construction                        float64\n",
      " 75   P7_wholesale_retail_trade              float64\n",
      " 76   P7_transportation_storage              float64\n",
      " 77   P7_accommodation_food_services         float64\n",
      " 78   P7_information_communications          float64\n",
      " 79   P7_financial_insurance_services        float64\n",
      " 80   P7_real_estate_services                float64\n",
      " 81   P7_professional_services               float64\n",
      " 82   P7_admin_support_services              float64\n",
      " 83   P7_public_admin_education              float64\n",
      " 84   P7_health_social_services              float64\n",
      " 85   P7_arts_entertainment_recreation       float64\n",
      " 86   P7_other_comm_social_personal          float64\n",
      " 87   P7_others                              float64\n",
      " 88   P7_hotels_restaurants                  float64\n",
      " 89   P7_transport_communications            float64\n",
      " 90   P7_business_services                   float64\n",
      " 91   P7_other_services_industries           float64\n",
      " 92   P8_no_literate                         float64\n",
      " 93   P8_l1_chi                              float64\n",
      " 94   P8_l1_eng                              float64\n",
      " 95   P8_l1_mal                              float64\n",
      " 96   P8_l1_tam                              float64\n",
      " 97   P8_l1_non_off                          float64\n",
      " 98   P8_l2_eng_chi                          float64\n",
      " 99   P8_l2_eng_mal                          float64\n",
      " 100  P8_l2_eng_tam                          float64\n",
      " 101  P8_l2_other_two                        float64\n",
      " 102  P8_l3_eng_chi_mal                      float64\n",
      " 103  P8_l3_eng_mal_tam                      float64\n",
      " 104  P8_l3_other_three                      float64\n",
      " 105  P8_l2_eng_non_off                      float64\n",
      " 106  P9_no_literate                         float64\n",
      " 107  P9_l1_chi                              float64\n",
      " 108  P9_l1_eng                              float64\n",
      " 109  P9_l1_mal                              float64\n",
      " 110  P9_l1_tam                              float64\n",
      " 111  P9_l1_non_off                          float64\n",
      " 112  P9_l2_eng_chi                          float64\n",
      " 113  P9_l2_eng_mal                          float64\n",
      " 114  P9_l2_eng_tam                          float64\n",
      " 115  P9_l2_other_two                        float64\n",
      " 116  P9_l3_eng_chi_mal                      float64\n",
      " 117  P9_l3_eng_mal_tam                      float64\n",
      " 118  P9_l3_other_three                      float64\n",
      " 119  P9_l2_eng_non_off                      float64\n",
      " 120  P10_bus                                float64\n",
      " 121  P10_mrt                                float64\n",
      " 122  P10_mrt_bus                            float64\n",
      " 123  P10_mrt_car                            float64\n",
      " 124  P10_mrt_other                          float64\n",
      " 125  P10_taxi                               float64\n",
      " 126  P10_car                                float64\n",
      " 127  P10_pvt_chartered_bus                  float64\n",
      " 128  P10_lorry_pickup                       float64\n",
      " 129  P10_motorcycle_scooter                 float64\n",
      " 130  P10_others                             float64\n",
      " 131  P10_no_transport_required              float64\n",
      " 132  P10_other_combi_mrt_or_bus             float64\n",
      " 133  P10_mrt_lrt_only                       float64\n",
      " 134  P10_mrt_lrt_and_bus                    float64\n",
      " 135  P10_other_combi_mrt_lrt_or_bus         float64\n",
      " 136  P10_taxi_pvt_hire_car_only             float64\n",
      " 137  P10_pvt_chartered_bus_van              float64\n",
      " 138  P11_bus                                float64\n",
      " 139  P11_mrt                                float64\n",
      " 140  P11_mrt_bus                            float64\n",
      " 141  P11_mrt_car                            float64\n",
      " 142  P11_mrt_other                          float64\n",
      " 143  P11_taxi                               float64\n",
      " 144  P11_car                                float64\n",
      " 145  P11_pvt_chartered_bus                  float64\n",
      " 146  P11_lorry_pickup                       float64\n",
      " 147  P11_motorcycle_scooter                 float64\n",
      " 148  P11_others                             float64\n",
      " 149  P11_no_transport_required              float64\n",
      " 150  P11_other_combi_mrt_or_bus             float64\n",
      " 151  P11_mrt_lrt_only                       float64\n",
      " 152  P11_mrt_lrt_and_bus                    float64\n",
      " 153  P11_other_combi_mrt_lrt_or_bus         float64\n",
      " 154  P11_taxi_pvt_hire_car_only             float64\n",
      " 155  P11_pvt_chartered_bus_van              float64\n",
      " 156  P12_age_0_4                            float64\n",
      " 157  P12_age_5_9                            float64\n",
      " 158  P12_age_10_14                          float64\n",
      " 159  P12_age_15_19                          float64\n",
      " 160  P12_age_20_24                          float64\n",
      " 161  P12_age_25_29                          float64\n",
      " 162  P12_age_30_34                          float64\n",
      " 163  P12_age_35_39                          float64\n",
      " 164  P12_age_40_44                          float64\n",
      " 165  P12_age_45_49                          float64\n",
      " 166  P12_age_50_54                          float64\n",
      " 167  P12_age_55_59                          float64\n",
      " 168  P12_age_60_64                          float64\n",
      " 169  P12_age_65_69                          float64\n",
      " 170  P12_age_70_74                          float64\n",
      " 171  P12_age_75_79                          float64\n",
      " 172  P12_age_80_84                          float64\n",
      " 173  P12_age_85_over                        float64\n",
      " 174  P13_no_religion                        float64\n",
      " 175  P13_buddhism                           float64\n",
      " 176  P13_taoism                             float64\n",
      " 177  P13_islam                              float64\n",
      " 178  P13_hinduism                           float64\n",
      " 179  P13_sikhism                            float64\n",
      " 180  P13_catholic_christian                 float64\n",
      " 181  P13_other_christians                   float64\n",
      " 182  P13_other_religions                    float64\n",
      " 183  P14_english                            float64\n",
      " 184  P14_mandarin                           float64\n",
      " 185  P14_chinese_dialects                   float64\n",
      " 186  P14_malay                              float64\n",
      " 187  P14_tamil                              float64\n",
      " 188  P14_other_indian_languages             float64\n",
      " 189  P14_others                             float64\n",
      " 190  P14_eng_mand                           float64\n",
      " 191  P14_eng_chn_dlt                        float64\n",
      " 192  P14_eng_mly                            float64\n",
      " 193  P14_eng_oth_ind_lang                   float64\n",
      " 194  P14_eng_oth_lang                       float64\n",
      " 195  P14_mand_eng                           float64\n",
      " 196  P14_mand_chn_dlt                       float64\n",
      " 197  P14_mand_oth_lang                      float64\n",
      " 198  P14_chn_dlt_eng                        float64\n",
      " 199  P14_chn_dlt_mand                       float64\n",
      " 200  P14_chn_dlt_oth_lang                   float64\n",
      " 201  P14_mly_eng                            float64\n",
      " 202  P14_mly_oth_lang                       float64\n",
      " 203  P14_tml_eng                            float64\n",
      " 204  P14_tml_oth_lang                       float64\n",
      " 205  P14_oth_ind_lang_eng                   float64\n",
      " 206  P14_oth_ind_lang_oth_lang              float64\n",
      " 207  P14_oth_lang_eng                       float64\n",
      " 208  P14_oth_ind_lang_oth_lang.1            float64\n",
      " 209  P14_oth_lang_oth_non_eng_lang          float64\n",
      " 210  P14_eng_tml                            float64\n",
      " 211  P15_owner                              float64\n",
      " 212  P15_tenant                             float64\n",
      " 213  P15_others                             float64\n",
      " 214  P16_hdb_1_and_2_room_flats             float64\n",
      " 215  P16_hdb_3_room_flats                   float64\n",
      " 216  P16_hdb_4_room_flats                   float64\n",
      " 217  P16_hdb_5_room_and_executive_flats     float64\n",
      " 218  P16_condominiums_and_other_apartments  float64\n",
      " 219  P16_landed_properties                  float64\n",
      " 220  P16_others                             float64\n",
      " 221  P16_total_hdb                          float64\n",
      " 222  P17_hdb_1_and_2_room_flats             float64\n",
      " 223  P17_hdb_3_room_flats                   float64\n",
      " 224  P17_hdb_4_room_flats                   float64\n",
      " 225  P17_hdb_5_room_and_executive_flats     float64\n",
      " 226  P17_condominiums_and_other_apartments  float64\n",
      " 227  P17_landed_properties                  float64\n",
      " 228  P17_others                             float64\n",
      " 229  P17_total_hdb                          float64\n",
      " 230  P17_total                              float64\n",
      " 231  town_BEDOK                             uint8  \n",
      " 232  town_BISHAN                            uint8  \n",
      " 233  town_BUKIT BATOK                       uint8  \n",
      " 234  town_BUKIT MERAH                       uint8  \n",
      " 235  town_BUKIT PANJANG                     uint8  \n",
      " 236  town_BUKIT TIMAH                       uint8  \n",
      " 237  town_CENTRAL AREA                      uint8  \n",
      " 238  town_CHOA CHU KANG                     uint8  \n",
      " 239  town_CLEMENTI                          uint8  \n",
      " 240  town_GEYLANG                           uint8  \n",
      " 241  town_HOUGANG                           uint8  \n",
      " 242  town_JURONG EAST                       uint8  \n",
      " 243  town_JURONG WEST                       uint8  \n",
      " 244  town_KALLANG/WHAMPOA                   uint8  \n",
      " 245  town_LIM CHU KANG                      uint8  \n",
      " 246  town_MARINE PARADE                     uint8  \n",
      " 247  town_PASIR RIS                         uint8  \n",
      " 248  town_PUNGGOL                           uint8  \n",
      " 249  town_QUEENSTOWN                        uint8  \n",
      " 250  town_SEMBAWANG                         uint8  \n",
      " 251  town_SENGKANG                          uint8  \n",
      " 252  town_SERANGOON                         uint8  \n",
      " 253  town_TAMPINES                          uint8  \n",
      " 254  town_TOA PAYOH                         uint8  \n",
      " 255  town_WOODLANDS                         uint8  \n",
      " 256  town_YISHUN                            uint8  \n",
      " 257  flat_type_2 ROOM                       uint8  \n",
      " 258  flat_type_3 ROOM                       uint8  \n",
      " 259  flat_type_4 ROOM                       uint8  \n",
      " 260  flat_type_5 ROOM                       uint8  \n",
      " 261  flat_type_EXECUTIVE                    uint8  \n",
      " 262  flat_type_MULTI GENERATION             uint8  \n",
      " 263  flat_type_MULTI-GENERATION             uint8  \n",
      " 264  storey_range_01 TO 05                  uint8  \n",
      " 265  storey_range_04 TO 06                  uint8  \n",
      " 266  storey_range_06 TO 10                  uint8  \n",
      " 267  storey_range_07 TO 09                  uint8  \n",
      " 268  storey_range_10 TO 12                  uint8  \n",
      " 269  storey_range_11 TO 15                  uint8  \n",
      " 270  storey_range_13 TO 15                  uint8  \n",
      " 271  storey_range_16 TO 18                  uint8  \n",
      " 272  storey_range_16 TO 20                  uint8  \n",
      " 273  storey_range_19 TO 21                  uint8  \n",
      " 274  storey_range_21 TO 25                  uint8  \n",
      " 275  storey_range_22 TO 24                  uint8  \n",
      " 276  storey_range_25 TO 27                  uint8  \n",
      " 277  storey_range_26 TO 30                  uint8  \n",
      " 278  storey_range_28 TO 30                  uint8  \n",
      " 279  storey_range_31 TO 33                  uint8  \n",
      " 280  storey_range_31 TO 35                  uint8  \n",
      " 281  storey_range_34 TO 36                  uint8  \n",
      " 282  storey_range_36 TO 40                  uint8  \n",
      " 283  storey_range_37 TO 39                  uint8  \n",
      " 284  storey_range_40 TO 42                  uint8  \n",
      " 285  storey_range_43 TO 45                  uint8  \n",
      " 286  storey_range_46 TO 48                  uint8  \n",
      " 287  storey_range_49 TO 51                  uint8  \n",
      " 288  flat_model_2-room                      uint8  \n",
      " 289  flat_model_3Gen                        uint8  \n",
      " 290  flat_model_APARTMENT                   uint8  \n",
      " 291  flat_model_Adjoined flat               uint8  \n",
      " 292  flat_model_Apartment                   uint8  \n",
      " 293  flat_model_DBSS                        uint8  \n",
      " 294  flat_model_IMPROVED                    uint8  \n",
      " 295  flat_model_IMPROVED-MAISONETTE         uint8  \n",
      " 296  flat_model_Improved                    uint8  \n",
      " 297  flat_model_Improved-Maisonette         uint8  \n",
      " 298  flat_model_MAISONETTE                  uint8  \n",
      " 299  flat_model_MODEL A                     uint8  \n",
      " 300  flat_model_MODEL A-MAISONETTE          uint8  \n",
      " 301  flat_model_MULTI GENERATION            uint8  \n",
      " 302  flat_model_Maisonette                  uint8  \n",
      " 303  flat_model_Model A                     uint8  \n",
      " 304  flat_model_Model A-Maisonette          uint8  \n",
      " 305  flat_model_Model A2                    uint8  \n",
      " 306  flat_model_Multi Generation            uint8  \n",
      " 307  flat_model_NEW GENERATION              uint8  \n",
      " 308  flat_model_New Generation              uint8  \n",
      " 309  flat_model_PREMIUM APARTMENT           uint8  \n",
      " 310  flat_model_Premium Apartment           uint8  \n",
      " 311  flat_model_Premium Apartment Loft      uint8  \n",
      " 312  flat_model_Premium Maisonette          uint8  \n",
      " 313  flat_model_SIMPLIFIED                  uint8  \n",
      " 314  flat_model_STANDARD                    uint8  \n",
      " 315  flat_model_Simplified                  uint8  \n",
      " 316  flat_model_Standard                    uint8  \n",
      " 317  flat_model_TERRACE                     uint8  \n",
      " 318  flat_model_Terrace                     uint8  \n",
      " 319  flat_model_Type S1                     uint8  \n",
      " 320  flat_model_Type S2                     uint8  \n",
      " 321  planning_area_BEDOK                    uint8  \n",
      " 322  planning_area_BISHAN                   uint8  \n",
      " 323  planning_area_BUKIT BATOK              uint8  \n",
      " 324  planning_area_BUKIT MERAH              uint8  \n",
      " 325  planning_area_BUKIT PANJANG            uint8  \n",
      " 326  planning_area_BUKIT TIMAH              uint8  \n",
      " 327  planning_area_CHANGI                   uint8  \n",
      " 328  planning_area_CHOA CHU KANG            uint8  \n",
      " 329  planning_area_CLEMENTI                 uint8  \n",
      " 330  planning_area_DOWNTOWN CORE            uint8  \n",
      " 331  planning_area_GEYLANG                  uint8  \n",
      " 332  planning_area_HOUGANG                  uint8  \n",
      " 333  planning_area_JURONG EAST              uint8  \n",
      " 334  planning_area_JURONG WEST              uint8  \n",
      " 335  planning_area_KALLANG                  uint8  \n",
      " 336  planning_area_LIM CHU KANG             uint8  \n",
      " 337  planning_area_MARINE PARADE            uint8  \n",
      " 338  planning_area_NOVENA                   uint8  \n",
      " 339  planning_area_OUTRAM                   uint8  \n",
      " 340  planning_area_PASIR RIS                uint8  \n",
      " 341  planning_area_PUNGGOL                  uint8  \n",
      " 342  planning_area_QUEENSTOWN               uint8  \n",
      " 343  planning_area_ROCHOR                   uint8  \n",
      " 344  planning_area_SEMBAWANG                uint8  \n",
      " 345  planning_area_SENGKANG                 uint8  \n",
      " 346  planning_area_SERANGOON                uint8  \n",
      " 347  planning_area_SUNGEI KADUT             uint8  \n",
      " 348  planning_area_TAMPINES                 uint8  \n",
      " 349  planning_area_TANGLIN                  uint8  \n",
      " 350  planning_area_TOA PAYOH                uint8  \n",
      " 351  planning_area_TUAS                     uint8  \n",
      " 352  planning_area_WOODLANDS                uint8  \n",
      " 353  planning_area_YISHUN                   uint8  \n",
      "dtypes: float64(227), int64(4), uint8(123)\n",
      "memory usage: 1.7 GB\n"
     ]
    }
   ],
   "source": [
    "combined_resale_encode_df.info(verbose = True)"
   ]
  },
  {
   "cell_type": "markdown",
   "id": "022e88b8",
   "metadata": {},
   "source": [
    "# Preparing Dataset\n",
    "- The baseline model created in the earlier dataset has a high RMSE score.\n",
    "- Overhere, further analysis will be done on the existing dataset to better understand the data.\n",
    "- Columns will be selected with the intention to understand the impact on the RMSE score."
   ]
  },
  {
   "cell_type": "code",
   "execution_count": 83,
   "id": "39162f90",
   "metadata": {},
   "outputs": [
    {
     "data": {
      "text/plain": [
       "resale_price                 1.000000\n",
       "year                         0.659012\n",
       "floor_area_sqm               0.579518\n",
       "lease_commence_date          0.530745\n",
       "flat_type_5 ROOM             0.341535\n",
       "                               ...   \n",
       "P4_sgd_1000_to_1999         -0.174771\n",
       "P16_hdb_3_room_flats        -0.209059\n",
       "P17_hdb_3_room_flats        -0.212300\n",
       "flat_model_NEW GENERATION   -0.294574\n",
       "flat_type_3 ROOM            -0.483651\n",
       "Name: resale_price, Length: 354, dtype: float64"
      ]
     },
     "execution_count": 83,
     "metadata": {},
     "output_type": "execute_result"
    }
   ],
   "source": [
    "# View Correlation\n",
    "correlations = combined_resale_encode_df.corr()['resale_price']\n",
    "correlations.sort_values(ascending=False)"
   ]
  },
  {
   "cell_type": "code",
   "execution_count": 84,
   "id": "be077b82",
   "metadata": {},
   "outputs": [
    {
     "data": {
      "text/plain": [
       "Index(['year', 'floor_area_sqm', 'lease_commence_date', 'flat_type_3 ROOM',\n",
       "       'flat_type_5 ROOM', 'flat_type_EXECUTIVE', 'flat_model_NEW GENERATION',\n",
       "       'flat_model_Apartment', 'P17_hdb_3_room_flats', 'P16_hdb_3_room_flats',\n",
       "       'flat_model_Maisonette', 'P10_other_combi_mrt_lrt_or_bus',\n",
       "       'flat_model_Premium Apartment', 'P4_sgd_1000_to_1999',\n",
       "       'P7_hotels_restaurants', 'P11_other_combi_mrt_lrt_or_bus',\n",
       "       'P8_no_literate', 'P9_no_literate', 'P5_no_family_nucleus',\n",
       "       'P7_other_services_industries'],\n",
       "      dtype='object')"
      ]
     },
     "execution_count": 84,
     "metadata": {},
     "output_type": "execute_result"
    }
   ],
   "source": [
    "# Get top 20 correlated column names\n",
    "top_20_corr_columns = correlations.abs().nlargest(21).index[1:]\n",
    "top_20_corr_columns"
   ]
  },
  {
   "cell_type": "code",
   "execution_count": 85,
   "id": "f9b21fd1",
   "metadata": {},
   "outputs": [
    {
     "data": {
      "text/plain": [
       "[0.6590118418210379,\n",
       " 0.5795183782379861,\n",
       " 0.530745221065855,\n",
       " 0.3415349152623386,\n",
       " 0.33111386534274356,\n",
       " 0.21280442551714912,\n",
       " 0.20232330678391727,\n",
       " 0.1872457002127427,\n",
       " 0.18333973874356116,\n",
       " 0.168694780054331,\n",
       " 0.16088024270528098,\n",
       " 0.1569400663264152,\n",
       " 0.14159781318847456,\n",
       " 0.14159781318847456,\n",
       " 0.13908953708860228,\n",
       " 0.13186652205102925,\n",
       " 0.13186652205102925,\n",
       " 0.12907408197470774,\n",
       " 0.1272921106767362,\n",
       " 0.12714655053944315]"
      ]
     },
     "execution_count": 85,
     "metadata": {},
     "output_type": "execute_result"
    }
   ],
   "source": [
    "# Sort the list in descending order\n",
    "sorted_list = sorted(correlations, reverse=True)\n",
    "\n",
    "# Get the top 20 values\n",
    "top_20_values = sorted_list[1:21]\n",
    "top_20_values"
   ]
  },
  {
   "cell_type": "markdown",
   "id": "4ed7a02b",
   "metadata": {},
   "source": [
    "# Prepare Dataset with top 20 column\n",
    "\n",
    "- Prepare dataset with top 20 columns with positive correlation"
   ]
  },
  {
   "cell_type": "code",
   "execution_count": 87,
   "id": "e249593f",
   "metadata": {},
   "outputs": [],
   "source": [
    "# selected columns for feature df = \n",
    "selected_df = combined_resale_encode_df[top_20_corr_columns]"
   ]
  },
  {
   "cell_type": "code",
   "execution_count": 88,
   "id": "db81a969",
   "metadata": {},
   "outputs": [
    {
     "name": "stdout",
     "output_type": "stream",
     "text": [
      "<class 'pandas.core.frame.DataFrame'>\n",
      "RangeIndex: 903393 entries, 0 to 903392\n",
      "Data columns (total 20 columns):\n",
      " #   Column                          Non-Null Count   Dtype  \n",
      "---  ------                          --------------   -----  \n",
      " 0   year                            903393 non-null  int64  \n",
      " 1   floor_area_sqm                  903393 non-null  float64\n",
      " 2   lease_commence_date             903393 non-null  int64  \n",
      " 3   flat_type_3 ROOM                903393 non-null  uint8  \n",
      " 4   flat_type_5 ROOM                903393 non-null  uint8  \n",
      " 5   flat_type_EXECUTIVE             903393 non-null  uint8  \n",
      " 6   flat_model_NEW GENERATION       903393 non-null  uint8  \n",
      " 7   flat_model_Apartment            903393 non-null  uint8  \n",
      " 8   P17_hdb_3_room_flats            903393 non-null  float64\n",
      " 9   P16_hdb_3_room_flats            903393 non-null  float64\n",
      " 10  flat_model_Maisonette           903393 non-null  uint8  \n",
      " 11  P10_other_combi_mrt_lrt_or_bus  903393 non-null  float64\n",
      " 12  flat_model_Premium Apartment    903393 non-null  uint8  \n",
      " 13  P4_sgd_1000_to_1999             903393 non-null  float64\n",
      " 14  P7_hotels_restaurants           903393 non-null  float64\n",
      " 15  P11_other_combi_mrt_lrt_or_bus  903393 non-null  float64\n",
      " 16  P8_no_literate                  903393 non-null  float64\n",
      " 17  P9_no_literate                  903393 non-null  float64\n",
      " 18  P5_no_family_nucleus            903393 non-null  float64\n",
      " 19  P7_other_services_industries    903393 non-null  float64\n",
      "dtypes: float64(11), int64(2), uint8(7)\n",
      "memory usage: 95.6 MB\n"
     ]
    }
   ],
   "source": [
    "# validate dataframe information\n",
    "selected_df.info()"
   ]
  },
  {
   "cell_type": "markdown",
   "id": "364c1f21",
   "metadata": {},
   "source": [
    "## Plot Model"
   ]
  },
  {
   "cell_type": "code",
   "execution_count": 89,
   "id": "9831c038",
   "metadata": {},
   "outputs": [],
   "source": [
    "# Set Feature\n",
    "X = selected_df\n",
    "\n",
    "# Set Target Variable\n",
    "y = combined_resale_df['resale_price']"
   ]
  },
  {
   "cell_type": "code",
   "execution_count": 90,
   "id": "05281eb0",
   "metadata": {},
   "outputs": [],
   "source": [
    "# Create Train Test Split \n",
    "X_train, X_test, y_train, y_test = train_test_split(X, y, test_size=0.2, random_state=123)"
   ]
  },
  {
   "cell_type": "code",
   "execution_count": 91,
   "id": "63df9f2b",
   "metadata": {},
   "outputs": [],
   "source": [
    "# Instantiate Linear Regression Model\n",
    "lr = LinearRegression()"
   ]
  },
  {
   "cell_type": "code",
   "execution_count": 92,
   "id": "6dc20b01",
   "metadata": {},
   "outputs": [],
   "source": [
    "# Standardise the predictors\n",
    "# Instantiating Standard Scaler\n",
    "sc = StandardScaler()\n",
    "\n",
    "# Standardise Predictors\n",
    "Z_train = sc.fit_transform(X_train) # standard normal distribution\n",
    "Z_test = sc.transform(X_test)"
   ]
  },
  {
   "cell_type": "code",
   "execution_count": 93,
   "id": "7fd271a3",
   "metadata": {},
   "outputs": [
    {
     "data": {
      "text/plain": [
       "LinearRegression()"
      ]
     },
     "execution_count": 93,
     "metadata": {},
     "output_type": "execute_result"
    }
   ],
   "source": [
    "# Fit the model\n",
    "lr.fit(Z_train,y_train)"
   ]
  },
  {
   "cell_type": "code",
   "execution_count": 94,
   "id": "3190ba9e",
   "metadata": {},
   "outputs": [],
   "source": [
    "# Generate predictions.\n",
    "preds = lr.predict(Z_test)"
   ]
  },
  {
   "cell_type": "code",
   "execution_count": 95,
   "id": "0e2b5cad",
   "metadata": {},
   "outputs": [
    {
     "name": "stdout",
     "output_type": "stream",
     "text": [
      "74171.98501693807 74060.68298527724\n"
     ]
    }
   ],
   "source": [
    "y_pred_train = lr.predict(Z_train)\n",
    "y_pred_test = lr.predict(Z_test)\n",
    "\n",
    "rmse_train = mean_squared_error(y_true =y_train, y_pred=y_pred_train, squared=False)\n",
    "rmse_test = mean_squared_error(y_true =y_test, y_pred=y_pred_test, squared=False)\n",
    "\n",
    "print(rmse_train, rmse_test)"
   ]
  },
  {
   "cell_type": "markdown",
   "id": "0e7c1296",
   "metadata": {},
   "source": [
    "- Observed that RMSE score has increased.\n",
    "- This implies that the top 20 features for positive correlation is not sufficient to accurately predict the resale_price"
   ]
  },
  {
   "cell_type": "markdown",
   "id": "8d66db3a",
   "metadata": {},
   "source": [
    "# Prepare dataset "
   ]
  },
  {
   "cell_type": "code",
   "execution_count": 100,
   "id": "bee71a72",
   "metadata": {},
   "outputs": [
    {
     "data": {
      "text/plain": [
       "Index(['year', 'floor_area_sqm', 'lease_commence_date', 'flat_type_3 ROOM',\n",
       "       'flat_type_5 ROOM', 'flat_type_EXECUTIVE', 'flat_model_NEW GENERATION',\n",
       "       'flat_model_Apartment', 'P17_hdb_3_room_flats', 'P16_hdb_3_room_flats',\n",
       "       ...\n",
       "       'P4_sgd_12000_to_12999', 'P4_sgd_7000_to_7999',\n",
       "       'P7_health_social_services', 'storey_range_07 TO 09',\n",
       "       'planning_area_SEMBAWANG', 'town_SEMBAWANG', 'storey_range_06 TO 10',\n",
       "       'P14_mand_oth_lang', 'P7_professional_services',\n",
       "       'P16_hdb_4_room_flats'],\n",
       "      dtype='object', length=230)"
      ]
     },
     "execution_count": 100,
     "metadata": {},
     "output_type": "execute_result"
    }
   ],
   "source": [
    "# Get top 100 correlated column names\n",
    "top_X_corr_columns = correlations.abs().nlargest(231).index[1:]\n",
    "top_X_corr_columns"
   ]
  },
  {
   "cell_type": "code",
   "execution_count": 101,
   "id": "a765a130",
   "metadata": {},
   "outputs": [
    {
     "data": {
      "text/plain": [
       "flat_type_3 ROOM            -0.483651\n",
       "flat_model_NEW GENERATION   -0.294574\n",
       "P17_hdb_3_room_flats        -0.212300\n",
       "P16_hdb_3_room_flats        -0.209059\n",
       "P4_sgd_1000_to_1999         -0.174771\n",
       "                               ...   \n",
       "flat_type_5 ROOM             0.341535\n",
       "lease_commence_date          0.530745\n",
       "floor_area_sqm               0.579518\n",
       "year                         0.659012\n",
       "resale_price                 1.000000\n",
       "Name: resale_price, Length: 354, dtype: float64"
      ]
     },
     "execution_count": 101,
     "metadata": {},
     "output_type": "execute_result"
    }
   ],
   "source": [
    "correlations.sort_values(ascending=True)"
   ]
  },
  {
   "cell_type": "code",
   "execution_count": 102,
   "id": "f0b668e3",
   "metadata": {},
   "outputs": [
    {
     "name": "stdout",
     "output_type": "stream",
     "text": [
      "year\n",
      "floor_area_sqm\n",
      "lease_commence_date\n",
      "flat_type_3 ROOM\n",
      "flat_type_5 ROOM\n",
      "flat_type_EXECUTIVE\n",
      "flat_model_NEW GENERATION\n",
      "flat_model_Apartment\n",
      "P17_hdb_3_room_flats\n",
      "P16_hdb_3_room_flats\n",
      "flat_model_Maisonette\n",
      "P10_other_combi_mrt_lrt_or_bus\n",
      "flat_model_Premium Apartment\n",
      "P4_sgd_1000_to_1999\n",
      "P7_hotels_restaurants\n",
      "P11_other_combi_mrt_lrt_or_bus\n",
      "P8_no_literate\n",
      "P9_no_literate\n",
      "P5_no_family_nucleus\n",
      "P7_other_services_industries\n",
      "flat_model_IMPROVED\n",
      "P16_others\n",
      "flat_model_Improved\n",
      "P4_below_sgd_1000\n",
      "flat_model_DBSS\n",
      "P6_sgd_1000_to_1499\n",
      "P7_business_services\n",
      "P4_sgd_2000_to_2999\n",
      "P4_no_working_person\n",
      "P8_l1_chi\n",
      "P9_l1_chi\n",
      "P14_chinese_dialects\n",
      "town_PUNGGOL\n",
      "planning_area_PUNGGOL\n",
      "P11_other_combi_mrt_or_bus\n",
      "P14_oth_lang_oth_non_eng_lang\n",
      "P12_age_70_74\n",
      "P12_age_65_69\n",
      "flat_model_MODEL A\n",
      "P15_others\n",
      "flat_model_SIMPLIFIED\n",
      "P12_age_75_79\n",
      "town_SENGKANG\n",
      "planning_area_SENGKANG\n",
      "P4_sgd_3000_to_3999\n",
      "P8_l1_tam\n",
      "P9_l1_tam\n",
      "flat_model_Model A\n",
      "latitude\n",
      "longitude\n",
      "P13_taoism\n",
      "P14_tamil\n",
      "P12_age_80_84\n",
      "P12_age_60_64\n",
      "P6_below_sgd_1000\n",
      "flat_model_STANDARD\n",
      "P8_l1_non_off\n",
      "P9_l1_non_off\n",
      "P8_l1_mal\n",
      "P9_l1_mal\n",
      "flat_type_2 ROOM\n",
      "P12_age_85_over\n",
      "P15_tenant\n",
      "P8_l3_eng_mal_tam\n",
      "P9_l3_eng_mal_tam\n",
      "P12_age_55_59\n",
      "P11_lorry_pickup\n",
      "flat_model_New Generation\n",
      "P1_unemployed\n",
      "storey_range_16 TO 18\n",
      "P11_no_transport_required\n",
      "P4_sgd_4000_to_4999\n",
      "P5_three_more_fam_nucleus\n",
      "P1_inactive\n",
      "P6_sgd_2000_to_2499\n",
      "P11_mrt_bus\n",
      "P4_sgd_8000_over\n",
      "P7_accommodation_food_services\n",
      "planning_area_PASIR RIS\n",
      "P17_others\n",
      "P13_hinduism\n",
      "P8_l2_other_two\n",
      "P9_l2_other_two\n",
      "town_PASIR RIS\n",
      "P7_construction\n",
      "P12_age_50_54\n",
      "P12_age_25_29\n",
      "P3_indian\n",
      "storey_range_22 TO 24\n",
      "P10_other_combi_mrt_or_bus\n",
      "P8_l2_eng_tam\n",
      "P9_l2_eng_tam\n",
      "P6_sgd_2500_to_2999\n",
      "P4_total\n",
      "storey_range_28 TO 30\n",
      "town_BISHAN\n",
      "planning_area_BISHAN\n",
      "P14_mandarin\n",
      "P6_sgd_6000_over\n",
      "P7_admin_support_services\n",
      "P13_buddhism\n",
      "flat_model_APARTMENT\n",
      "storey_range_25 TO 27\n",
      "P14_chn_dlt_mand\n",
      "P12_age_20_24\n",
      "storey_range_19 TO 21\n",
      "P14_others\n",
      "P7_transport_communications\n",
      "P14_mly_oth_lang\n",
      "P12_age_45_49\n",
      "storey_range_13 TO 15\n",
      "P4_sgd_5000_to_5999\n",
      "P5_ofn_1_gen\n",
      "P11_bus\n",
      "P11_pvt_chartered_bus\n",
      "P10_mrt_car\n",
      "P5_tfn_1to2_gen\n",
      "P17_total\n",
      "P15_owner\n",
      "P11_mrt_other\n",
      "P14_eng_mand\n",
      "P7_manufacturing\n",
      "town_YISHUN\n",
      "planning_area_YISHUN\n",
      "P7_other_comm_social_personal\n",
      "P3_chinese\n",
      "P16_total_hdb\n",
      "flat_model_Type S1\n",
      "P8_l1_eng\n",
      "P9_l1_eng\n",
      "P8_l3_eng_chi_mal\n",
      "P9_l3_eng_chi_mal\n",
      "P17_landed_properties\n",
      "flat_model_MAISONETTE\n",
      "P8_l3_other_three\n",
      "P9_l3_other_three\n",
      "P10_mrt_other\n",
      "P11_mrt\n",
      "P13_other_religions\n",
      "P16_landed_properties\n",
      "storey_range_34 TO 36\n",
      "P2_post_secondary\n",
      "storey_range_31 TO 33\n",
      "P7_wholesale_retail_trade\n",
      "P10_bus\n",
      "P10_mrt\n",
      "storey_range_37 TO 39\n",
      "P7_others\n",
      "P12_age_40_44\n",
      "P12_age_15_19\n",
      "P6_sgd_12000_14999\n",
      "town_BEDOK\n",
      "planning_area_BEDOK\n",
      "P6_total\n",
      "P1_employed\n",
      "P17_total_hdb\n",
      "P4_sgd_6000_to_6999\n",
      "P14_tml_eng\n",
      "P5_ofn_2_gen\n",
      "P5_tfn_3_more_gen\n",
      "flat_model_Type S2\n",
      "P13_no_religion\n",
      "P11_others\n",
      "P10_motorcycle_scooter\n",
      "P14_malay\n",
      "P16_hdb_5_room_and_executive_flats\n",
      "P14_other_indian_languages\n",
      "P10_mrt_bus\n",
      "P4_sgd_15000_to_17499\n",
      "P6_sgd_3000_to_3999\n",
      "P4_sgd_14000_to_14999\n",
      "P6_sgd_1000_to_1999\n",
      "P6_sgd_1000_to_1999.1\n",
      "P5_ofn_3_more_gen\n",
      "P17_hdb_1_and_2_room_flats\n",
      "storey_range_04 TO 06\n",
      "P13_sikhism\n",
      "P10_pvt_chartered_bus\n",
      "P14_eng_oth_lang\n",
      "planning_area_BUKIT BATOK\n",
      "P3_others\n",
      "P14_mand_chn_dlt\n",
      "P12_age_10_14\n",
      "P6_sgd_8000_to_8999\n",
      "town_BUKIT BATOK\n",
      "flat_model_Simplified\n",
      "P2_university\n",
      "storey_range_40 TO 42\n",
      "P14_chn_dlt_oth_lang\n",
      "P12_age_30_34\n",
      "P7_real_estate_services\n",
      "P4_sgd_17500_to_19999\n",
      "P2_secondary\n",
      "P16_hdb_1_and_2_room_flats\n",
      "P13_other_christians\n",
      "P16_condominiums_and_other_apartments\n",
      "P10_mrt_lrt_only\n",
      "P11_mrt_car\n",
      "P6_sgd_11000_to_11999\n",
      "P11_motorcycle_scooter\n",
      "P13_islam\n",
      "P6_sgd_8000_over\n",
      "P17_hdb_5_room_and_executive_flats\n",
      "P6_sgd_2000_to_2999\n",
      "P14_chn_dlt_eng\n",
      "P12_age_35_39\n",
      "P10_taxi\n",
      "P17_hdb_4_room_flats\n",
      "P17_condominiums_and_other_apartments\n",
      "flat_model_Model A-Maisonette\n",
      "P6_sgd_10000_to_10999\n",
      "P14_tml_oth_lang\n",
      "P3_malays\n",
      "P6_sgd_9000_to_9999\n",
      "town_GEYLANG\n",
      "planning_area_GEYLANG\n",
      "P4_sgd_10000_over\n",
      "P8_l2_eng_chi\n",
      "P9_l2_eng_chi\n",
      "P11_pvt_chartered_bus_van\n",
      "P4_sgd_12000_to_12999\n",
      "P4_sgd_7000_to_7999\n",
      "P7_health_social_services\n",
      "storey_range_07 TO 09\n",
      "planning_area_SEMBAWANG\n",
      "town_SEMBAWANG\n",
      "storey_range_06 TO 10\n",
      "P14_mand_oth_lang\n",
      "P7_professional_services\n",
      "P16_hdb_4_room_flats\n"
     ]
    }
   ],
   "source": [
    "for i in top_X_corr_columns:\n",
    "    print(i)"
   ]
  },
  {
   "cell_type": "code",
   "execution_count": 103,
   "id": "ef5a6058",
   "metadata": {},
   "outputs": [
    {
     "name": "stdout",
     "output_type": "stream",
     "text": [
      "<class 'pandas.core.frame.DataFrame'>\n",
      "RangeIndex: 903393 entries, 0 to 903392\n",
      "Columns: 230 entries, year to P16_hdb_4_room_flats\n",
      "dtypes: float64(175), int64(2), uint8(53)\n",
      "memory usage: 1.2 GB\n"
     ]
    }
   ],
   "source": [
    "\n",
    "X1 = combined_resale_encode_df[top_X_corr_columns]\n",
    "X1.info()"
   ]
  },
  {
   "cell_type": "code",
   "execution_count": 114,
   "id": "b317ae99",
   "metadata": {},
   "outputs": [
    {
     "name": "stdout",
     "output_type": "stream",
     "text": [
      "62485.54218515248 62320.14736717654\n"
     ]
    }
   ],
   "source": [
    "# Set Feature\n",
    "# X1 = combined_resale_df[['year','lease_commence_date', 'floor_area_sqm'\n",
    "#                          ,'P11_other_combi_mrt_lrt_or_bus','P7_hotels_restaurants'\n",
    "#                          ,'P7_business_services','P8_l1_chi'\n",
    "#                          ]]#floor_area_sqm\n",
    "\n",
    "# Get top 100 correlated column names\n",
    "top_X_corr_columns = correlations.abs().nlargest(353).index[1:]\n",
    "\n",
    "\n",
    "X1 = combined_resale_encode_df[top_X_corr_columns]\n",
    "\n",
    "# Set Target Variable\n",
    "y1 = combined_resale_encode_df['resale_price']\n",
    "\n",
    "# Create Train Test Split \n",
    "X_train1, X_test1, y_train1, y_test1 = train_test_split(X1, y1, test_size=0.2, random_state=123)\n",
    "\n",
    "# Instantiate Linear Regression Model\n",
    "lr1 = LinearRegression()\n",
    "\n",
    "# Standardise the predictors\n",
    "# Instantiating Standard Scaler\n",
    "sc = StandardScaler()\n",
    "\n",
    "# Standardise Predictors\n",
    "Z_train1 = sc.fit_transform(X_train1) # standard normal distribution\n",
    "Z_test1 = sc.transform(X_test1)\n",
    "\n",
    "# Fit the model\n",
    "lr1.fit(Z_train1,y_train1)\n",
    "\n",
    "# Generate predictions.\n",
    "preds1 = lr1.predict(Z_test1)\n",
    "\n",
    "y_pred_train1 = lr1.predict(Z_train1)\n",
    "y_pred_test1 = lr1.predict(Z_test1)\n",
    "\n",
    "rmse_train1 = mean_squared_error(y_true =y_train1, y_pred=y_pred_train1, squared=False)\n",
    "rmse_test1 = mean_squared_error(y_true =y_test1, y_pred=y_pred_test1, squared=False)\n",
    "\n",
    "print(rmse_train1, rmse_test1) #62485.5423041087 62320.17669199029\n",
    "\n",
    "# 353, 62485.54218515248 62320.14736717654"
   ]
  },
  {
   "cell_type": "markdown",
   "id": "e4c98725",
   "metadata": {},
   "source": [
    "- Observed that setting the number of columns to 363 resulted in slightly better RMSE train and test score of 62485.5421 and62320.1473 resepectively compared to 62485.5423 and 62320.1766 when X is set as 364.\n",
    "- This indicates that even though there are large amount of features, there is no clear feature which can reduce the RMSE score.\n",
    "- This indicates that there are probably other variables that affect the Resale Price."
   ]
  },
  {
   "cell_type": "markdown",
   "id": "5855882c",
   "metadata": {},
   "source": [
    "# View Relationship of Data\n"
   ]
  },
  {
   "cell_type": "markdown",
   "id": "0f171868",
   "metadata": {},
   "source": [
    "## Load Dataset"
   ]
  },
  {
   "cell_type": "code",
   "execution_count": 118,
   "id": "1b69897b",
   "metadata": {},
   "outputs": [],
   "source": [
    "# Load Dataset before encode\n",
    "combined_resale_df = pd.read_pickle('../assets/data_clean/resale_combine_clean.pkl')"
   ]
  },
  {
   "cell_type": "markdown",
   "id": "110b0c43",
   "metadata": {},
   "source": [
    "## Year and Resale Price"
   ]
  },
  {
   "cell_type": "code",
   "execution_count": 130,
   "id": "63e76ddd",
   "metadata": {},
   "outputs": [],
   "source": [
    "# Calculate average price of resale flat grouped by town\n",
    "average_price_by_year = combined_resale_df.groupby('year')['resale_price'].mean()\n",
    "\n",
    "# convert series to df\n",
    "average_price_by_year_df = pd.DataFrame(average_price_by_year).reset_index(drop=False)"
   ]
  },
  {
   "cell_type": "code",
   "execution_count": 131,
   "id": "cd30a738",
   "metadata": {},
   "outputs": [
    {
     "name": "stdout",
     "output_type": "stream",
     "text": [
      "<class 'pandas.core.frame.DataFrame'>\n",
      "RangeIndex: 34 entries, 0 to 33\n",
      "Data columns (total 2 columns):\n",
      " #   Column        Non-Null Count  Dtype  \n",
      "---  ------        --------------  -----  \n",
      " 0   year          34 non-null     int64  \n",
      " 1   resale_price  34 non-null     float64\n",
      "dtypes: float64(1), int64(1)\n",
      "memory usage: 672.0 bytes\n"
     ]
    }
   ],
   "source": [
    "average_price_by_year_df.info()"
   ]
  },
  {
   "cell_type": "code",
   "execution_count": 132,
   "id": "f8094d84",
   "metadata": {},
   "outputs": [
    {
     "data": {
      "text/plain": [
       "Text(0, 0.5, 'Resale Price')"
      ]
     },
     "execution_count": 132,
     "metadata": {},
     "output_type": "execute_result"
    },
    {
     "data": {
      "image/png": "[encoded data removed]",
      "text/plain": [
       "<Figure size 1152x648 with 1 Axes>"
      ]
     },
     "metadata": {
      "needs_background": "light"
     },
     "output_type": "display_data"
    }
   ],
   "source": [
    "# Plot\n",
    "plt.figure(figsize = (16, 9))\n",
    "plt.plot(average_price_by_year_df['year'],average_price_by_year_df['resale_price'])\n",
    "plt.title('Trend of Data between Resale Price and Year',fontsize=14, fontweight='bold')\n",
    "plt.xlabel('Year', fontsize =13)\n",
    "plt.ylabel('Resale Price', fontsize =13)"
   ]
  },
  {
   "cell_type": "markdown",
   "id": "267bd781",
   "metadata": {},
   "source": [
    "- Resale Price shows an increasing trend across the years."
   ]
  },
  {
   "cell_type": "markdown",
   "id": "ff8704f3",
   "metadata": {},
   "source": [
    "## Year and Square Foot"
   ]
  },
  {
   "cell_type": "code",
   "execution_count": 136,
   "id": "c51ecdf2",
   "metadata": {},
   "outputs": [],
   "source": [
    "# calculate Average Value\n",
    "average_by_year_sqft = combined_resale_df.groupby('year')[['floor_area_sqm']].mean()\n",
    "\n",
    "# convert series to df\n",
    "average_by_year_sqft_df = pd.DataFrame(average_by_year_sqft).reset_index(drop=False)"
   ]
  },
  {
   "cell_type": "code",
   "execution_count": 141,
   "id": "a06e01c6",
   "metadata": {},
   "outputs": [
    {
     "data": {
      "text/plain": [
       "Text(0, 0.5, 'Floor Area Sqm')"
      ]
     },
     "execution_count": 141,
     "metadata": {},
     "output_type": "execute_result"
    },
    {
     "data": {
      "image/png": "[encoded data removed]",
      "text/plain": [
       "<Figure size 1152x648 with 1 Axes>"
      ]
     },
     "metadata": {
      "needs_background": "light"
     },
     "output_type": "display_data"
    }
   ],
   "source": [
    "# Plot\n",
    "plt.figure(figsize = (16, 9))\n",
    "plt.plot(average_by_year_sqft_df['year'],average_by_year_sqft_df['floor_area_sqm'], label = 'Floor Area Square Feet')\n",
    "\n",
    "plt.title('Trend of Data between Floor Area Sqm and Year',fontsize=14, fontweight='bold')\n",
    "plt.xlabel('Year', fontsize =13)\n",
    "plt.ylabel('Floor Area Sqm', fontsize =13)"
   ]
  },
  {
   "cell_type": "markdown",
   "id": "db58e1db",
   "metadata": {},
   "source": [
    "- Observed that floor area sqm has increased over the years but reach the larger size across 2000."
   ]
  },
  {
   "cell_type": "markdown",
   "id": "c0fad721",
   "metadata": {},
   "source": [
    "## Town and Square Feet"
   ]
  },
  {
   "cell_type": "code",
   "execution_count": 150,
   "id": "8905a584",
   "metadata": {},
   "outputs": [],
   "source": [
    "# calculate Average Value\n",
    "average_by_town_sqft = combined_resale_df.groupby('town')[['floor_area_sqm']].mean()\n",
    "\n",
    "# convert series to df\n",
    "average_by_town_sqft_df = pd.DataFrame(average_by_town_sqft).reset_index(drop=False)"
   ]
  },
  {
   "cell_type": "code",
   "execution_count": 151,
   "id": "dc5c5cc7",
   "metadata": {
    "scrolled": true
   },
   "outputs": [
    {
     "data": {
      "text/plain": [
       "Text(0, 0.5, 'Floor Area Sqm')"
      ]
     },
     "execution_count": 151,
     "metadata": {},
     "output_type": "execute_result"
    },
    {
     "data": {
      "image/png": "[encoded data removed]",
      "text/plain": [
       "<Figure size 1152x648 with 1 Axes>"
      ]
     },
     "metadata": {
      "needs_background": "light"
     },
     "output_type": "display_data"
    }
   ],
   "source": [
    "# Plot\n",
    "plt.figure(figsize = (16, 9))\n",
    "plt.plot(average_by_town_sqft_df['town'],average_by_town_sqft_df['floor_area_sqm'], label = 'Floor Area Square Feet')\n",
    "\n",
    "plt.title('Trend of Data between Floor Area Sqm and Town',fontsize=14, fontweight='bold')\n",
    "plt.xticks(rotation=90)\n",
    "plt.xlabel('town', fontsize =13)\n",
    "plt.ylabel('Floor Area Sqm', fontsize =13)"
   ]
  },
  {
   "cell_type": "markdown",
   "id": "92050098",
   "metadata": {},
   "source": [
    "- Observed that flat size differs across different town.\n",
    "- Pasir Ris has the largest resale flat size, followed by Woodlands and Choa Chu Kang.\n"
   ]
  },
  {
   "cell_type": "markdown",
   "id": "aa5c0ee7",
   "metadata": {},
   "source": [
    "# Summary"
   ]
  },
  {
   "cell_type": "markdown",
   "id": "0a276d39",
   "metadata": {},
   "source": [
    "# Model results and analysis"
   ]
  },
  {
   "cell_type": "markdown",
   "id": "860e1a20",
   "metadata": {},
   "source": [
    "The modelling results are as follows:\n",
    "- Linear regression will be represented br 'lr'\n",
    "- Lasso Regression will be represented by 'ls'\n",
    "- Ridge regression will be presented by 'rg'"
   ]
  },
  {
   "cell_type": "markdown",
   "id": "9647f781",
   "metadata": {},
   "source": [
    "|            |lr_r2  | lr_score | ls_alpha10_RMSE| rg_alpha10_RMSE | ls_alpha1_RMSE |  rg_alpha1_RMSE |\n",
    "|------------|-------|----------|----------------|-----------------|----------------|-----------------|\n",
    "|**Train**   |0.8558 | 0.8559   | 62498.197      | 62485.633       | 62488.602      | 62485.5270      |\n",
    "|**Test**    |0.8558 | 0.85596  | 62333.025      | 62320.400       | 62322.953      | 62320.3802      |\n"
   ]
  },
  {
   "cell_type": "markdown",
   "id": "9defed5d",
   "metadata": {},
   "source": [
    "Observed that in modelling the data, there are neglible changes between the RMSE Train and RMSE Test Score.\n",
    "- The best performing model is Ridge Regression where alpha is set as 1."
   ]
  },
  {
   "cell_type": "markdown",
   "id": "dc678ff7",
   "metadata": {},
   "source": [
    "## Overall Analysis"
   ]
  },
  {
   "cell_type": "markdown",
   "id": "1f0c8289",
   "metadata": {},
   "source": [
    "- The data has a high number of features. This results in high variance and low biasesness. The data is less likely to be overfitted.\n",
    "- This is also in in the r2 score which shows that both Train and Test has similar school, indicated that the data is not overfitted.\n"
   ]
  },
  {
   "cell_type": "markdown",
   "id": "a0f2a05c",
   "metadata": {},
   "source": [
    "## Conclusion and Recommendation"
   ]
  },
  {
   "cell_type": "markdown",
   "id": "15dfff9b",
   "metadata": {},
   "source": [
    "- After modelling and doing analysis on the data, it is concluded that the current amount of data is insufficient to model accurately with low RMSE score. \n",
    "- The dataset used has multiple features and several insights can be derived such as:\n",
    "    - Overall resale flat price has increased across the years.\n",
    "    - Pasir Ris has larger flats followed by Woodlands and Choa Chu Kang. Should floor size be of priority. These areas can be considered when purchasing a flat.\n",
    "    - Resale flat size has overall increase between 1990 to 2000. After 2000, the size of resale flat has not increase drastically and fluctuates above 95sqm"
   ]
  },
  {
   "cell_type": "markdown",
   "id": "0d3dc3f2",
   "metadata": {},
   "source": [
    "## Model Limitation and Next Steps"
   ]
  },
  {
   "cell_type": "markdown",
   "id": "e415b1b3",
   "metadata": {},
   "source": [
    "- Current features are insufficient to model the data to a higher RMSE score\n",
    "- Next Step:\n",
    "    - Create a new price column to take into account inflation across the years.\n",
    "    - Retrieve Latitude and Longitude on places of interest. Distance can be calculate between the resale flat and places of interest to be used for analysis.\n",
    "    - Further Analysis and get insights from the features such as education, religion, population literacy, spoken language\n",
    "    - Explore different models such as Prophet and Time Series Analysis."
   ]
  }
 ],
 "metadata": {
  "kernelspec": {
   "display_name": "Python 3 (ipykernel)",
   "language": "python",
   "name": "python3"
  },
  "language_info": {
   "codemirror_mode": {
    "name": "ipython",
    "version": 3
   },
   "file_extension": ".py",
   "mimetype": "text/x-python",
   "name": "python",
   "nbconvert_exporter": "python",
   "pygments_lexer": "ipython3",
   "version": "3.9.12"
  }
 },
 "nbformat": 4,
 "nbformat_minor": 5
}
